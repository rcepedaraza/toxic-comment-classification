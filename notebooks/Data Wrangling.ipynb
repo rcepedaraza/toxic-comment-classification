{
 "cells": [
  {
   "cell_type": "markdown",
   "id": "83e9ee93",
   "metadata": {},
   "source": [
    "## Introduction"
   ]
  },
  {
   "cell_type": "markdown",
   "id": "89ad43d1",
   "metadata": {},
   "source": [
    "This step focuses on collecting the data, organizing it, and making sure it's well defined. \n",
    "\n",
    "The data comes from a large number of Wikipedia comments which have been labeled by human raters for toxic behavior. The types of toxicity are:\n",
    "* `toxic`\n",
    "* `severe_toxic`\n",
    "* `obscene`\n",
    "* `threat`\n",
    "* `insult`\n",
    "* `identity_hate`"
   ]
  },
  {
   "cell_type": "markdown",
   "id": "5d9a37cc",
   "metadata": {},
   "source": [
    "### Objective"
   ]
  },
  {
   "cell_type": "markdown",
   "id": "1b83291a",
   "metadata": {},
   "source": [
    "Create a model which predicts a probability of each type of toxicity for each comment."
   ]
  },
  {
   "cell_type": "markdown",
   "id": "6c7d69af",
   "metadata": {},
   "source": [
    "### Import Libraries"
   ]
  },
  {
   "cell_type": "code",
   "execution_count": 1,
   "id": "4beaf629",
   "metadata": {},
   "outputs": [],
   "source": [
    "import pandas as pd\n",
    "import os\n",
    "import matplotlib.pyplot as plt\n",
    "import numpy as np\n",
    "import random\n",
    "import seaborn as sns\n",
    "import matplotlib as mpl\n",
    "\n",
    "mpl.style.use(\"seaborn\")\n",
    "# mpl.rcParams[\"figure.dpi\"] = 100"
   ]
  },
  {
   "cell_type": "markdown",
   "id": "14da437b",
   "metadata": {},
   "source": [
    "### Data Collection"
   ]
  },
  {
   "cell_type": "markdown",
   "id": "b636c385",
   "metadata": {},
   "source": [
    "Goal: Organize data to streamline the next steps."
   ]
  },
  {
   "cell_type": "code",
   "execution_count": 2,
   "id": "f54f7985",
   "metadata": {},
   "outputs": [
    {
     "data": {
      "text/html": [
       "<div>\n",
       "<style scoped>\n",
       "    .dataframe tbody tr th:only-of-type {\n",
       "        vertical-align: middle;\n",
       "    }\n",
       "\n",
       "    .dataframe tbody tr th {\n",
       "        vertical-align: top;\n",
       "    }\n",
       "\n",
       "    .dataframe thead th {\n",
       "        text-align: right;\n",
       "    }\n",
       "</style>\n",
       "<table border=\"1\" class=\"dataframe\">\n",
       "  <thead>\n",
       "    <tr style=\"text-align: right;\">\n",
       "      <th></th>\n",
       "      <th>id</th>\n",
       "      <th>comment_text</th>\n",
       "      <th>toxic</th>\n",
       "      <th>severe_toxic</th>\n",
       "      <th>obscene</th>\n",
       "      <th>threat</th>\n",
       "      <th>insult</th>\n",
       "      <th>identity_hate</th>\n",
       "    </tr>\n",
       "  </thead>\n",
       "  <tbody>\n",
       "    <tr>\n",
       "      <th>36357</th>\n",
       "      <td>611f7984afa841b7</td>\n",
       "      <td>Don't be rude  i did nothing  disruptive , as ...</td>\n",
       "      <td>0</td>\n",
       "      <td>0</td>\n",
       "      <td>0</td>\n",
       "      <td>0</td>\n",
       "      <td>0</td>\n",
       "      <td>0</td>\n",
       "    </tr>\n",
       "    <tr>\n",
       "      <th>42094</th>\n",
       "      <td>704e8487c6a316d4</td>\n",
       "      <td>\"\\nWhat do you mean by \"\"pro-Georgian\"\"? Just ...</td>\n",
       "      <td>0</td>\n",
       "      <td>0</td>\n",
       "      <td>0</td>\n",
       "      <td>0</td>\n",
       "      <td>0</td>\n",
       "      <td>0</td>\n",
       "    </tr>\n",
       "    <tr>\n",
       "      <th>155495</th>\n",
       "      <td>bec805664f99818c</td>\n",
       "      <td>thanks, but no thanks. i don't have time like ...</td>\n",
       "      <td>1</td>\n",
       "      <td>0</td>\n",
       "      <td>0</td>\n",
       "      <td>0</td>\n",
       "      <td>0</td>\n",
       "      <td>0</td>\n",
       "    </tr>\n",
       "    <tr>\n",
       "      <th>114813</th>\n",
       "      <td>65fb27669c03c8c3</td>\n",
       "      <td>\"\\nWhat I may or may not know is not the issue...</td>\n",
       "      <td>0</td>\n",
       "      <td>0</td>\n",
       "      <td>0</td>\n",
       "      <td>0</td>\n",
       "      <td>0</td>\n",
       "      <td>0</td>\n",
       "    </tr>\n",
       "    <tr>\n",
       "      <th>129115</th>\n",
       "      <td>b2871783c8b1e25d</td>\n",
       "      <td>\"\\n\\nYeah, you've got a bit of a point there. ...</td>\n",
       "      <td>0</td>\n",
       "      <td>0</td>\n",
       "      <td>0</td>\n",
       "      <td>0</td>\n",
       "      <td>0</td>\n",
       "      <td>0</td>\n",
       "    </tr>\n",
       "  </tbody>\n",
       "</table>\n",
       "</div>"
      ],
      "text/plain": [
       "                      id                                       comment_text  \\\n",
       "36357   611f7984afa841b7  Don't be rude  i did nothing  disruptive , as ...   \n",
       "42094   704e8487c6a316d4  \"\\nWhat do you mean by \"\"pro-Georgian\"\"? Just ...   \n",
       "155495  bec805664f99818c  thanks, but no thanks. i don't have time like ...   \n",
       "114813  65fb27669c03c8c3  \"\\nWhat I may or may not know is not the issue...   \n",
       "129115  b2871783c8b1e25d  \"\\n\\nYeah, you've got a bit of a point there. ...   \n",
       "\n",
       "        toxic  severe_toxic  obscene  threat  insult  identity_hate  \n",
       "36357       0             0        0       0       0              0  \n",
       "42094       0             0        0       0       0              0  \n",
       "155495      1             0        0       0       0              0  \n",
       "114813      0             0        0       0       0              0  \n",
       "129115      0             0        0       0       0              0  "
      ]
     },
     "execution_count": 2,
     "metadata": {},
     "output_type": "execute_result"
    }
   ],
   "source": [
    "raw_train_data = pd.read_csv(\"../data/train.csv\")\n",
    "raw_train_data.sample(5)"
   ]
  },
  {
   "cell_type": "markdown",
   "id": "65447630",
   "metadata": {},
   "source": [
    "### Data Definition"
   ]
  },
  {
   "cell_type": "markdown",
   "id": "b069ce4b",
   "metadata": {},
   "source": [
    "Goal: Gain an understanding of the data features"
   ]
  },
  {
   "cell_type": "code",
   "execution_count": 3,
   "id": "6bae5b20",
   "metadata": {},
   "outputs": [
    {
     "data": {
      "text/plain": [
       "\"A translation is better than nothing at all. I'm sure other arabic Wikipedians can proofread your translation and improve it if needed. |Talk 11:21, 30 Sept, 2006 (UTC)\""
      ]
     },
     "execution_count": 3,
     "metadata": {},
     "output_type": "execute_result"
    }
   ],
   "source": [
    "# Here is an example of a comment\n",
    "raw_train_data['comment_text'][random.randint(0, raw_train_data.shape[0])]"
   ]
  },
  {
   "cell_type": "markdown",
   "id": "603f6429",
   "metadata": {},
   "source": [
    "Identify column names that will be used for prediction"
   ]
  },
  {
   "cell_type": "code",
   "execution_count": 4,
   "id": "b7c102a0",
   "metadata": {},
   "outputs": [
    {
     "name": "stdout",
     "output_type": "stream",
     "text": [
      "['toxic', 'severe_toxic', 'obscene', 'threat', 'insult', 'identity_hate']\n"
     ]
    }
   ],
   "source": [
    "# Create a list of labels to predict\n",
    "labels_to_predict = list(raw_train_data.columns[2:])\n",
    "print(labels_to_predict)"
   ]
  },
  {
   "cell_type": "markdown",
   "id": "b630c1d8",
   "metadata": {},
   "source": [
    "Explore what are the data types for each column of the dataset"
   ]
  },
  {
   "cell_type": "code",
   "execution_count": 5,
   "id": "01114e65",
   "metadata": {},
   "outputs": [
    {
     "name": "stdout",
     "output_type": "stream",
     "text": [
      "<class 'pandas.core.frame.DataFrame'>\n",
      "RangeIndex: 159571 entries, 0 to 159570\n",
      "Data columns (total 8 columns):\n",
      " #   Column         Non-Null Count   Dtype \n",
      "---  ------         --------------   ----- \n",
      " 0   id             159571 non-null  object\n",
      " 1   comment_text   159571 non-null  object\n",
      " 2   toxic          159571 non-null  int64 \n",
      " 3   severe_toxic   159571 non-null  int64 \n",
      " 4   obscene        159571 non-null  int64 \n",
      " 5   threat         159571 non-null  int64 \n",
      " 6   insult         159571 non-null  int64 \n",
      " 7   identity_hate  159571 non-null  int64 \n",
      "dtypes: int64(6), object(2)\n",
      "memory usage: 9.7+ MB\n"
     ]
    }
   ],
   "source": [
    "# call info to see a summary of the data\n",
    "raw_train_data.info()"
   ]
  },
  {
   "cell_type": "markdown",
   "id": "f693652e",
   "metadata": {},
   "source": [
    "Only the column`comment_text`is not numerical, the rest of columns are integers. We will have to change from integers to floats to predict the probability of each type."
   ]
  },
  {
   "cell_type": "code",
   "execution_count": 6,
   "id": "4bff9fd7",
   "metadata": {},
   "outputs": [],
   "source": [
    "comments_len = raw_train_data['comment_text'].str.len()"
   ]
  },
  {
   "cell_type": "markdown",
   "id": "8061c0f1",
   "metadata": {},
   "source": [
    "Unique values for each column"
   ]
  },
  {
   "cell_type": "code",
   "execution_count": 7,
   "id": "a8d45bdc",
   "metadata": {},
   "outputs": [
    {
     "name": "stdout",
     "output_type": "stream",
     "text": [
      "0    144277\n",
      "1     15294\n",
      "Name: toxic, dtype: int64\n",
      "\n",
      "\n",
      "0    157976\n",
      "1      1595\n",
      "Name: severe_toxic, dtype: int64\n",
      "\n",
      "\n",
      "0    151122\n",
      "1      8449\n",
      "Name: obscene, dtype: int64\n",
      "\n",
      "\n",
      "0    159093\n",
      "1       478\n",
      "Name: threat, dtype: int64\n",
      "\n",
      "\n",
      "0    151694\n",
      "1      7877\n",
      "Name: insult, dtype: int64\n",
      "\n",
      "\n",
      "0    158166\n",
      "1      1405\n",
      "Name: identity_hate, dtype: int64\n",
      "\n",
      "\n"
     ]
    }
   ],
   "source": [
    "for label in labels_to_predict:\n",
    "    print(raw_train_data[label].value_counts())\n",
    "    print(\"\\n\")"
   ]
  },
  {
   "cell_type": "markdown",
   "id": "538468be",
   "metadata": {},
   "source": [
    "### Summary Statistics"
   ]
  },
  {
   "cell_type": "markdown",
   "id": "eef89f2f",
   "metadata": {},
   "source": [
    "Visualize the distribution of characters on each comment."
   ]
  },
  {
   "cell_type": "code",
   "execution_count": 8,
   "id": "5feedd7e",
   "metadata": {},
   "outputs": [
    {
     "data": {
      "image/png": "[encoded data removed]",
      "text/plain": [
       "<Figure size 576x396 with 1 Axes>"
      ]
     },
     "metadata": {},
     "output_type": "display_data"
    }
   ],
   "source": [
    "plt.hist(comments_len)\n",
    "plt.title(\"Distribution of Comments' Length\")\n",
    "plt.xlabel(\"Number of Characters\")\n",
    "plt.ylabel(\"Count\")\n",
    "plt.show()"
   ]
  },
  {
   "cell_type": "markdown",
   "id": "49da8f16",
   "metadata": {},
   "source": [
    "Descriptive statistics of the comments' length"
   ]
  },
  {
   "cell_type": "code",
   "execution_count": 9,
   "id": "e713c9de",
   "metadata": {},
   "outputs": [
    {
     "name": "stdout",
     "output_type": "stream",
     "text": [
      "count    159571.000000\n",
      "mean        394.073221\n",
      "std         590.720282\n",
      "min           6.000000\n",
      "25%          96.000000\n",
      "50%         205.000000\n",
      "75%         435.000000\n",
      "max        5000.000000\n",
      "Name: comment_text, dtype: float64\n"
     ]
    }
   ],
   "source": [
    "print(comments_len.describe())"
   ]
  },
  {
   "cell_type": "markdown",
   "id": "3dc5b89d",
   "metadata": {},
   "source": [
    "We can see that most of the comments have between `0 - 1000` characters. These include characters that are not letters."
   ]
  },
  {
   "cell_type": "code",
   "execution_count": 11,
   "id": "32476fbf",
   "metadata": {
    "scrolled": false
   },
   "outputs": [
    {
     "data": {
      "image/png": "[encoded data removed]",
      "text/plain": [
       "<Figure size 576x396 with 1 Axes>"
      ]
     },
     "metadata": {},
     "output_type": "display_data"
    },
    {
     "data": {
      "image/png": "[encoded data removed]",
      "text/plain": [
       "<Figure size 576x396 with 1 Axes>"
      ]
     },
     "metadata": {},
     "output_type": "display_data"
    },
    {
     "data": {
      "image/png": "[encoded data removed]",
      "text/plain": [
       "<Figure size 576x396 with 1 Axes>"
      ]
     },
     "metadata": {},
     "output_type": "display_data"
    },
    {
     "data": {
      "image/png": "[encoded data removed]",
      "text/plain": [
       "<Figure size 576x396 with 1 Axes>"
      ]
     },
     "metadata": {},
     "output_type": "display_data"
    },
    {
     "data": {
      "image/png": "[encoded data removed]",
      "text/plain": [
       "<Figure size 576x396 with 1 Axes>"
      ]
     },
     "metadata": {},
     "output_type": "display_data"
    },
    {
     "data": {
      "image/png": "[encoded data removed]",
      "text/plain": [
       "<Figure size 576x396 with 1 Axes>"
      ]
     },
     "metadata": {},
     "output_type": "display_data"
    }
   ],
   "source": [
    "def plot_distributions(label):\n",
    "    plt.clf()\n",
    "    plt.hist(raw_train_data[label], bins=2)\n",
    "    plt.title(\"Distribution of {}\".format(label))\n",
    "    plt.xticks([0, 1])\n",
    "    plt.show()\n",
    "    \n",
    "for label in labels_to_predict:\n",
    "    plot_distributions(label)\n"
   ]
  },
  {
   "cell_type": "code",
   "execution_count": null,
   "id": "7996d395",
   "metadata": {},
   "outputs": [],
   "source": []
  }
 ],
 "metadata": {
  "kernelspec": {
   "display_name": "Python 3 (ipykernel)",
   "language": "python",
   "name": "python3"
  },
  "language_info": {
   "codemirror_mode": {
    "name": "ipython",
    "version": 3
   },
   "file_extension": ".py",
   "mimetype": "text/x-python",
   "name": "python",
   "nbconvert_exporter": "python",
   "pygments_lexer": "ipython3",
   "version": "3.9.12"
  }
 },
 "nbformat": 4,
 "nbformat_minor": 5
}
