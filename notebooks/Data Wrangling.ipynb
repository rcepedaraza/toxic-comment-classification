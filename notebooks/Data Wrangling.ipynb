{
 "cells": [
  {
   "cell_type": "markdown",
   "id": "6c513bc3",
   "metadata": {},
   "source": [
    "## Introduction"
   ]
  },
  {
   "cell_type": "markdown",
   "id": "0595729a",
   "metadata": {},
   "source": [
    "This step focuses on collecting the data, organizing it, and making sure it's well defined. \n",
    "\n",
    "The data comes from a large number of Wikipedia comments which have been labeled by human raters for toxic behavior. The types of toxicity are:\n",
    "* `toxic`\n",
    "* `severe_toxic`\n",
    "* `obscene`\n",
    "* `threat`\n",
    "* `insult`\n",
    "* `identity_hate`"
   ]
  },
  {
   "cell_type": "markdown",
   "id": "34a1b8ce",
   "metadata": {},
   "source": [
    "### Objective"
   ]
  },
  {
   "cell_type": "markdown",
   "id": "fe552391",
   "metadata": {},
   "source": [
    "Create a model which predicts a probability of each type of toxicity for each comment."
   ]
  },
  {
   "cell_type": "markdown",
   "id": "6c7d69af",
   "metadata": {},
   "source": [
    "### Import Libraries"
   ]
  },
  {
   "cell_type": "code",
   "execution_count": 1,
   "id": "4beaf629",
   "metadata": {},
   "outputs": [],
   "source": [
    "import pandas as pd\n",
    "import os\n",
    "import matplotlib.pyplot as plt\n",
    "import numpy as np\n",
    "import random\n",
    "import seaborn as sns\n",
    "import matplotlib as mpl\n",
    "\n",
    "mpl.style.use(\"seaborn\")\n",
    "# mpl.rcParams[\"figure.dpi\"] = 100"
   ]
  },
  {
   "cell_type": "markdown",
   "id": "14da437b",
   "metadata": {},
   "source": [
    "### Data Collection"
   ]
  },
  {
   "cell_type": "markdown",
   "id": "f4eca0ca",
   "metadata": {},
   "source": [
    "Goal: Organize data to streamline the next steps."
   ]
  },
  {
   "cell_type": "code",
   "execution_count": 2,
   "id": "f54f7985",
   "metadata": {},
   "outputs": [
    {
     "data": {
      "text/html": [
       "<div>\n",
       "<style scoped>\n",
       "    .dataframe tbody tr th:only-of-type {\n",
       "        vertical-align: middle;\n",
       "    }\n",
       "\n",
       "    .dataframe tbody tr th {\n",
       "        vertical-align: top;\n",
       "    }\n",
       "\n",
       "    .dataframe thead th {\n",
       "        text-align: right;\n",
       "    }\n",
       "</style>\n",
       "<table border=\"1\" class=\"dataframe\">\n",
       "  <thead>\n",
       "    <tr style=\"text-align: right;\">\n",
       "      <th></th>\n",
       "      <th>id</th>\n",
       "      <th>comment_text</th>\n",
       "      <th>toxic</th>\n",
       "      <th>severe_toxic</th>\n",
       "      <th>obscene</th>\n",
       "      <th>threat</th>\n",
       "      <th>insult</th>\n",
       "      <th>identity_hate</th>\n",
       "    </tr>\n",
       "  </thead>\n",
       "  <tbody>\n",
       "    <tr>\n",
       "      <th>85781</th>\n",
       "      <td>e57669b9782a08c4</td>\n",
       "      <td>better believe me now.</td>\n",
       "      <td>0</td>\n",
       "      <td>0</td>\n",
       "      <td>0</td>\n",
       "      <td>0</td>\n",
       "      <td>0</td>\n",
       "      <td>0</td>\n",
       "    </tr>\n",
       "    <tr>\n",
       "      <th>5651</th>\n",
       "      <td>0f1eeec14c5e82ae</td>\n",
       "      <td>The article is listed in Category:Articles cre...</td>\n",
       "      <td>0</td>\n",
       "      <td>0</td>\n",
       "      <td>0</td>\n",
       "      <td>0</td>\n",
       "      <td>0</td>\n",
       "      <td>0</td>\n",
       "    </tr>\n",
       "    <tr>\n",
       "      <th>11172</th>\n",
       "      <td>1d88473450f9c33e</td>\n",
       "      <td>The proximal end of the blood vessel ends wool...</td>\n",
       "      <td>0</td>\n",
       "      <td>0</td>\n",
       "      <td>0</td>\n",
       "      <td>0</td>\n",
       "      <td>0</td>\n",
       "      <td>0</td>\n",
       "    </tr>\n",
       "    <tr>\n",
       "      <th>158296</th>\n",
       "      <td>ebb796cb4c7e43e6</td>\n",
       "      <td>Thanks for the barnstar, by the way D</td>\n",
       "      <td>0</td>\n",
       "      <td>0</td>\n",
       "      <td>0</td>\n",
       "      <td>0</td>\n",
       "      <td>0</td>\n",
       "      <td>0</td>\n",
       "    </tr>\n",
       "    <tr>\n",
       "      <th>33518</th>\n",
       "      <td>595d51c25bddd8e8</td>\n",
       "      <td>Trying to distinguish the medical nature of th...</td>\n",
       "      <td>0</td>\n",
       "      <td>0</td>\n",
       "      <td>0</td>\n",
       "      <td>0</td>\n",
       "      <td>0</td>\n",
       "      <td>0</td>\n",
       "    </tr>\n",
       "  </tbody>\n",
       "</table>\n",
       "</div>"
      ],
      "text/plain": [
       "                      id                                       comment_text  \\\n",
       "85781   e57669b9782a08c4                             better believe me now.   \n",
       "5651    0f1eeec14c5e82ae  The article is listed in Category:Articles cre...   \n",
       "11172   1d88473450f9c33e  The proximal end of the blood vessel ends wool...   \n",
       "158296  ebb796cb4c7e43e6              Thanks for the barnstar, by the way D   \n",
       "33518   595d51c25bddd8e8  Trying to distinguish the medical nature of th...   \n",
       "\n",
       "        toxic  severe_toxic  obscene  threat  insult  identity_hate  \n",
       "85781       0             0        0       0       0              0  \n",
       "5651        0             0        0       0       0              0  \n",
       "11172       0             0        0       0       0              0  \n",
       "158296      0             0        0       0       0              0  \n",
       "33518       0             0        0       0       0              0  "
      ]
     },
     "execution_count": 2,
     "metadata": {},
     "output_type": "execute_result"
    }
   ],
   "source": [
    "raw_train_data = pd.read_csv(\"../data/train.csv\")\n",
    "raw_train_data.sample(5)"
   ]
  },
  {
   "cell_type": "markdown",
   "id": "9844cab7",
   "metadata": {},
   "source": [
    "### Data Definition"
   ]
  },
  {
   "cell_type": "markdown",
   "id": "4727c62a",
   "metadata": {},
   "source": [
    "Goal: Gain an understanding of the data features"
   ]
  },
  {
   "cell_type": "code",
   "execution_count": 3,
   "id": "cb1d5ae2",
   "metadata": {},
   "outputs": [
    {
     "data": {
      "text/plain": [
       "\"Once again, this topic has been covered.  Why do feel that we need to go over exactly the same information just for you.  Neither of Granholm's parents were Americans by birth.  Cruz's mother was an American by birth and that makes Cruz an American by birth.  Granholm is not an American by birth.  That is a fact.  Granholm and Cruz are apples and oranges.  Just a simple as that.  If you would go to the original discussion you would have seen that this question has been asked and answered.  Granholm in no way justifies putting the information in the lede that you want to put in.  It does not meet standards of being put in the lead.  Please review the previous discussion.  Please review the previous discussion.\""
      ]
     },
     "execution_count": 3,
     "metadata": {},
     "output_type": "execute_result"
    }
   ],
   "source": [
    "# Here is an example of a comment\n",
    "raw_train_data['comment_text'][random.randint(0, raw_train_data.shape[0])]"
   ]
  },
  {
   "cell_type": "markdown",
   "id": "15d471db",
   "metadata": {},
   "source": [
    "Identify column names that will be used for prediction"
   ]
  },
  {
   "cell_type": "code",
   "execution_count": 4,
   "id": "57d574bb",
   "metadata": {},
   "outputs": [
    {
     "name": "stdout",
     "output_type": "stream",
     "text": [
      "['toxic', 'severe_toxic', 'obscene', 'threat', 'insult', 'identity_hate']\n"
     ]
    }
   ],
   "source": [
    "# Create a list of labels to predict\n",
    "labels_to_predict = list(raw_train_data.columns[2:])\n",
    "print(labels_to_predict)"
   ]
  },
  {
   "cell_type": "markdown",
   "id": "14dd235b",
   "metadata": {},
   "source": [
    "Explore what are the data types for each column of the dataset"
   ]
  },
  {
   "cell_type": "code",
   "execution_count": 5,
   "id": "d9b62b05",
   "metadata": {},
   "outputs": [
    {
     "name": "stdout",
     "output_type": "stream",
     "text": [
      "<class 'pandas.core.frame.DataFrame'>\n",
      "RangeIndex: 159571 entries, 0 to 159570\n",
      "Data columns (total 8 columns):\n",
      " #   Column         Non-Null Count   Dtype \n",
      "---  ------         --------------   ----- \n",
      " 0   id             159571 non-null  object\n",
      " 1   comment_text   159571 non-null  object\n",
      " 2   toxic          159571 non-null  int64 \n",
      " 3   severe_toxic   159571 non-null  int64 \n",
      " 4   obscene        159571 non-null  int64 \n",
      " 5   threat         159571 non-null  int64 \n",
      " 6   insult         159571 non-null  int64 \n",
      " 7   identity_hate  159571 non-null  int64 \n",
      "dtypes: int64(6), object(2)\n",
      "memory usage: 9.7+ MB\n"
     ]
    }
   ],
   "source": [
    "# call info to see a summary of the data\n",
    "raw_train_data.info()"
   ]
  },
  {
   "cell_type": "markdown",
   "id": "b52aad98",
   "metadata": {},
   "source": [
    "Only the column`comment_text`is not numerical, the rest of columns are integers. We will have to change from integers to floats to predict the probability of each type."
   ]
  },
  {
   "cell_type": "code",
   "execution_count": 6,
   "id": "8ca15385",
   "metadata": {},
   "outputs": [],
   "source": [
    "comments_len = raw_train_data['comment_text'].str.len()"
   ]
  },
  {
   "cell_type": "markdown",
   "id": "ef04989f",
   "metadata": {},
   "source": [
    "Unique values for each column"
   ]
  },
  {
   "cell_type": "code",
   "execution_count": 7,
   "id": "02428244",
   "metadata": {},
   "outputs": [
    {
     "name": "stdout",
     "output_type": "stream",
     "text": [
      "0    144277\n",
      "1     15294\n",
      "Name: toxic, dtype: int64\n",
      "\n",
      "\n",
      "0    157976\n",
      "1      1595\n",
      "Name: severe_toxic, dtype: int64\n",
      "\n",
      "\n",
      "0    151122\n",
      "1      8449\n",
      "Name: obscene, dtype: int64\n",
      "\n",
      "\n",
      "0    159093\n",
      "1       478\n",
      "Name: threat, dtype: int64\n",
      "\n",
      "\n",
      "0    151694\n",
      "1      7877\n",
      "Name: insult, dtype: int64\n",
      "\n",
      "\n",
      "0    158166\n",
      "1      1405\n",
      "Name: identity_hate, dtype: int64\n",
      "\n",
      "\n"
     ]
    }
   ],
   "source": [
    "for label in labels_to_predict:\n",
    "    print(raw_train_data[label].value_counts())\n",
    "    print(\"\\n\")"
   ]
  },
  {
   "cell_type": "markdown",
   "id": "c26df49e",
   "metadata": {},
   "source": [
    "### Summary Statistics"
   ]
  },
  {
   "cell_type": "markdown",
   "id": "d74b74ab",
   "metadata": {},
   "source": [
    "Visualize the distribution of characters on each comment."
   ]
  },
  {
   "cell_type": "code",
   "execution_count": 8,
   "id": "89e19c3b",
   "metadata": {},
   "outputs": [
    {
     "data": {
      "image/png": "[encoded data removed]",
      "text/plain": [
       "<Figure size 576x396 with 1 Axes>"
      ]
     },
     "metadata": {},
     "output_type": "display_data"
    }
   ],
   "source": [
    "plt.hist(comments_len)\n",
    "plt.title(\"Distribution of Comments' Length\", fontsize=16)\n",
    "plt.xlabel(\"Number of Characters\")\n",
    "plt.ylabel(\"Count\")\n",
    "plt.show()"
   ]
  },
  {
   "cell_type": "markdown",
   "id": "b969a83e",
   "metadata": {},
   "source": [
    "Descriptive statistics of the comments' length"
   ]
  },
  {
   "cell_type": "code",
   "execution_count": 9,
   "id": "1a9e91d1",
   "metadata": {},
   "outputs": [
    {
     "name": "stdout",
     "output_type": "stream",
     "text": [
      "count    159571.000000\n",
      "mean        394.073221\n",
      "std         590.720282\n",
      "min           6.000000\n",
      "25%          96.000000\n",
      "50%         205.000000\n",
      "75%         435.000000\n",
      "max        5000.000000\n",
      "Name: comment_text, dtype: float64\n"
     ]
    }
   ],
   "source": [
    "print(comments_len.describe())"
   ]
  },
  {
   "cell_type": "markdown",
   "id": "308bfed2",
   "metadata": {},
   "source": [
    "We can see that most of the comments have between `0 - 1000` characters. These include characters that are not letters."
   ]
  },
  {
   "cell_type": "code",
   "execution_count": 10,
   "id": "e2982734",
   "metadata": {
    "scrolled": false
   },
   "outputs": [
    {
     "data": {
      "image/png": "[encoded data removed]",
      "text/plain": [
       "<Figure size 576x396 with 1 Axes>"
      ]
     },
     "metadata": {},
     "output_type": "display_data"
    },
    {
     "data": {
      "image/png": "[encoded data removed]",
      "text/plain": [
       "<Figure size 576x396 with 1 Axes>"
      ]
     },
     "metadata": {},
     "output_type": "display_data"
    },
    {
     "data": {
      "image/png": "[encoded data removed]",
      "text/plain": [
       "<Figure size 576x396 with 1 Axes>"
      ]
     },
     "metadata": {},
     "output_type": "display_data"
    },
    {
     "data": {
      "image/png": "[encoded data removed]",
      "text/plain": [
       "<Figure size 576x396 with 1 Axes>"
      ]
     },
     "metadata": {},
     "output_type": "display_data"
    },
    {
     "data": {
      "image/png": "[encoded data removed]",
      "text/plain": [
       "<Figure size 576x396 with 1 Axes>"
      ]
     },
     "metadata": {},
     "output_type": "display_data"
    },
    {
     "data": {
      "image/png": "[encoded data removed]",
      "text/plain": [
       "<Figure size 576x396 with 1 Axes>"
      ]
     },
     "metadata": {},
     "output_type": "display_data"
    }
   ],
   "source": [
    "def plot_distributions(label):\n",
    "    plt.clf()\n",
    "    plt.hist(raw_train_data[label], bins=2)\n",
    "    plt.title(\"Distribution of {}\".format(label), fontsize=16)\n",
    "    plt.xticks([0, 1])\n",
    "    plt.show()\n",
    "    \n",
    "for label in labels_to_predict:\n",
    "    plot_distributions(label)\n"
   ]
  },
  {
   "cell_type": "markdown",
   "id": "36d5d306",
   "metadata": {},
   "source": [
    "We can see that the majority or comments are not toxic."
   ]
  },
  {
   "cell_type": "markdown",
   "id": "b546dd63",
   "metadata": {},
   "source": [
    "### Data Cleaning"
   ]
  },
  {
   "cell_type": "markdown",
   "id": "894fe0f6",
   "metadata": {},
   "source": [
    "Check for any null or missing values"
   ]
  },
  {
   "cell_type": "code",
   "execution_count": 11,
   "id": "e46071f0",
   "metadata": {},
   "outputs": [
    {
     "data": {
      "text/plain": [
       "id               0\n",
       "comment_text     0\n",
       "toxic            0\n",
       "severe_toxic     0\n",
       "obscene          0\n",
       "threat           0\n",
       "insult           0\n",
       "identity_hate    0\n",
       "dtype: int64"
      ]
     },
     "execution_count": 11,
     "metadata": {},
     "output_type": "execute_result"
    }
   ],
   "source": [
    "raw_train_data.isna().sum()"
   ]
  },
  {
   "cell_type": "markdown",
   "id": "955f3d2b",
   "metadata": {},
   "source": [
    "We can see that this dataset does not contain missing values."
   ]
  },
  {
   "cell_type": "code",
   "execution_count": 12,
   "id": "0ecb05a6",
   "metadata": {},
   "outputs": [
    {
     "data": {
      "text/plain": [
       "0"
      ]
     },
     "execution_count": 12,
     "metadata": {},
     "output_type": "execute_result"
    }
   ],
   "source": [
    "raw_train_data.duplicated().sum()"
   ]
  },
  {
   "cell_type": "code",
   "execution_count": null,
   "id": "9cf97db5",
   "metadata": {},
   "outputs": [],
   "source": [
    "This dataset does not contain any duplicate"
   ]
  },
  {
   "cell_type": "code",
   "execution_count": null,
   "id": "b29de20e",
   "metadata": {},
   "outputs": [],
   "source": []
  }
 ],
 "metadata": {
  "kernelspec": {
   "display_name": "Python 3 (ipykernel)",
   "language": "python",
   "name": "python3"
  },
  "language_info": {
   "codemirror_mode": {
    "name": "ipython",
    "version": 3
   },
   "file_extension": ".py",
   "mimetype": "text/x-python",
   "name": "python",
   "nbconvert_exporter": "python",
   "pygments_lexer": "ipython3",
   "version": "3.9.12"
  }
 },
 "nbformat": 4,
 "nbformat_minor": 5
}
