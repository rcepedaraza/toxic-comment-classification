{
 "cells": [
  {
   "cell_type": "markdown",
   "id": "89589840",
   "metadata": {},
   "source": [
    "## Multi-Label Classification"
   ]
  },
  {
   "cell_type": "markdown",
   "id": "89a6a1de",
   "metadata": {},
   "source": [
    "### Overview"
   ]
  },
  {
   "cell_type": "markdown",
   "id": "6bb2ea43",
   "metadata": {},
   "source": [
    "The goal of the modeling step is to develop a final model that effectively predicts the stated goal in the problem identification section. Review de types of models that would be appropriate given your modeling response and the features in your dataset and build two to three models. In addition to considering different algorithm types in your model selection, also consider applying model hyperparameter tunin operations. Be sure to define metrics you use to choose your final model. "
   ]
  },
  {
   "cell_type": "markdown",
   "id": "33e35583",
   "metadata": {},
   "source": [
    "### Import Libraries"
   ]
  },
  {
   "cell_type": "code",
   "execution_count": 1,
   "id": "85d7e3a2",
   "metadata": {},
   "outputs": [],
   "source": [
    "import pandas as pd\n",
    "import numpy as np\n",
    "import matplotlib.pyplot as plt\n",
    "import seaborn as sns\n",
    "\n",
    "# Models\n",
    "from sklearn.linear_model import LogisticRegression\n",
    "from sklearn.pipeline import Pipeline\n",
    "from sklearn.metrics import accuracy_score\n",
    "from sklearn.multiclass import OneVsRestClassifier\n",
    "from sklearn.metrics import multilabel_confusion_matrix, classification_report"
   ]
  },
  {
   "cell_type": "markdown",
   "id": "f5dc486b",
   "metadata": {},
   "source": [
    "### Load Train and Test Data"
   ]
  },
  {
   "cell_type": "code",
   "execution_count": 2,
   "id": "c4ee126a",
   "metadata": {},
   "outputs": [],
   "source": [
    "train_df = pd.read_csv(\"../data/train_ready.csv\")\n",
    "test_df = pd.read_csv(\"../data/test_ready.csv\")\n",
    "comment_330 = test_df.iloc[[330]] # For prediction a random comment"
   ]
  },
  {
   "cell_type": "code",
   "execution_count": 3,
   "id": "2fafa6c7",
   "metadata": {},
   "outputs": [
    {
     "data": {
      "text/html": [
       "<div>\n",
       "<style scoped>\n",
       "    .dataframe tbody tr th:only-of-type {\n",
       "        vertical-align: middle;\n",
       "    }\n",
       "\n",
       "    .dataframe tbody tr th {\n",
       "        vertical-align: top;\n",
       "    }\n",
       "\n",
       "    .dataframe thead th {\n",
       "        text-align: right;\n",
       "    }\n",
       "</style>\n",
       "<table border=\"1\" class=\"dataframe\">\n",
       "  <thead>\n",
       "    <tr style=\"text-align: right;\">\n",
       "      <th></th>\n",
       "      <th>id</th>\n",
       "      <th>comment_text</th>\n",
       "      <th>toxic</th>\n",
       "      <th>severe_toxic</th>\n",
       "      <th>obscene</th>\n",
       "      <th>threat</th>\n",
       "      <th>insult</th>\n",
       "      <th>identity_hate</th>\n",
       "      <th>tags</th>\n",
       "      <th>is_clean</th>\n",
       "      <th>...</th>\n",
       "      <th>yourselfgo</th>\n",
       "      <th>yourselfgo fuck</th>\n",
       "      <th>youtube</th>\n",
       "      <th>youtube com</th>\n",
       "      <th>ytmnd</th>\n",
       "      <th>ytmnd ytmnd</th>\n",
       "      <th>zero</th>\n",
       "      <th>zionist</th>\n",
       "      <th>zuck</th>\n",
       "      <th>zuckerberg</th>\n",
       "    </tr>\n",
       "  </thead>\n",
       "  <tbody>\n",
       "    <tr>\n",
       "      <th>0</th>\n",
       "      <td>2ec4b3bd396a3012</td>\n",
       "      <td>i am really confused about this   there are so...</td>\n",
       "      <td>0</td>\n",
       "      <td>0</td>\n",
       "      <td>0</td>\n",
       "      <td>0</td>\n",
       "      <td>0</td>\n",
       "      <td>0</td>\n",
       "      <td>0</td>\n",
       "      <td>1</td>\n",
       "      <td>...</td>\n",
       "      <td>0.0</td>\n",
       "      <td>0.0</td>\n",
       "      <td>0.0</td>\n",
       "      <td>0.0</td>\n",
       "      <td>0.0</td>\n",
       "      <td>0.0</td>\n",
       "      <td>0.0</td>\n",
       "      <td>0.0</td>\n",
       "      <td>0.0</td>\n",
       "      <td>0.0</td>\n",
       "    </tr>\n",
       "    <tr>\n",
       "      <th>1</th>\n",
       "      <td>16fb18070064a8e8</td>\n",
       "      <td>apology   point taken dmcdevit  i apologise fo...</td>\n",
       "      <td>0</td>\n",
       "      <td>0</td>\n",
       "      <td>0</td>\n",
       "      <td>0</td>\n",
       "      <td>0</td>\n",
       "      <td>0</td>\n",
       "      <td>0</td>\n",
       "      <td>1</td>\n",
       "      <td>...</td>\n",
       "      <td>0.0</td>\n",
       "      <td>0.0</td>\n",
       "      <td>0.0</td>\n",
       "      <td>0.0</td>\n",
       "      <td>0.0</td>\n",
       "      <td>0.0</td>\n",
       "      <td>0.0</td>\n",
       "      <td>0.0</td>\n",
       "      <td>0.0</td>\n",
       "      <td>0.0</td>\n",
       "    </tr>\n",
       "    <tr>\n",
       "      <th>2</th>\n",
       "      <td>2aac02a9ff8d5798</td>\n",
       "      <td>classification   it has been hard for me to fi...</td>\n",
       "      <td>0</td>\n",
       "      <td>0</td>\n",
       "      <td>0</td>\n",
       "      <td>0</td>\n",
       "      <td>0</td>\n",
       "      <td>0</td>\n",
       "      <td>0</td>\n",
       "      <td>1</td>\n",
       "      <td>...</td>\n",
       "      <td>0.0</td>\n",
       "      <td>0.0</td>\n",
       "      <td>0.0</td>\n",
       "      <td>0.0</td>\n",
       "      <td>0.0</td>\n",
       "      <td>0.0</td>\n",
       "      <td>0.0</td>\n",
       "      <td>0.0</td>\n",
       "      <td>0.0</td>\n",
       "      <td>0.0</td>\n",
       "    </tr>\n",
       "    <tr>\n",
       "      <th>3</th>\n",
       "      <td>35ef99361edb8a3b</td>\n",
       "      <td>okay the rundown so far      my first bloc...</td>\n",
       "      <td>0</td>\n",
       "      <td>0</td>\n",
       "      <td>0</td>\n",
       "      <td>0</td>\n",
       "      <td>0</td>\n",
       "      <td>0</td>\n",
       "      <td>0</td>\n",
       "      <td>1</td>\n",
       "      <td>...</td>\n",
       "      <td>0.0</td>\n",
       "      <td>0.0</td>\n",
       "      <td>0.0</td>\n",
       "      <td>0.0</td>\n",
       "      <td>0.0</td>\n",
       "      <td>0.0</td>\n",
       "      <td>0.0</td>\n",
       "      <td>0.0</td>\n",
       "      <td>0.0</td>\n",
       "      <td>0.0</td>\n",
       "    </tr>\n",
       "    <tr>\n",
       "      <th>4</th>\n",
       "      <td>b11068094c52add9</td>\n",
       "      <td>yep  not as easy to do though with the lesser...</td>\n",
       "      <td>0</td>\n",
       "      <td>0</td>\n",
       "      <td>0</td>\n",
       "      <td>0</td>\n",
       "      <td>0</td>\n",
       "      <td>0</td>\n",
       "      <td>0</td>\n",
       "      <td>1</td>\n",
       "      <td>...</td>\n",
       "      <td>0.0</td>\n",
       "      <td>0.0</td>\n",
       "      <td>0.0</td>\n",
       "      <td>0.0</td>\n",
       "      <td>0.0</td>\n",
       "      <td>0.0</td>\n",
       "      <td>0.0</td>\n",
       "      <td>0.0</td>\n",
       "      <td>0.0</td>\n",
       "      <td>0.0</td>\n",
       "    </tr>\n",
       "  </tbody>\n",
       "</table>\n",
       "<p>5 rows × 5013 columns</p>\n",
       "</div>"
      ],
      "text/plain": [
       "                 id                                       comment_text  toxic  \\\n",
       "0  2ec4b3bd396a3012  i am really confused about this   there are so...      0   \n",
       "1  16fb18070064a8e8  apology   point taken dmcdevit  i apologise fo...      0   \n",
       "2  2aac02a9ff8d5798  classification   it has been hard for me to fi...      0   \n",
       "3  35ef99361edb8a3b      okay the rundown so far      my first bloc...      0   \n",
       "4  b11068094c52add9   yep  not as easy to do though with the lesser...      0   \n",
       "\n",
       "   severe_toxic  obscene  threat  insult  identity_hate  tags  is_clean  ...  \\\n",
       "0             0        0       0       0              0     0         1  ...   \n",
       "1             0        0       0       0              0     0         1  ...   \n",
       "2             0        0       0       0              0     0         1  ...   \n",
       "3             0        0       0       0              0     0         1  ...   \n",
       "4             0        0       0       0              0     0         1  ...   \n",
       "\n",
       "   yourselfgo  yourselfgo fuck  youtube  youtube com  ytmnd  ytmnd ytmnd  \\\n",
       "0         0.0              0.0      0.0          0.0    0.0          0.0   \n",
       "1         0.0              0.0      0.0          0.0    0.0          0.0   \n",
       "2         0.0              0.0      0.0          0.0    0.0          0.0   \n",
       "3         0.0              0.0      0.0          0.0    0.0          0.0   \n",
       "4         0.0              0.0      0.0          0.0    0.0          0.0   \n",
       "\n",
       "   zero  zionist  zuck  zuckerberg  \n",
       "0   0.0      0.0   0.0         0.0  \n",
       "1   0.0      0.0   0.0         0.0  \n",
       "2   0.0      0.0   0.0         0.0  \n",
       "3   0.0      0.0   0.0         0.0  \n",
       "4   0.0      0.0   0.0         0.0  \n",
       "\n",
       "[5 rows x 5013 columns]"
      ]
     },
     "execution_count": 3,
     "metadata": {},
     "output_type": "execute_result"
    }
   ],
   "source": [
    "train_df.head()"
   ]
  },
  {
   "cell_type": "code",
   "execution_count": 4,
   "id": "09caee77",
   "metadata": {},
   "outputs": [
    {
     "data": {
      "text/html": [
       "<div>\n",
       "<style scoped>\n",
       "    .dataframe tbody tr th:only-of-type {\n",
       "        vertical-align: middle;\n",
       "    }\n",
       "\n",
       "    .dataframe tbody tr th {\n",
       "        vertical-align: top;\n",
       "    }\n",
       "\n",
       "    .dataframe thead th {\n",
       "        text-align: right;\n",
       "    }\n",
       "</style>\n",
       "<table border=\"1\" class=\"dataframe\">\n",
       "  <thead>\n",
       "    <tr style=\"text-align: right;\">\n",
       "      <th></th>\n",
       "      <th>id</th>\n",
       "      <th>comment_text</th>\n",
       "      <th>toxic</th>\n",
       "      <th>severe_toxic</th>\n",
       "      <th>obscene</th>\n",
       "      <th>threat</th>\n",
       "      <th>insult</th>\n",
       "      <th>identity_hate</th>\n",
       "      <th>tags</th>\n",
       "      <th>is_clean</th>\n",
       "      <th>...</th>\n",
       "      <th>yourselfgo</th>\n",
       "      <th>yourselfgo fuck</th>\n",
       "      <th>youtube</th>\n",
       "      <th>youtube com</th>\n",
       "      <th>ytmnd</th>\n",
       "      <th>ytmnd ytmnd</th>\n",
       "      <th>zero</th>\n",
       "      <th>zionist</th>\n",
       "      <th>zuck</th>\n",
       "      <th>zuckerberg</th>\n",
       "    </tr>\n",
       "  </thead>\n",
       "  <tbody>\n",
       "    <tr>\n",
       "      <th>0</th>\n",
       "      <td>32504958e6378134</td>\n",
       "      <td>is mostly inactive and visually unappealing</td>\n",
       "      <td>0.0</td>\n",
       "      <td>0.0</td>\n",
       "      <td>0.0</td>\n",
       "      <td>0.0</td>\n",
       "      <td>0.0</td>\n",
       "      <td>0.0</td>\n",
       "      <td>0.0</td>\n",
       "      <td>1.0</td>\n",
       "      <td>...</td>\n",
       "      <td>0.0</td>\n",
       "      <td>0.0</td>\n",
       "      <td>0.000000</td>\n",
       "      <td>0.000000</td>\n",
       "      <td>0.0</td>\n",
       "      <td>0.0</td>\n",
       "      <td>0.0</td>\n",
       "      <td>0.0</td>\n",
       "      <td>0.0</td>\n",
       "      <td>0.0</td>\n",
       "    </tr>\n",
       "    <tr>\n",
       "      <th>1</th>\n",
       "      <td>965230a40160b971</td>\n",
       "      <td>a few responses      some of your commen...</td>\n",
       "      <td>0.0</td>\n",
       "      <td>0.0</td>\n",
       "      <td>0.0</td>\n",
       "      <td>0.0</td>\n",
       "      <td>0.0</td>\n",
       "      <td>0.0</td>\n",
       "      <td>0.0</td>\n",
       "      <td>1.0</td>\n",
       "      <td>...</td>\n",
       "      <td>0.0</td>\n",
       "      <td>0.0</td>\n",
       "      <td>0.000000</td>\n",
       "      <td>0.000000</td>\n",
       "      <td>0.0</td>\n",
       "      <td>0.0</td>\n",
       "      <td>0.0</td>\n",
       "      <td>0.0</td>\n",
       "      <td>0.0</td>\n",
       "      <td>0.0</td>\n",
       "    </tr>\n",
       "    <tr>\n",
       "      <th>2</th>\n",
       "      <td>789d5ba07879f808</td>\n",
       "      <td>semi protected edit request on   november  ...</td>\n",
       "      <td>0.0</td>\n",
       "      <td>0.0</td>\n",
       "      <td>0.0</td>\n",
       "      <td>0.0</td>\n",
       "      <td>0.0</td>\n",
       "      <td>0.0</td>\n",
       "      <td>0.0</td>\n",
       "      <td>1.0</td>\n",
       "      <td>...</td>\n",
       "      <td>0.0</td>\n",
       "      <td>0.0</td>\n",
       "      <td>0.233029</td>\n",
       "      <td>0.271072</td>\n",
       "      <td>0.0</td>\n",
       "      <td>0.0</td>\n",
       "      <td>0.0</td>\n",
       "      <td>0.0</td>\n",
       "      <td>0.0</td>\n",
       "      <td>0.0</td>\n",
       "    </tr>\n",
       "    <tr>\n",
       "      <th>3</th>\n",
       "      <td>cb3cb72274f28aeb</td>\n",
       "      <td>playoffs       hockey   my country goe...</td>\n",
       "      <td>0.0</td>\n",
       "      <td>0.0</td>\n",
       "      <td>0.0</td>\n",
       "      <td>0.0</td>\n",
       "      <td>0.0</td>\n",
       "      <td>0.0</td>\n",
       "      <td>0.0</td>\n",
       "      <td>1.0</td>\n",
       "      <td>...</td>\n",
       "      <td>0.0</td>\n",
       "      <td>0.0</td>\n",
       "      <td>0.000000</td>\n",
       "      <td>0.000000</td>\n",
       "      <td>0.0</td>\n",
       "      <td>0.0</td>\n",
       "      <td>0.0</td>\n",
       "      <td>0.0</td>\n",
       "      <td>0.0</td>\n",
       "      <td>0.0</td>\n",
       "    </tr>\n",
       "    <tr>\n",
       "      <th>4</th>\n",
       "      <td>1a45b872642fde4a</td>\n",
       "      <td>human anus</td>\n",
       "      <td>1.0</td>\n",
       "      <td>0.0</td>\n",
       "      <td>0.0</td>\n",
       "      <td>0.0</td>\n",
       "      <td>0.0</td>\n",
       "      <td>0.0</td>\n",
       "      <td>1.0</td>\n",
       "      <td>0.0</td>\n",
       "      <td>...</td>\n",
       "      <td>0.0</td>\n",
       "      <td>0.0</td>\n",
       "      <td>0.000000</td>\n",
       "      <td>0.000000</td>\n",
       "      <td>0.0</td>\n",
       "      <td>0.0</td>\n",
       "      <td>0.0</td>\n",
       "      <td>0.0</td>\n",
       "      <td>0.0</td>\n",
       "      <td>0.0</td>\n",
       "    </tr>\n",
       "  </tbody>\n",
       "</table>\n",
       "<p>5 rows × 5013 columns</p>\n",
       "</div>"
      ],
      "text/plain": [
       "                 id                                       comment_text  toxic  \\\n",
       "0  32504958e6378134        is mostly inactive and visually unappealing    0.0   \n",
       "1  965230a40160b971        a few responses      some of your commen...    0.0   \n",
       "2  789d5ba07879f808     semi protected edit request on   november  ...    0.0   \n",
       "3  cb3cb72274f28aeb          playoffs       hockey   my country goe...    0.0   \n",
       "4  1a45b872642fde4a                                         human anus    1.0   \n",
       "\n",
       "   severe_toxic  obscene  threat  insult  identity_hate  tags  is_clean  ...  \\\n",
       "0           0.0      0.0     0.0     0.0            0.0   0.0       1.0  ...   \n",
       "1           0.0      0.0     0.0     0.0            0.0   0.0       1.0  ...   \n",
       "2           0.0      0.0     0.0     0.0            0.0   0.0       1.0  ...   \n",
       "3           0.0      0.0     0.0     0.0            0.0   0.0       1.0  ...   \n",
       "4           0.0      0.0     0.0     0.0            0.0   1.0       0.0  ...   \n",
       "\n",
       "   yourselfgo  yourselfgo fuck   youtube  youtube com  ytmnd  ytmnd ytmnd  \\\n",
       "0         0.0              0.0  0.000000     0.000000    0.0          0.0   \n",
       "1         0.0              0.0  0.000000     0.000000    0.0          0.0   \n",
       "2         0.0              0.0  0.233029     0.271072    0.0          0.0   \n",
       "3         0.0              0.0  0.000000     0.000000    0.0          0.0   \n",
       "4         0.0              0.0  0.000000     0.000000    0.0          0.0   \n",
       "\n",
       "   zero  zionist  zuck  zuckerberg  \n",
       "0   0.0      0.0   0.0         0.0  \n",
       "1   0.0      0.0   0.0         0.0  \n",
       "2   0.0      0.0   0.0         0.0  \n",
       "3   0.0      0.0   0.0         0.0  \n",
       "4   0.0      0.0   0.0         0.0  \n",
       "\n",
       "[5 rows x 5013 columns]"
      ]
     },
     "execution_count": 4,
     "metadata": {},
     "output_type": "execute_result"
    }
   ],
   "source": [
    "test_df.head()"
   ]
  },
  {
   "cell_type": "markdown",
   "id": "2e41cde8",
   "metadata": {},
   "source": [
    "### Separate Labels from Dataset"
   ]
  },
  {
   "cell_type": "code",
   "execution_count": 5,
   "id": "1e6483d6",
   "metadata": {},
   "outputs": [],
   "source": [
    "# Extract label columns \n",
    "label_columns = [\"toxic\", \"severe_toxic\", \"obscene\", \"threat\", \"insult\", \"identity_hate\", \"is_clean\"]\n",
    "train_df.drop(columns=[\"id\", \"comment_text\"], inplace=True)\n",
    "X_train = train_df.drop(columns=label_columns)\n",
    "y_train = train_df[label_columns].astype(int)\n",
    "\n",
    "test_df.drop(columns=[\"id\", \"comment_text\"], inplace=True)\n",
    "X_test = test_df.drop(columns=label_columns)\n",
    "y_test = test_df[label_columns].astype(int)"
   ]
  },
  {
   "cell_type": "code",
   "execution_count": 6,
   "id": "50195b9c",
   "metadata": {},
   "outputs": [
    {
     "name": "stdout",
     "output_type": "stream",
     "text": [
      "(24225, 5004) (24225, 7)\n",
      "(4933, 5004) (4933, 7)\n"
     ]
    }
   ],
   "source": [
    "print(X_train.shape, y_train.shape)\n",
    "print(X_test.shape, y_test.shape)"
   ]
  },
  {
   "cell_type": "markdown",
   "id": "9f8c0ed2",
   "metadata": {},
   "source": [
    "### 1. Multiple Binary Classifications (One vs. Rest)"
   ]
  },
  {
   "cell_type": "code",
   "execution_count": 7,
   "id": "7ea853dc",
   "metadata": {},
   "outputs": [
    {
     "name": "stdout",
     "output_type": "stream",
     "text": [
      "Accuracy Score: 0.964\n",
      "              precision    recall  f1-score   support\n",
      "\n",
      "           0       0.97      0.99      0.98       489\n",
      "           1       0.80      0.59      0.68        34\n",
      "           2       0.86      0.87      0.87       305\n",
      "           3       0.00      0.00      0.00        18\n",
      "           4       0.83      0.88      0.86       286\n",
      "           5       0.88      0.39      0.54        56\n",
      "           6       1.00      1.00      1.00      4430\n",
      "\n",
      "   micro avg       0.98      0.97      0.98      5618\n",
      "   macro avg       0.76      0.67      0.70      5618\n",
      "weighted avg       0.98      0.97      0.97      5618\n",
      " samples avg       0.99      0.99      0.99      5618\n",
      "\n",
      "CPU times: user 8min 38s, sys: 16.5 s, total: 8min 55s\n",
      "Wall time: 1min 8s\n"
     ]
    }
   ],
   "source": [
    "%%time\n",
    "# Apply LogisticRegression with OnevsRestClassifier\n",
    "clf_1 = OneVsRestClassifier(LogisticRegression(max_iter=10000)).fit(X_train, y_train)\n",
    "\n",
    "# X_test Predictions\n",
    "y_pred_1 = clf_1.predict(X_test)\n",
    "acc_1 = accuracy_score(y_test, y_pred_1)\n",
    "class_rep_1 = classification_report(y_test, y_pred_1, zero_division=0)\n",
    "\n",
    "print(\"Accuracy Score: {:.3f}\".format(acc_1))\n",
    "print(class_rep_1)"
   ]
  },
  {
   "cell_type": "code",
   "execution_count": 8,
   "id": "114d9ec5",
   "metadata": {},
   "outputs": [],
   "source": [
    "# Print multilabel confusion matrix.\n",
    "# print(multilabel_confusion_matrix(y_test, y_pred_1, labels=clf_1.classes_))"
   ]
  },
  {
   "cell_type": "markdown",
   "id": "60e4842c",
   "metadata": {},
   "source": [
    "### 2. OneVsRestClassifier - (MultinomialNB)\n"
   ]
  },
  {
   "cell_type": "code",
   "execution_count": 9,
   "id": "e6fa0bcc",
   "metadata": {},
   "outputs": [
    {
     "data": {
      "text/plain": [
       "array([[  0., 291.,  53., ...,   0.,   0.,   0.],\n",
       "       [  0., 366.,  66., ...,   0.,   0.,   0.],\n",
       "       [  0., 567.,  98., ...,   0.,   0.,   0.],\n",
       "       ...,\n",
       "       [  3., 346.,  61., ...,   0.,   0.,   0.],\n",
       "       [  2., 534., 107., ...,   0.,   0.,   0.],\n",
       "       [  3., 182.,  37., ...,   0.,   0.,   0.]])"
      ]
     },
     "execution_count": 9,
     "metadata": {},
     "output_type": "execute_result"
    }
   ],
   "source": [
    "X_train.values"
   ]
  },
  {
   "cell_type": "code",
   "execution_count": 10,
   "id": "e38e3378",
   "metadata": {},
   "outputs": [
    {
     "name": "stderr",
     "output_type": "stream",
     "text": [
      "/Users/rcepeda/opt/anaconda3/envs/data_science/lib/python3.10/site-packages/sklearn/base.py:443: UserWarning: X has feature names, but MultinomialNB was fitted without feature names\n",
      "  warnings.warn(\n",
      "/Users/rcepeda/opt/anaconda3/envs/data_science/lib/python3.10/site-packages/sklearn/base.py:443: UserWarning: X has feature names, but MultinomialNB was fitted without feature names\n",
      "  warnings.warn(\n",
      "/Users/rcepeda/opt/anaconda3/envs/data_science/lib/python3.10/site-packages/sklearn/base.py:443: UserWarning: X has feature names, but MultinomialNB was fitted without feature names\n",
      "  warnings.warn(\n",
      "/Users/rcepeda/opt/anaconda3/envs/data_science/lib/python3.10/site-packages/sklearn/base.py:443: UserWarning: X has feature names, but MultinomialNB was fitted without feature names\n",
      "  warnings.warn(\n",
      "/Users/rcepeda/opt/anaconda3/envs/data_science/lib/python3.10/site-packages/sklearn/base.py:443: UserWarning: X has feature names, but MultinomialNB was fitted without feature names\n",
      "  warnings.warn(\n",
      "/Users/rcepeda/opt/anaconda3/envs/data_science/lib/python3.10/site-packages/sklearn/base.py:443: UserWarning: X has feature names, but MultinomialNB was fitted without feature names\n",
      "  warnings.warn(\n"
     ]
    },
    {
     "name": "stdout",
     "output_type": "stream",
     "text": [
      "Accuracy Score: 0.623\n",
      "              precision    recall  f1-score   support\n",
      "\n",
      "           0       0.25      0.92      0.40       489\n",
      "           1       0.44      0.12      0.19        34\n",
      "           2       0.36      0.86      0.50       305\n",
      "           3       0.02      0.28      0.05        18\n",
      "           4       0.30      0.83      0.44       286\n",
      "           5       0.10      0.68      0.18        56\n",
      "           6       1.00      0.69      0.82      4430\n",
      "\n",
      "   micro avg       0.58      0.73      0.65      5618\n",
      "   macro avg       0.35      0.63      0.37      5618\n",
      "weighted avg       0.85      0.73      0.73      5618\n",
      " samples avg       0.68      0.71      0.69      5618\n",
      "\n",
      "CPU times: user 4.09 s, sys: 861 ms, total: 4.95 s\n",
      "Wall time: 1.27 s\n"
     ]
    },
    {
     "name": "stderr",
     "output_type": "stream",
     "text": [
      "/Users/rcepeda/opt/anaconda3/envs/data_science/lib/python3.10/site-packages/sklearn/base.py:443: UserWarning: X has feature names, but MultinomialNB was fitted without feature names\n",
      "  warnings.warn(\n"
     ]
    }
   ],
   "source": [
    "%%time\n",
    "from sklearn.naive_bayes import GaussianNB, MultinomialNB\n",
    "# from sklearn.svm import SVC\n",
    "\n",
    "# Perform classification per label\n",
    "clf_2 = OneVsRestClassifier(MultinomialNB())\n",
    "# clf_2 = OneVsRestClassifier(classifier=SVC())\n",
    "clf_2.fit(X_train.values, y_train.values)\n",
    "y_pred_2 = clf_2.predict(X_test)\n",
    "acc_2 = accuracy_score(y_test, y_pred_2)\n",
    "class_rep_2 = classification_report(y_test, y_pred_2, zero_division=0)\n",
    "\n",
    "print(\"Accuracy Score: {:.3f}\".format(acc_2))\n",
    "print(class_rep_2)"
   ]
  },
  {
   "cell_type": "markdown",
   "id": "a889ce27",
   "metadata": {},
   "source": [
    "### 3. Classifier Chains"
   ]
  },
  {
   "cell_type": "code",
   "execution_count": 11,
   "id": "0ecc472d",
   "metadata": {},
   "outputs": [],
   "source": [
    "# %%time\n",
    "# from skmultilearn.problem_transform import ClassifierChain\n",
    "\n",
    "# # Construct a bayesian conditioned chain of per label classifiers.\n",
    "# clf_3 = ClassifierChain(classifier=LogisticRegression(max_iter=10000))\n",
    "\n",
    "# # Train LogisticRegression model on train data\n",
    "# clf_3.fit(X_train, y_train)\n",
    "# y_pred_3 = clf_3.predict(X_test)\n",
    "# acc_3 = accuracy_score(y_test, y_pred_3)\n",
    "# class_rep_3 = classification_report(y_test, y_pred_3, zero_division=0)\n",
    "\n",
    "# print(\"Accuracy Score: {:.3f}\".format(acc_3))\n",
    "# print(class_rep_3)"
   ]
  },
  {
   "cell_type": "markdown",
   "id": "4b222bd8-d251-4f7b-aad6-009c2199d9f1",
   "metadata": {},
   "source": [
    "### 4. XGBoost"
   ]
  },
  {
   "cell_type": "code",
   "execution_count": 12,
   "id": "9b81a2fa-1ea4-4fa5-a191-9d3cddd9e662",
   "metadata": {},
   "outputs": [],
   "source": [
    "# %%time\n",
    "# from xgboost import XGBClassifier\n",
    "\n",
    "# clf_4 = OneVsRestClassifier(XGBClassifier(tree_method=\"hist\", eval_metric=\"logloss\"))\n",
    "# clf_4.fit(X_train.values, y_train.values)\n",
    "# y_pred_4 = clf_4.predict(X_test)\n",
    "# acc_4 = accuracy_score(y_test, y_pred_4)\n",
    "# class_rep_4 = classification_report(y_test, y_pred_4, zero_division=0)\n",
    "# print(\"Accuracy Score: {:.3f}\".format(acc_4))\n",
    "# print(class_rep_4)"
   ]
  },
  {
   "cell_type": "code",
   "execution_count": 13,
   "id": "9ab4dff6",
   "metadata": {},
   "outputs": [
    {
     "name": "stderr",
     "output_type": "stream",
     "text": [
      "/Users/rcepeda/opt/anaconda3/envs/data_science/lib/python3.10/site-packages/sklearn/base.py:443: UserWarning: X has feature names, but RandomForestClassifier was fitted without feature names\n",
      "  warnings.warn(\n"
     ]
    },
    {
     "name": "stdout",
     "output_type": "stream",
     "text": [
      "Accuracy Score: 0.909\n",
      "              precision    recall  f1-score   support\n",
      "\n",
      "           0       0.75      0.97      0.85       489\n",
      "           1       0.00      0.00      0.00        34\n",
      "           2       0.69      0.55      0.61       305\n",
      "           3       0.00      0.00      0.00        18\n",
      "           4       0.83      0.61      0.71       286\n",
      "           5       0.00      0.00      0.00        56\n",
      "           6       1.00      0.96      0.98      4430\n",
      "\n",
      "   micro avg       0.95      0.90      0.92      5618\n",
      "   macro avg       0.47      0.44      0.45      5618\n",
      "weighted avg       0.93      0.90      0.91      5618\n",
      " samples avg       0.95      0.94      0.94      5618\n",
      "\n"
     ]
    }
   ],
   "source": [
    "# Modeling with a Random Forest Classifier\n",
    "    \n",
    "from sklearn.ensemble import RandomForestClassifier\n",
    "\n",
    "clf_5 = RandomForestClassifier()\n",
    "\n",
    "clf_5.fit(X_train.values, y_train.values)\n",
    "y_pred_5 = clf_5.predict(X_test)\n",
    "acc_5 = accuracy_score(y_test, y_pred_5)\n",
    "class_rep_5 = classification_report(y_test, y_pred_5, zero_division=0)\n",
    "print(\"Accuracy Score: {:.3f}\".format(acc_5))\n",
    "print(class_rep_5)"
   ]
  },
  {
   "cell_type": "code",
   "execution_count": 14,
   "id": "b20ac07b",
   "metadata": {},
   "outputs": [
    {
     "data": {
      "text/html": [
       "<div>\n",
       "<style scoped>\n",
       "    .dataframe tbody tr th:only-of-type {\n",
       "        vertical-align: middle;\n",
       "    }\n",
       "\n",
       "    .dataframe tbody tr th {\n",
       "        vertical-align: top;\n",
       "    }\n",
       "\n",
       "    .dataframe thead th {\n",
       "        text-align: right;\n",
       "    }\n",
       "</style>\n",
       "<table border=\"1\" class=\"dataframe\">\n",
       "  <thead>\n",
       "    <tr style=\"text-align: right;\">\n",
       "      <th></th>\n",
       "      <th>toxic</th>\n",
       "      <th>severe_toxic</th>\n",
       "      <th>obscene</th>\n",
       "      <th>threat</th>\n",
       "      <th>insult</th>\n",
       "      <th>identity_hate</th>\n",
       "      <th>tags</th>\n",
       "      <th>is_clean</th>\n",
       "      <th>char_count</th>\n",
       "      <th>word_count</th>\n",
       "      <th>...</th>\n",
       "      <th>yourselfgo</th>\n",
       "      <th>yourselfgo fuck</th>\n",
       "      <th>youtube</th>\n",
       "      <th>youtube com</th>\n",
       "      <th>ytmnd</th>\n",
       "      <th>ytmnd ytmnd</th>\n",
       "      <th>zero</th>\n",
       "      <th>zionist</th>\n",
       "      <th>zuck</th>\n",
       "      <th>zuckerberg</th>\n",
       "    </tr>\n",
       "  </thead>\n",
       "  <tbody>\n",
       "    <tr>\n",
       "      <th>362</th>\n",
       "      <td>0.0</td>\n",
       "      <td>0.0</td>\n",
       "      <td>0.0</td>\n",
       "      <td>0.0</td>\n",
       "      <td>0.0</td>\n",
       "      <td>0.0</td>\n",
       "      <td>0.0</td>\n",
       "      <td>1.0</td>\n",
       "      <td>38.0</td>\n",
       "      <td>3.0</td>\n",
       "      <td>...</td>\n",
       "      <td>0.0</td>\n",
       "      <td>0.0</td>\n",
       "      <td>0.0</td>\n",
       "      <td>0.0</td>\n",
       "      <td>0.0</td>\n",
       "      <td>0.0</td>\n",
       "      <td>0.0</td>\n",
       "      <td>0.0</td>\n",
       "      <td>0.0</td>\n",
       "      <td>0.0</td>\n",
       "    </tr>\n",
       "  </tbody>\n",
       "</table>\n",
       "<p>1 rows × 5011 columns</p>\n",
       "</div>"
      ],
      "text/plain": [
       "     toxic  severe_toxic  obscene  threat  insult  identity_hate  tags  \\\n",
       "362    0.0           0.0      0.0     0.0     0.0            0.0   0.0   \n",
       "\n",
       "     is_clean  char_count  word_count  ...  yourselfgo  yourselfgo fuck  \\\n",
       "362       1.0        38.0         3.0  ...         0.0              0.0   \n",
       "\n",
       "     youtube  youtube com  ytmnd  ytmnd ytmnd  zero  zionist  zuck  zuckerberg  \n",
       "362      0.0          0.0    0.0          0.0   0.0      0.0   0.0         0.0  \n",
       "\n",
       "[1 rows x 5011 columns]"
      ]
     },
     "execution_count": 14,
     "metadata": {},
     "output_type": "execute_result"
    }
   ],
   "source": [
    "test_df.sample()"
   ]
  },
  {
   "cell_type": "markdown",
   "id": "73a8f0dd",
   "metadata": {},
   "source": [
    "### Prediction of a comment"
   ]
  },
  {
   "cell_type": "code",
   "execution_count": 15,
   "id": "431b26bd",
   "metadata": {},
   "outputs": [
    {
     "name": "stdout",
     "output_type": "stream",
     "text": [
      "330    im a cum guzzling motherfucker that likes boys...\n",
      "Name: comment_text, dtype: object\n"
     ]
    }
   ],
   "source": [
    "text = comment_330[\"comment_text\"]\n",
    "print(text)"
   ]
  },
  {
   "cell_type": "code",
   "execution_count": 16,
   "id": "d03bd277",
   "metadata": {},
   "outputs": [
    {
     "name": "stdout",
     "output_type": "stream",
     "text": [
      "     toxic  severe_toxic  obscene  threat  insult  identity_hate  is_clean\n",
      "330    1.0           0.0      1.0     0.0     1.0            0.0       0.0\n"
     ]
    }
   ],
   "source": [
    "text_labels = comment_330[label_columns]\n",
    "print(text_labels)"
   ]
  },
  {
   "cell_type": "code",
   "execution_count": 17,
   "id": "1899fc16",
   "metadata": {},
   "outputs": [
    {
     "name": "stdout",
     "output_type": "stream",
     "text": [
      "                   id                                       comment_text  \\\n",
      "330  74bf5e12e02177f6  im a cum guzzling motherfucker that likes boys...   \n",
      "\n",
      "     toxic  severe_toxic  obscene  threat  insult  identity_hate  tags  \\\n",
      "330    1.0           0.0      1.0     0.0     1.0            0.0   3.0   \n",
      "\n",
      "     is_clean  ...  yourselfgo  yourselfgo fuck  youtube  youtube com  ytmnd  \\\n",
      "330       0.0  ...         0.0              0.0      0.0          0.0    0.0   \n",
      "\n",
      "     ytmnd ytmnd  zero  zionist  zuck  zuckerberg  \n",
      "330          0.0   0.0      0.0   0.0         0.0  \n",
      "\n",
      "[1 rows x 5013 columns]\n"
     ]
    }
   ],
   "source": [
    "print(comment_330)"
   ]
  },
  {
   "cell_type": "code",
   "execution_count": 18,
   "id": "48a2c63d",
   "metadata": {},
   "outputs": [],
   "source": [
    "comment_330 = comment_330.drop(columns=[\"id\", \"comment_text\", \"toxic\", \"severe_toxic\", \"obscene\", \"threat\", \"insult\", \"identity_hate\", \"is_clean\"])"
   ]
  },
  {
   "cell_type": "code",
   "execution_count": 57,
   "id": "f8fab8a2",
   "metadata": {},
   "outputs": [
    {
     "name": "stderr",
     "output_type": "stream",
     "text": [
      "/Users/rcepeda/opt/anaconda3/envs/data_science/lib/python3.10/site-packages/sklearn/base.py:443: UserWarning: X has feature names, but MultinomialNB was fitted without feature names\n",
      "  warnings.warn(\n",
      "/Users/rcepeda/opt/anaconda3/envs/data_science/lib/python3.10/site-packages/sklearn/base.py:443: UserWarning: X has feature names, but MultinomialNB was fitted without feature names\n",
      "  warnings.warn(\n",
      "/Users/rcepeda/opt/anaconda3/envs/data_science/lib/python3.10/site-packages/sklearn/base.py:443: UserWarning: X has feature names, but MultinomialNB was fitted without feature names\n",
      "  warnings.warn(\n",
      "/Users/rcepeda/opt/anaconda3/envs/data_science/lib/python3.10/site-packages/sklearn/base.py:443: UserWarning: X has feature names, but MultinomialNB was fitted without feature names\n",
      "  warnings.warn(\n",
      "/Users/rcepeda/opt/anaconda3/envs/data_science/lib/python3.10/site-packages/sklearn/base.py:443: UserWarning: X has feature names, but MultinomialNB was fitted without feature names\n",
      "  warnings.warn(\n",
      "/Users/rcepeda/opt/anaconda3/envs/data_science/lib/python3.10/site-packages/sklearn/base.py:443: UserWarning: X has feature names, but MultinomialNB was fitted without feature names\n",
      "  warnings.warn(\n",
      "/Users/rcepeda/opt/anaconda3/envs/data_science/lib/python3.10/site-packages/sklearn/base.py:443: UserWarning: X has feature names, but MultinomialNB was fitted without feature names\n",
      "  warnings.warn(\n",
      "/Users/rcepeda/opt/anaconda3/envs/data_science/lib/python3.10/site-packages/sklearn/base.py:443: UserWarning: X has feature names, but RandomForestClassifier was fitted without feature names\n",
      "  warnings.warn(\n"
     ]
    }
   ],
   "source": [
    "predic_acc = []\n",
    "classifiers = [clf_1, clf_2, clf_5]\n",
    "for classif in classifiers:\n",
    "    predic_acc.append(classif.predict(comment_330)[0])"
   ]
  },
  {
   "cell_type": "code",
   "execution_count": 102,
   "id": "72a01157",
   "metadata": {},
   "outputs": [
    {
     "data": {
      "text/html": [
       "<div>\n",
       "<style scoped>\n",
       "    .dataframe tbody tr th:only-of-type {\n",
       "        vertical-align: middle;\n",
       "    }\n",
       "\n",
       "    .dataframe tbody tr th {\n",
       "        vertical-align: top;\n",
       "    }\n",
       "\n",
       "    .dataframe thead th {\n",
       "        text-align: right;\n",
       "    }\n",
       "</style>\n",
       "<table border=\"1\" class=\"dataframe\">\n",
       "  <thead>\n",
       "    <tr style=\"text-align: right;\">\n",
       "      <th></th>\n",
       "      <th>toxic</th>\n",
       "      <th>severe_toxic</th>\n",
       "      <th>obscene</th>\n",
       "      <th>threat</th>\n",
       "      <th>insult</th>\n",
       "      <th>identity_hate</th>\n",
       "      <th>is_clean</th>\n",
       "    </tr>\n",
       "  </thead>\n",
       "  <tbody>\n",
       "    <tr>\n",
       "      <th>Logistic Regression</th>\n",
       "      <td>1.0</td>\n",
       "      <td>0.0</td>\n",
       "      <td>1.0</td>\n",
       "      <td>0.0</td>\n",
       "      <td>1.0</td>\n",
       "      <td>0.0</td>\n",
       "      <td>0.0</td>\n",
       "    </tr>\n",
       "    <tr>\n",
       "      <th>Multinomial NB</th>\n",
       "      <td>1.0</td>\n",
       "      <td>0.0</td>\n",
       "      <td>1.0</td>\n",
       "      <td>0.0</td>\n",
       "      <td>1.0</td>\n",
       "      <td>1.0</td>\n",
       "      <td>0.0</td>\n",
       "    </tr>\n",
       "    <tr>\n",
       "      <th>Random Forest</th>\n",
       "      <td>1.0</td>\n",
       "      <td>0.0</td>\n",
       "      <td>1.0</td>\n",
       "      <td>0.0</td>\n",
       "      <td>1.0</td>\n",
       "      <td>0.0</td>\n",
       "      <td>0.0</td>\n",
       "    </tr>\n",
       "    <tr>\n",
       "      <th>True Values</th>\n",
       "      <td>1.0</td>\n",
       "      <td>0.0</td>\n",
       "      <td>1.0</td>\n",
       "      <td>0.0</td>\n",
       "      <td>1.0</td>\n",
       "      <td>0.0</td>\n",
       "      <td>0.0</td>\n",
       "    </tr>\n",
       "  </tbody>\n",
       "</table>\n",
       "</div>"
      ],
      "text/plain": [
       "                     toxic  severe_toxic  obscene  threat  insult  \\\n",
       "Logistic Regression    1.0           0.0      1.0     0.0     1.0   \n",
       "Multinomial NB         1.0           0.0      1.0     0.0     1.0   \n",
       "Random Forest          1.0           0.0      1.0     0.0     1.0   \n",
       "True Values            1.0           0.0      1.0     0.0     1.0   \n",
       "\n",
       "                     identity_hate  is_clean  \n",
       "Logistic Regression            0.0       0.0  \n",
       "Multinomial NB                 1.0       0.0  \n",
       "Random Forest                  0.0       0.0  \n",
       "True Values                    0.0       0.0  "
      ]
     },
     "execution_count": 102,
     "metadata": {},
     "output_type": "execute_result"
    }
   ],
   "source": [
    "# Create DataFrame with prediction results of comment 330\n",
    "\n",
    "predictions_df = pd.DataFrame(predic_acc, columns=label_columns, \n",
    "                            index=[\"Logistic Regression\", \"Multinomial NB\", \"Random Forest\"])\n",
    "predictions_df = pd.concat([predictions_df, text_labels])\n",
    "predictions_df.rename({330: \"True Values\"}, inplace=True)\n",
    "predictions_df"
   ]
  },
  {
   "cell_type": "code",
   "execution_count": 108,
   "id": "a015cccd",
   "metadata": {},
   "outputs": [
    {
     "name": "stdout",
     "output_type": "stream",
     "text": [
      "              precision    recall  f1-score   support\n",
      "\n",
      "           0       0.25      0.92      0.40       489\n",
      "           1       0.44      0.12      0.19        34\n",
      "           2       0.36      0.86      0.50       305\n",
      "           3       0.02      0.28      0.05        18\n",
      "           4       0.30      0.83      0.44       286\n",
      "           5       0.10      0.68      0.18        56\n",
      "           6       1.00      0.69      0.82      4430\n",
      "\n",
      "   micro avg       0.58      0.73      0.65      5618\n",
      "   macro avg       0.35      0.63      0.37      5618\n",
      "weighted avg       0.85      0.73      0.73      5618\n",
      " samples avg       0.68      0.71      0.69      5618\n",
      "               precision    recall  f1-score   support\n",
      "\n",
      "           0       0.75      0.97      0.85       489\n",
      "           1       0.00      0.00      0.00        34\n",
      "           2       0.69      0.55      0.61       305\n",
      "           3       0.00      0.00      0.00        18\n",
      "           4       0.83      0.61      0.71       286\n",
      "           5       0.00      0.00      0.00        56\n",
      "           6       1.00      0.96      0.98      4430\n",
      "\n",
      "   micro avg       0.95      0.90      0.92      5618\n",
      "   macro avg       0.47      0.44      0.45      5618\n",
      "weighted avg       0.93      0.90      0.91      5618\n",
      " samples avg       0.95      0.94      0.94      5618\n",
      "\n"
     ]
    }
   ],
   "source": [
    "print(class_rep_2, class_rep_5)"
   ]
  },
  {
   "cell_type": "code",
   "execution_count": 118,
   "id": "f14e945f",
   "metadata": {},
   "outputs": [
    {
     "data": {
      "text/html": [
       "<div>\n",
       "<style scoped>\n",
       "    .dataframe tbody tr th:only-of-type {\n",
       "        vertical-align: middle;\n",
       "    }\n",
       "\n",
       "    .dataframe tbody tr th {\n",
       "        vertical-align: top;\n",
       "    }\n",
       "\n",
       "    .dataframe thead th {\n",
       "        text-align: right;\n",
       "    }\n",
       "</style>\n",
       "<table border=\"1\" class=\"dataframe\">\n",
       "  <thead>\n",
       "    <tr style=\"text-align: right;\">\n",
       "      <th></th>\n",
       "      <th>precision</th>\n",
       "      <th>recall</th>\n",
       "      <th>f1-score</th>\n",
       "    </tr>\n",
       "  </thead>\n",
       "  <tbody>\n",
       "    <tr>\n",
       "      <th>Logistic Regression</th>\n",
       "      <td>0.98</td>\n",
       "      <td>0.97</td>\n",
       "      <td>0.97</td>\n",
       "    </tr>\n",
       "    <tr>\n",
       "      <th>Multinomial NB</th>\n",
       "      <td>0.85</td>\n",
       "      <td>0.73</td>\n",
       "      <td>0.73</td>\n",
       "    </tr>\n",
       "    <tr>\n",
       "      <th>Random Forest</th>\n",
       "      <td>0.93</td>\n",
       "      <td>0.90</td>\n",
       "      <td>0.91</td>\n",
       "    </tr>\n",
       "  </tbody>\n",
       "</table>\n",
       "</div>"
      ],
      "text/plain": [
       "                     precision  recall  f1-score\n",
       "Logistic Regression       0.98    0.97      0.97\n",
       "Multinomial NB            0.85    0.73      0.73\n",
       "Random Forest             0.93    0.90      0.91"
      ]
     },
     "execution_count": 118,
     "metadata": {},
     "output_type": "execute_result"
    }
   ],
   "source": [
    "# Create metrics dataframe to compare resutls.\n",
    "metrics_df = pd.DataFrame(data={\"precision\": [0.98, 0.85, 0.93],\n",
    "                                \"recall\": [0.97, 0.73, 0.90],\n",
    "                                \"f1-score\": [0.97, 0.73, 0.91]},\n",
    "                        index=[\"Logistic Regression\", \n",
    "                               \"Multinomial NB\",\n",
    "                               \"Random Forest\"])\n",
    "metrics_df"
   ]
  },
  {
   "cell_type": "code",
   "execution_count": 124,
   "id": "511dddef",
   "metadata": {},
   "outputs": [
    {
     "data": {
      "image/png": "[encoded data removed]",
      "text/plain": [
       "<Figure size 640x480 with 1 Axes>"
      ]
     },
     "metadata": {},
     "output_type": "display_data"
    }
   ],
   "source": [
    "# Visualize metrics with a line chart.\n",
    "metrics_df.T.plot(title=\"Metrics\", ylabel=\"Score\")\n",
    "plt.show()"
   ]
  },
  {
   "cell_type": "code",
   "execution_count": null,
   "id": "fb6baee2",
   "metadata": {},
   "outputs": [],
   "source": []
  }
 ],
 "metadata": {
  "kernelspec": {
   "display_name": "Python 3.10.6 ('data_science')",
   "language": "python",
   "name": "python3"
  },
  "language_info": {
   "codemirror_mode": {
    "name": "ipython",
    "version": 3
   },
   "file_extension": ".py",
   "mimetype": "text/x-python",
   "name": "python",
   "nbconvert_exporter": "python",
   "pygments_lexer": "ipython3",
   "version": "3.10.6"
  },
  "vscode": {
   "interpreter": {
    "hash": "f9fd1899e16d38170b8e363e069388b78f8cb04e683393a670a30d43a10a61b5"
   }
  }
 },
 "nbformat": 4,
 "nbformat_minor": 5
}
