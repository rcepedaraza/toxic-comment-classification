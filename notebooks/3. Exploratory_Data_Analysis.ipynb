{
 "cells": [
  {
   "cell_type": "markdown",
   "id": "6a122ef1",
   "metadata": {},
   "source": [
    "__EDA__ involves generating summary statistics for numerical data in the dataset and creating various graphical representations to understand the data better.\n",
    "\n",
    "As we noticed in the `Data_Wrangling` notebook, the data is pretty much clean with no NaN observations."
   ]
  },
  {
   "cell_type": "markdown",
   "id": "e93b8e8a",
   "metadata": {},
   "source": [
    "## Import libraries"
   ]
  },
  {
   "cell_type": "code",
   "execution_count": 1,
   "id": "a5822601",
   "metadata": {},
   "outputs": [],
   "source": [
    "# Essential libraries\n",
    "import numpy as np\n",
    "import pandas as pd\n",
    "import matplotlib.pyplot as plt\n",
    "import seaborn as sns\n",
    "\n",
    "sns.set_style(\"darkgrid\")\n",
    "# sns.set(rc={\"figure.dpi\":300})\n",
    "# plt.rcParams[\"figure.dpi\"] = 300\n"
   ]
  },
  {
   "cell_type": "markdown",
   "id": "0ba2080b",
   "metadata": {},
   "source": [
    "## Read data"
   ]
  },
  {
   "cell_type": "code",
   "execution_count": 2,
   "id": "c91bca1e",
   "metadata": {},
   "outputs": [],
   "source": [
    "# Importing train and test subsets\n",
    "train = pd.read_csv(\"../data/train.csv\")\n",
    "test = pd.read_csv(\"../data/test.csv\")"
   ]
  },
  {
   "cell_type": "code",
   "execution_count": 3,
   "id": "d4f81e3b",
   "metadata": {},
   "outputs": [
    {
     "data": {
      "text/html": [
       "<div>\n",
       "<style scoped>\n",
       "    .dataframe tbody tr th:only-of-type {\n",
       "        vertical-align: middle;\n",
       "    }\n",
       "\n",
       "    .dataframe tbody tr th {\n",
       "        vertical-align: top;\n",
       "    }\n",
       "\n",
       "    .dataframe thead th {\n",
       "        text-align: right;\n",
       "    }\n",
       "</style>\n",
       "<table border=\"1\" class=\"dataframe\">\n",
       "  <thead>\n",
       "    <tr style=\"text-align: right;\">\n",
       "      <th></th>\n",
       "      <th>id</th>\n",
       "      <th>comment_text</th>\n",
       "      <th>toxic</th>\n",
       "      <th>severe_toxic</th>\n",
       "      <th>obscene</th>\n",
       "      <th>threat</th>\n",
       "      <th>insult</th>\n",
       "      <th>identity_hate</th>\n",
       "    </tr>\n",
       "  </thead>\n",
       "  <tbody>\n",
       "    <tr>\n",
       "      <th>124635</th>\n",
       "      <td>9aba5f3cb9cadc2e</td>\n",
       "      <td>Thank you for experimenting with the page Univ...</td>\n",
       "      <td>0</td>\n",
       "      <td>0</td>\n",
       "      <td>0</td>\n",
       "      <td>0</td>\n",
       "      <td>0</td>\n",
       "      <td>0</td>\n",
       "    </tr>\n",
       "    <tr>\n",
       "      <th>90893</th>\n",
       "      <td>f3284d7061f6ebb4</td>\n",
       "      <td>THE USER BIGDUNC IS A LOOBTARD</td>\n",
       "      <td>1</td>\n",
       "      <td>0</td>\n",
       "      <td>0</td>\n",
       "      <td>0</td>\n",
       "      <td>0</td>\n",
       "      <td>0</td>\n",
       "    </tr>\n",
       "    <tr>\n",
       "      <th>28296</th>\n",
       "      <td>4aeb574b5d831a65</td>\n",
       "      <td>Hup, make that three editors. Hammond take you...</td>\n",
       "      <td>0</td>\n",
       "      <td>0</td>\n",
       "      <td>0</td>\n",
       "      <td>0</td>\n",
       "      <td>0</td>\n",
       "      <td>0</td>\n",
       "    </tr>\n",
       "    <tr>\n",
       "      <th>87691</th>\n",
       "      <td>ea9156e90303a0ca</td>\n",
       "      <td>Sorry WilyD, but these nicknames are racist an...</td>\n",
       "      <td>0</td>\n",
       "      <td>0</td>\n",
       "      <td>0</td>\n",
       "      <td>0</td>\n",
       "      <td>0</td>\n",
       "      <td>0</td>\n",
       "    </tr>\n",
       "    <tr>\n",
       "      <th>143824</th>\n",
       "      <td>033124dddb5898ca</td>\n",
       "      <td>Biggus Dickus \\nBlow me, Senor Freebie.  FOX N...</td>\n",
       "      <td>1</td>\n",
       "      <td>0</td>\n",
       "      <td>1</td>\n",
       "      <td>0</td>\n",
       "      <td>1</td>\n",
       "      <td>0</td>\n",
       "    </tr>\n",
       "  </tbody>\n",
       "</table>\n",
       "</div>"
      ],
      "text/plain": [
       "                      id                                       comment_text  \\\n",
       "124635  9aba5f3cb9cadc2e  Thank you for experimenting with the page Univ...   \n",
       "90893   f3284d7061f6ebb4                     THE USER BIGDUNC IS A LOOBTARD   \n",
       "28296   4aeb574b5d831a65  Hup, make that three editors. Hammond take you...   \n",
       "87691   ea9156e90303a0ca  Sorry WilyD, but these nicknames are racist an...   \n",
       "143824  033124dddb5898ca  Biggus Dickus \\nBlow me, Senor Freebie.  FOX N...   \n",
       "\n",
       "        toxic  severe_toxic  obscene  threat  insult  identity_hate  \n",
       "124635      0             0        0       0       0              0  \n",
       "90893       1             0        0       0       0              0  \n",
       "28296       0             0        0       0       0              0  \n",
       "87691       0             0        0       0       0              0  \n",
       "143824      1             0        1       0       1              0  "
      ]
     },
     "execution_count": 3,
     "metadata": {},
     "output_type": "execute_result"
    }
   ],
   "source": [
    "# Take a look at the data\n",
    "train.sample(n=5)"
   ]
  },
  {
   "cell_type": "markdown",
   "id": "721dc8a6",
   "metadata": {},
   "source": [
    "The data comes from a large number of Wikipedia comments which have been labeled by human raters for toxic behavior."
   ]
  },
  {
   "cell_type": "code",
   "execution_count": 4,
   "id": "57ba6d5b",
   "metadata": {},
   "outputs": [
    {
     "name": "stdout",
     "output_type": "stream",
     "text": [
      "<class 'pandas.core.frame.DataFrame'>\n",
      "RangeIndex: 159571 entries, 0 to 159570\n",
      "Data columns (total 8 columns):\n",
      " #   Column         Non-Null Count   Dtype \n",
      "---  ------         --------------   ----- \n",
      " 0   id             159571 non-null  object\n",
      " 1   comment_text   159571 non-null  object\n",
      " 2   toxic          159571 non-null  int64 \n",
      " 3   severe_toxic   159571 non-null  int64 \n",
      " 4   obscene        159571 non-null  int64 \n",
      " 5   threat         159571 non-null  int64 \n",
      " 6   insult         159571 non-null  int64 \n",
      " 7   identity_hate  159571 non-null  int64 \n",
      "dtypes: int64(6), object(2)\n",
      "memory usage: 9.7+ MB\n",
      "None\n"
     ]
    }
   ],
   "source": [
    "print(train.info())"
   ]
  },
  {
   "cell_type": "markdown",
   "id": "646b8aa0",
   "metadata": {},
   "source": [
    "## Data analysis"
   ]
  },
  {
   "cell_type": "code",
   "execution_count": 5,
   "id": "5efe3665",
   "metadata": {},
   "outputs": [
    {
     "name": "stdout",
     "output_type": "stream",
     "text": [
      "Train: (159571, 8)\n",
      "Test:  (153164, 2)\n"
     ]
    }
   ],
   "source": [
    "# print total observations in train and test subsets\n",
    "print(\"Train: {}\".format(train.shape))\n",
    "print(\"Test:  {}\".format(test.shape))"
   ]
  },
  {
   "cell_type": "code",
   "execution_count": 6,
   "id": "1c212fe5",
   "metadata": {},
   "outputs": [
    {
     "name": "stdout",
     "output_type": "stream",
     "text": [
      "63828     0\n",
      "16906     0\n",
      "86756     0\n",
      "140202    0\n",
      "92297     0\n",
      "94920     0\n",
      "112754    0\n",
      "109786    0\n",
      "113285    2\n",
      "42179     0\n",
      "Name: tags, dtype: int64\n"
     ]
    }
   ],
   "source": [
    "# Copy dataframe for manipulation\n",
    "X = train.copy()\n",
    "\n",
    "# Check for clean comments\n",
    "X[\"tags\"] = np.sum(X.iloc[:, 2:], axis=1)\n",
    "print(X[\"tags\"].sample(10))\n",
    "X[\"is_clean\"] = X[\"tags\"].apply(lambda x : 1 if x == 0 else 0)"
   ]
  },
  {
   "cell_type": "markdown",
   "id": "3dc6380b",
   "metadata": {},
   "source": [
    "We can notice that there are multiple cases where a comment has more than one label."
   ]
  },
  {
   "cell_type": "code",
   "execution_count": 7,
   "id": "a0fb0f68",
   "metadata": {},
   "outputs": [
    {
     "name": "stdout",
     "output_type": "stream",
     "text": [
      "Total comments: 159571\n",
      "Total clean comments: 143346\n",
      "Total not clean comments: 16225\n"
     ]
    }
   ],
   "source": [
    "total_comm = X.shape[0]\n",
    "total_clean_comm = X[\"is_clean\"].sum()\n",
    "total_not_clean_comm = total_comm - total_clean_comm\n",
    "\n",
    "print(\"Total comments: {}\".format(total_comm))\n",
    "print(\"Total clean comments: {}\".format(total_clean_comm))\n",
    "print(\"Total not clean comments: {}\".format(total_not_clean_comm))"
   ]
  },
  {
   "cell_type": "code",
   "execution_count": 8,
   "id": "362afca0",
   "metadata": {},
   "outputs": [
    {
     "data": {
      "image/png": "[encoded data removed]",
      "text/plain": [
       "<Figure size 576x432 with 1 Axes>"
      ]
     },
     "metadata": {
      "needs_background": "light"
     },
     "output_type": "display_data"
    }
   ],
   "source": [
    "# Visualization of comments\n",
    "f, ax = plt.subplots(figsize=(8, 6))\n",
    "sns.histplot(X[\"is_clean\"], bins=3)\n",
    "ax.set_xticks([0, 1])\n",
    "ax.set_title(\"Clean Comments\")\n",
    "plt.show()"
   ]
  },
  {
   "cell_type": "code",
   "execution_count": 9,
   "id": "99bea269",
   "metadata": {},
   "outputs": [
    {
     "name": "stdout",
     "output_type": "stream",
     "text": [
      "toxic            15294\n",
      "severe_toxic      1595\n",
      "obscene           8449\n",
      "threat             478\n",
      "insult            7877\n",
      "identity_hate     1405\n",
      "dtype: int64\n"
     ]
    }
   ],
   "source": [
    "comment_types = X.iloc[:, 2:-2].sum()\n",
    "print(comment_types)"
   ]
  },
  {
   "cell_type": "code",
   "execution_count": 10,
   "id": "807e822e",
   "metadata": {},
   "outputs": [
    {
     "data": {
      "image/png": "[encoded data removed]",
      "text/plain": [
       "<Figure size 864x576 with 1 Axes>"
      ]
     },
     "metadata": {
      "needs_background": "light"
     },
     "output_type": "display_data"
    }
   ],
   "source": [
    "f, ax = plt.subplots(figsize=(12, 8))\n",
    "sns.barplot(\n",
    "    x=comment_types.index,\n",
    "    y=comment_types.values,\n",
    "    palette=\"Accent\"\n",
    ")\n",
    "ax.set_title(\"Count per kind of comment\", fontsize=16)\n",
    "ax.set_xlabel(\"Comment type\")\n",
    "ax.set_ylabel(\"Count\")\n",
    "plt.show()"
   ]
  },
  {
   "cell_type": "markdown",
   "id": "a22e37b8",
   "metadata": {},
   "source": [
    "As from the above graph, we notice that the different types of comments are not normally distributed, so we might face a class imbalance problem."
   ]
  },
  {
   "cell_type": "markdown",
   "id": "de4f86a2",
   "metadata": {},
   "source": [
    "Let's check how many coments have multiple tags"
   ]
  },
  {
   "cell_type": "code",
   "execution_count": 11,
   "id": "c223a0d3",
   "metadata": {},
   "outputs": [
    {
     "name": "stdout",
     "output_type": "stream",
     "text": [
      "0    143346\n",
      "1      6360\n",
      "3      4209\n",
      "2      3480\n",
      "4      1760\n",
      "5       385\n",
      "6        31\n",
      "Name: tags, dtype: int64\n"
     ]
    }
   ],
   "source": [
    "count_tags = X[\"tags\"].value_counts()\n",
    "print(count_tags)"
   ]
  },
  {
   "cell_type": "code",
   "execution_count": 12,
   "id": "f157638b",
   "metadata": {},
   "outputs": [
    {
     "data": {
      "image/png": "[encoded data removed]",
      "text/plain": [
       "<Figure size 864x576 with 1 Axes>"
      ]
     },
     "metadata": {
      "needs_background": "light"
     },
     "output_type": "display_data"
    }
   ],
   "source": [
    "f, ax = plt.subplots(figsize=(12, 8))\n",
    "sns.barplot(\n",
    "    x=count_tags.index,\n",
    "    y=count_tags.values\n",
    ")\n",
    "ax.set_title(\"multiple tags per comment\".title(),\n",
    "            fontsize=18)\n",
    "ax.set_xlabel(\"# of tags\")\n",
    "ax.set_ylabel(\"Count\")\n",
    "plt.show()"
   ]
  },
  {
   "cell_type": "markdown",
   "id": "efef6139",
   "metadata": {},
   "source": [
    "## Relationship between features"
   ]
  },
  {
   "cell_type": "code",
   "execution_count": null,
   "id": "e8da7868",
   "metadata": {},
   "outputs": [],
   "source": []
  }
 ],
 "metadata": {
  "kernelspec": {
   "display_name": "Python 3 (ipykernel)",
   "language": "python",
   "name": "python3"
  },
  "language_info": {
   "codemirror_mode": {
    "name": "ipython",
    "version": 3
   },
   "file_extension": ".py",
   "mimetype": "text/x-python",
   "name": "python",
   "nbconvert_exporter": "python",
   "pygments_lexer": "ipython3",
   "version": "3.9.13"
  }
 },
 "nbformat": 4,
 "nbformat_minor": 5
}
