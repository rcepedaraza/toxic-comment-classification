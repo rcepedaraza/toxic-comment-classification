{
 "cells": [
  {
   "cell_type": "markdown",
   "id": "ce502c87",
   "metadata": {},
   "source": [
    "__EDA__ involves generating summary statistics for numerical data in the dataset and creating various graphical representations to understand the data better.\n",
    "\n",
    "As we noticed in the `Data_Wrangling` notebook, the data is pretty much clean with no NaN observations."
   ]
  },
  {
   "cell_type": "markdown",
   "id": "6ecb9aa9",
   "metadata": {},
   "source": [
    "### Import libraries"
   ]
  },
  {
   "cell_type": "code",
   "execution_count": 1,
   "id": "e6ceb784",
   "metadata": {},
   "outputs": [],
   "source": [
    "# Essential libraries\n",
    "import numpy as np\n",
    "import pandas as pd\n",
    "import matplotlib.pyplot as plt\n",
    "import seaborn as sns\n",
    "\n",
    "sns.set_style(\"darkgrid\")"
   ]
  },
  {
   "cell_type": "markdown",
   "id": "ffbf2a0c",
   "metadata": {},
   "source": [
    "### Read the data"
   ]
  },
  {
   "cell_type": "code",
   "execution_count": 2,
   "id": "47bd20de",
   "metadata": {},
   "outputs": [],
   "source": [
    "# Importing train and test subsets\n",
    "train_df = pd.read_csv(\"../data/train.csv\")\n",
    "test_df = pd.read_csv(\"../data/test.csv\")\n",
    "test_labels_df = pd.read_csv(\"../data/test_labels.csv\")"
   ]
  },
  {
   "cell_type": "code",
   "execution_count": 3,
   "id": "bc58e2a0",
   "metadata": {},
   "outputs": [
    {
     "data": {
      "text/html": [
       "<div>\n",
       "<style scoped>\n",
       "    .dataframe tbody tr th:only-of-type {\n",
       "        vertical-align: middle;\n",
       "    }\n",
       "\n",
       "    .dataframe tbody tr th {\n",
       "        vertical-align: top;\n",
       "    }\n",
       "\n",
       "    .dataframe thead th {\n",
       "        text-align: right;\n",
       "    }\n",
       "</style>\n",
       "<table border=\"1\" class=\"dataframe\">\n",
       "  <thead>\n",
       "    <tr style=\"text-align: right;\">\n",
       "      <th></th>\n",
       "      <th>id</th>\n",
       "      <th>comment_text</th>\n",
       "      <th>toxic</th>\n",
       "      <th>severe_toxic</th>\n",
       "      <th>obscene</th>\n",
       "      <th>threat</th>\n",
       "      <th>insult</th>\n",
       "      <th>identity_hate</th>\n",
       "    </tr>\n",
       "  </thead>\n",
       "  <tbody>\n",
       "    <tr>\n",
       "      <th>0</th>\n",
       "      <td>0000997932d777bf</td>\n",
       "      <td>Explanation\\nWhy the edits made under my usern...</td>\n",
       "      <td>0</td>\n",
       "      <td>0</td>\n",
       "      <td>0</td>\n",
       "      <td>0</td>\n",
       "      <td>0</td>\n",
       "      <td>0</td>\n",
       "    </tr>\n",
       "    <tr>\n",
       "      <th>1</th>\n",
       "      <td>000103f0d9cfb60f</td>\n",
       "      <td>D'aww! He matches this background colour I'm s...</td>\n",
       "      <td>0</td>\n",
       "      <td>0</td>\n",
       "      <td>0</td>\n",
       "      <td>0</td>\n",
       "      <td>0</td>\n",
       "      <td>0</td>\n",
       "    </tr>\n",
       "    <tr>\n",
       "      <th>2</th>\n",
       "      <td>000113f07ec002fd</td>\n",
       "      <td>Hey man, I'm really not trying to edit war. It...</td>\n",
       "      <td>0</td>\n",
       "      <td>0</td>\n",
       "      <td>0</td>\n",
       "      <td>0</td>\n",
       "      <td>0</td>\n",
       "      <td>0</td>\n",
       "    </tr>\n",
       "  </tbody>\n",
       "</table>\n",
       "</div>"
      ],
      "text/plain": [
       "                 id                                       comment_text  toxic  \\\n",
       "0  0000997932d777bf  Explanation\\nWhy the edits made under my usern...      0   \n",
       "1  000103f0d9cfb60f  D'aww! He matches this background colour I'm s...      0   \n",
       "2  000113f07ec002fd  Hey man, I'm really not trying to edit war. It...      0   \n",
       "\n",
       "   severe_toxic  obscene  threat  insult  identity_hate  \n",
       "0             0        0       0       0              0  \n",
       "1             0        0       0       0              0  \n",
       "2             0        0       0       0              0  "
      ]
     },
     "execution_count": 3,
     "metadata": {},
     "output_type": "execute_result"
    }
   ],
   "source": [
    "# Take a look at the data\n",
    "train_df.head(n=3)"
   ]
  },
  {
   "cell_type": "code",
   "execution_count": 4,
   "id": "2f46cf9c",
   "metadata": {},
   "outputs": [
    {
     "data": {
      "text/html": [
       "<div>\n",
       "<style scoped>\n",
       "    .dataframe tbody tr th:only-of-type {\n",
       "        vertical-align: middle;\n",
       "    }\n",
       "\n",
       "    .dataframe tbody tr th {\n",
       "        vertical-align: top;\n",
       "    }\n",
       "\n",
       "    .dataframe thead th {\n",
       "        text-align: right;\n",
       "    }\n",
       "</style>\n",
       "<table border=\"1\" class=\"dataframe\">\n",
       "  <thead>\n",
       "    <tr style=\"text-align: right;\">\n",
       "      <th></th>\n",
       "      <th>id</th>\n",
       "      <th>comment_text</th>\n",
       "    </tr>\n",
       "  </thead>\n",
       "  <tbody>\n",
       "    <tr>\n",
       "      <th>0</th>\n",
       "      <td>00001cee341fdb12</td>\n",
       "      <td>Yo bitch Ja Rule is more succesful then you'll...</td>\n",
       "    </tr>\n",
       "    <tr>\n",
       "      <th>1</th>\n",
       "      <td>0000247867823ef7</td>\n",
       "      <td>== From RfC == \\n\\n The title is fine as it is...</td>\n",
       "    </tr>\n",
       "    <tr>\n",
       "      <th>2</th>\n",
       "      <td>00013b17ad220c46</td>\n",
       "      <td>\" \\n\\n == Sources == \\n\\n * Zawe Ashton on Lap...</td>\n",
       "    </tr>\n",
       "  </tbody>\n",
       "</table>\n",
       "</div>"
      ],
      "text/plain": [
       "                 id                                       comment_text\n",
       "0  00001cee341fdb12  Yo bitch Ja Rule is more succesful then you'll...\n",
       "1  0000247867823ef7  == From RfC == \\n\\n The title is fine as it is...\n",
       "2  00013b17ad220c46  \" \\n\\n == Sources == \\n\\n * Zawe Ashton on Lap..."
      ]
     },
     "execution_count": 4,
     "metadata": {},
     "output_type": "execute_result"
    }
   ],
   "source": [
    "test_df.head(n=3)"
   ]
  },
  {
   "cell_type": "code",
   "execution_count": 5,
   "id": "84d742f5",
   "metadata": {},
   "outputs": [
    {
     "data": {
      "text/html": [
       "<div>\n",
       "<style scoped>\n",
       "    .dataframe tbody tr th:only-of-type {\n",
       "        vertical-align: middle;\n",
       "    }\n",
       "\n",
       "    .dataframe tbody tr th {\n",
       "        vertical-align: top;\n",
       "    }\n",
       "\n",
       "    .dataframe thead th {\n",
       "        text-align: right;\n",
       "    }\n",
       "</style>\n",
       "<table border=\"1\" class=\"dataframe\">\n",
       "  <thead>\n",
       "    <tr style=\"text-align: right;\">\n",
       "      <th></th>\n",
       "      <th>id</th>\n",
       "      <th>toxic</th>\n",
       "      <th>severe_toxic</th>\n",
       "      <th>obscene</th>\n",
       "      <th>threat</th>\n",
       "      <th>insult</th>\n",
       "      <th>identity_hate</th>\n",
       "    </tr>\n",
       "  </thead>\n",
       "  <tbody>\n",
       "    <tr>\n",
       "      <th>0</th>\n",
       "      <td>00001cee341fdb12</td>\n",
       "      <td>-1</td>\n",
       "      <td>-1</td>\n",
       "      <td>-1</td>\n",
       "      <td>-1</td>\n",
       "      <td>-1</td>\n",
       "      <td>-1</td>\n",
       "    </tr>\n",
       "    <tr>\n",
       "      <th>1</th>\n",
       "      <td>0000247867823ef7</td>\n",
       "      <td>-1</td>\n",
       "      <td>-1</td>\n",
       "      <td>-1</td>\n",
       "      <td>-1</td>\n",
       "      <td>-1</td>\n",
       "      <td>-1</td>\n",
       "    </tr>\n",
       "    <tr>\n",
       "      <th>2</th>\n",
       "      <td>00013b17ad220c46</td>\n",
       "      <td>-1</td>\n",
       "      <td>-1</td>\n",
       "      <td>-1</td>\n",
       "      <td>-1</td>\n",
       "      <td>-1</td>\n",
       "      <td>-1</td>\n",
       "    </tr>\n",
       "  </tbody>\n",
       "</table>\n",
       "</div>"
      ],
      "text/plain": [
       "                 id  toxic  severe_toxic  obscene  threat  insult  \\\n",
       "0  00001cee341fdb12     -1            -1       -1      -1      -1   \n",
       "1  0000247867823ef7     -1            -1       -1      -1      -1   \n",
       "2  00013b17ad220c46     -1            -1       -1      -1      -1   \n",
       "\n",
       "   identity_hate  \n",
       "0             -1  \n",
       "1             -1  \n",
       "2             -1  "
      ]
     },
     "execution_count": 5,
     "metadata": {},
     "output_type": "execute_result"
    }
   ],
   "source": [
    "test_labels_df.head(3)"
   ]
  },
  {
   "cell_type": "markdown",
   "id": "8e92ebea",
   "metadata": {},
   "source": [
    "The data comes from a large number of Wikipedia comments which have been labeled by human raters for toxic behavior."
   ]
  },
  {
   "cell_type": "code",
   "execution_count": 6,
   "id": "988ccde6",
   "metadata": {},
   "outputs": [
    {
     "name": "stdout",
     "output_type": "stream",
     "text": [
      "<class 'pandas.core.frame.DataFrame'>\n",
      "RangeIndex: 159571 entries, 0 to 159570\n",
      "Data columns (total 8 columns):\n",
      " #   Column         Non-Null Count   Dtype \n",
      "---  ------         --------------   ----- \n",
      " 0   id             159571 non-null  object\n",
      " 1   comment_text   159571 non-null  object\n",
      " 2   toxic          159571 non-null  int64 \n",
      " 3   severe_toxic   159571 non-null  int64 \n",
      " 4   obscene        159571 non-null  int64 \n",
      " 5   threat         159571 non-null  int64 \n",
      " 6   insult         159571 non-null  int64 \n",
      " 7   identity_hate  159571 non-null  int64 \n",
      "dtypes: int64(6), object(2)\n",
      "memory usage: 9.7+ MB\n",
      "None\n"
     ]
    }
   ],
   "source": [
    "print(train_df.info())"
   ]
  },
  {
   "cell_type": "markdown",
   "id": "4b095ad7",
   "metadata": {},
   "source": [
    "### Data analysis"
   ]
  },
  {
   "cell_type": "code",
   "execution_count": 7,
   "id": "3560a218",
   "metadata": {},
   "outputs": [
    {
     "name": "stdout",
     "output_type": "stream",
     "text": [
      "Train DataFrame:\t(159571, 8)\n",
      "Test DataFrame: \t(153164, 8)\n"
     ]
    }
   ],
   "source": [
    "# Concatenate test and test_labels onto one dataFrame\n",
    "test_df = pd.merge(left=test_df, right=test_labels_df, on=[\"id\"])\n",
    "\n",
    "# print total observations in train and test subsets\n",
    "print(\"Train DataFrame:\\t{}\".format(train_df.shape))\n",
    "print(\"Test DataFrame: \\t{}\".format(test_df.shape))"
   ]
  },
  {
   "cell_type": "code",
   "execution_count": 8,
   "id": "2edf7cf5",
   "metadata": {},
   "outputs": [
    {
     "data": {
      "text/html": [
       "<div>\n",
       "<style scoped>\n",
       "    .dataframe tbody tr th:only-of-type {\n",
       "        vertical-align: middle;\n",
       "    }\n",
       "\n",
       "    .dataframe tbody tr th {\n",
       "        vertical-align: top;\n",
       "    }\n",
       "\n",
       "    .dataframe thead th {\n",
       "        text-align: right;\n",
       "    }\n",
       "</style>\n",
       "<table border=\"1\" class=\"dataframe\">\n",
       "  <thead>\n",
       "    <tr style=\"text-align: right;\">\n",
       "      <th></th>\n",
       "      <th>id</th>\n",
       "      <th>comment_text</th>\n",
       "      <th>toxic</th>\n",
       "      <th>severe_toxic</th>\n",
       "      <th>obscene</th>\n",
       "      <th>threat</th>\n",
       "      <th>insult</th>\n",
       "      <th>identity_hate</th>\n",
       "    </tr>\n",
       "  </thead>\n",
       "  <tbody>\n",
       "    <tr>\n",
       "      <th>0</th>\n",
       "      <td>00001cee341fdb12</td>\n",
       "      <td>Yo bitch Ja Rule is more succesful then you'll...</td>\n",
       "      <td>-1</td>\n",
       "      <td>-1</td>\n",
       "      <td>-1</td>\n",
       "      <td>-1</td>\n",
       "      <td>-1</td>\n",
       "      <td>-1</td>\n",
       "    </tr>\n",
       "    <tr>\n",
       "      <th>1</th>\n",
       "      <td>0000247867823ef7</td>\n",
       "      <td>== From RfC == \\n\\n The title is fine as it is...</td>\n",
       "      <td>-1</td>\n",
       "      <td>-1</td>\n",
       "      <td>-1</td>\n",
       "      <td>-1</td>\n",
       "      <td>-1</td>\n",
       "      <td>-1</td>\n",
       "    </tr>\n",
       "    <tr>\n",
       "      <th>2</th>\n",
       "      <td>00013b17ad220c46</td>\n",
       "      <td>\" \\n\\n == Sources == \\n\\n * Zawe Ashton on Lap...</td>\n",
       "      <td>-1</td>\n",
       "      <td>-1</td>\n",
       "      <td>-1</td>\n",
       "      <td>-1</td>\n",
       "      <td>-1</td>\n",
       "      <td>-1</td>\n",
       "    </tr>\n",
       "    <tr>\n",
       "      <th>3</th>\n",
       "      <td>00017563c3f7919a</td>\n",
       "      <td>:If you have a look back at the source, the in...</td>\n",
       "      <td>-1</td>\n",
       "      <td>-1</td>\n",
       "      <td>-1</td>\n",
       "      <td>-1</td>\n",
       "      <td>-1</td>\n",
       "      <td>-1</td>\n",
       "    </tr>\n",
       "    <tr>\n",
       "      <th>4</th>\n",
       "      <td>00017695ad8997eb</td>\n",
       "      <td>I don't anonymously edit articles at all.</td>\n",
       "      <td>-1</td>\n",
       "      <td>-1</td>\n",
       "      <td>-1</td>\n",
       "      <td>-1</td>\n",
       "      <td>-1</td>\n",
       "      <td>-1</td>\n",
       "    </tr>\n",
       "  </tbody>\n",
       "</table>\n",
       "</div>"
      ],
      "text/plain": [
       "                 id                                       comment_text  toxic  \\\n",
       "0  00001cee341fdb12  Yo bitch Ja Rule is more succesful then you'll...     -1   \n",
       "1  0000247867823ef7  == From RfC == \\n\\n The title is fine as it is...     -1   \n",
       "2  00013b17ad220c46  \" \\n\\n == Sources == \\n\\n * Zawe Ashton on Lap...     -1   \n",
       "3  00017563c3f7919a  :If you have a look back at the source, the in...     -1   \n",
       "4  00017695ad8997eb          I don't anonymously edit articles at all.     -1   \n",
       "\n",
       "   severe_toxic  obscene  threat  insult  identity_hate  \n",
       "0            -1       -1      -1      -1             -1  \n",
       "1            -1       -1      -1      -1             -1  \n",
       "2            -1       -1      -1      -1             -1  \n",
       "3            -1       -1      -1      -1             -1  \n",
       "4            -1       -1      -1      -1             -1  "
      ]
     },
     "execution_count": 8,
     "metadata": {},
     "output_type": "execute_result"
    }
   ],
   "source": [
    "test_df.head()"
   ]
  },
  {
   "cell_type": "code",
   "execution_count": 9,
   "id": "edbe5b8f",
   "metadata": {},
   "outputs": [],
   "source": [
    "# Check for clean comments\n",
    "train_df[\"tags\"] = np.sum(train_df.iloc[:, 2:], axis=1)\n",
    "test_df[\"tags\"] = np.sum(test_df.iloc[:, 2:], axis=1)\n",
    "\n",
    "# print(train_df[\"tags\"].sample(10))\n",
    "train_df[\"is_clean\"] = train_df[\"tags\"].apply(lambda x : 1 if x == 0 else 0)\n",
    "test_df[\"is_clean\"] = test_df[\"tags\"].apply(lambda x: 1 if x == 0 else 0)"
   ]
  },
  {
   "cell_type": "markdown",
   "id": "bf7ae4fa",
   "metadata": {},
   "source": [
    "We can notice that there are multiple cases where a comment has more than one label."
   ]
  },
  {
   "cell_type": "code",
   "execution_count": 10,
   "id": "4c994f1d",
   "metadata": {},
   "outputs": [
    {
     "data": {
      "text/html": [
       "<div>\n",
       "<style scoped>\n",
       "    .dataframe tbody tr th:only-of-type {\n",
       "        vertical-align: middle;\n",
       "    }\n",
       "\n",
       "    .dataframe tbody tr th {\n",
       "        vertical-align: top;\n",
       "    }\n",
       "\n",
       "    .dataframe thead th {\n",
       "        text-align: right;\n",
       "    }\n",
       "</style>\n",
       "<table border=\"1\" class=\"dataframe\">\n",
       "  <thead>\n",
       "    <tr style=\"text-align: right;\">\n",
       "      <th></th>\n",
       "      <th>id</th>\n",
       "      <th>comment_text</th>\n",
       "      <th>toxic</th>\n",
       "      <th>severe_toxic</th>\n",
       "      <th>obscene</th>\n",
       "      <th>threat</th>\n",
       "      <th>insult</th>\n",
       "      <th>identity_hate</th>\n",
       "      <th>tags</th>\n",
       "      <th>is_clean</th>\n",
       "    </tr>\n",
       "  </thead>\n",
       "  <tbody>\n",
       "    <tr>\n",
       "      <th>0</th>\n",
       "      <td>0000997932d777bf</td>\n",
       "      <td>Explanation\\nWhy the edits made under my usern...</td>\n",
       "      <td>0</td>\n",
       "      <td>0</td>\n",
       "      <td>0</td>\n",
       "      <td>0</td>\n",
       "      <td>0</td>\n",
       "      <td>0</td>\n",
       "      <td>0</td>\n",
       "      <td>1</td>\n",
       "    </tr>\n",
       "    <tr>\n",
       "      <th>1</th>\n",
       "      <td>000103f0d9cfb60f</td>\n",
       "      <td>D'aww! He matches this background colour I'm s...</td>\n",
       "      <td>0</td>\n",
       "      <td>0</td>\n",
       "      <td>0</td>\n",
       "      <td>0</td>\n",
       "      <td>0</td>\n",
       "      <td>0</td>\n",
       "      <td>0</td>\n",
       "      <td>1</td>\n",
       "    </tr>\n",
       "    <tr>\n",
       "      <th>2</th>\n",
       "      <td>000113f07ec002fd</td>\n",
       "      <td>Hey man, I'm really not trying to edit war. It...</td>\n",
       "      <td>0</td>\n",
       "      <td>0</td>\n",
       "      <td>0</td>\n",
       "      <td>0</td>\n",
       "      <td>0</td>\n",
       "      <td>0</td>\n",
       "      <td>0</td>\n",
       "      <td>1</td>\n",
       "    </tr>\n",
       "    <tr>\n",
       "      <th>3</th>\n",
       "      <td>0001b41b1c6bb37e</td>\n",
       "      <td>\"\\nMore\\nI can't make any real suggestions on ...</td>\n",
       "      <td>0</td>\n",
       "      <td>0</td>\n",
       "      <td>0</td>\n",
       "      <td>0</td>\n",
       "      <td>0</td>\n",
       "      <td>0</td>\n",
       "      <td>0</td>\n",
       "      <td>1</td>\n",
       "    </tr>\n",
       "    <tr>\n",
       "      <th>4</th>\n",
       "      <td>0001d958c54c6e35</td>\n",
       "      <td>You, sir, are my hero. Any chance you remember...</td>\n",
       "      <td>0</td>\n",
       "      <td>0</td>\n",
       "      <td>0</td>\n",
       "      <td>0</td>\n",
       "      <td>0</td>\n",
       "      <td>0</td>\n",
       "      <td>0</td>\n",
       "      <td>1</td>\n",
       "    </tr>\n",
       "  </tbody>\n",
       "</table>\n",
       "</div>"
      ],
      "text/plain": [
       "                 id                                       comment_text  toxic  \\\n",
       "0  0000997932d777bf  Explanation\\nWhy the edits made under my usern...      0   \n",
       "1  000103f0d9cfb60f  D'aww! He matches this background colour I'm s...      0   \n",
       "2  000113f07ec002fd  Hey man, I'm really not trying to edit war. It...      0   \n",
       "3  0001b41b1c6bb37e  \"\\nMore\\nI can't make any real suggestions on ...      0   \n",
       "4  0001d958c54c6e35  You, sir, are my hero. Any chance you remember...      0   \n",
       "\n",
       "   severe_toxic  obscene  threat  insult  identity_hate  tags  is_clean  \n",
       "0             0        0       0       0              0     0         1  \n",
       "1             0        0       0       0              0     0         1  \n",
       "2             0        0       0       0              0     0         1  \n",
       "3             0        0       0       0              0     0         1  \n",
       "4             0        0       0       0              0     0         1  "
      ]
     },
     "execution_count": 10,
     "metadata": {},
     "output_type": "execute_result"
    }
   ],
   "source": [
    "train_df.head()"
   ]
  },
  {
   "cell_type": "code",
   "execution_count": 11,
   "id": "5948c9f4",
   "metadata": {},
   "outputs": [
    {
     "data": {
      "text/html": [
       "<div>\n",
       "<style scoped>\n",
       "    .dataframe tbody tr th:only-of-type {\n",
       "        vertical-align: middle;\n",
       "    }\n",
       "\n",
       "    .dataframe tbody tr th {\n",
       "        vertical-align: top;\n",
       "    }\n",
       "\n",
       "    .dataframe thead th {\n",
       "        text-align: right;\n",
       "    }\n",
       "</style>\n",
       "<table border=\"1\" class=\"dataframe\">\n",
       "  <thead>\n",
       "    <tr style=\"text-align: right;\">\n",
       "      <th></th>\n",
       "      <th>id</th>\n",
       "      <th>comment_text</th>\n",
       "      <th>toxic</th>\n",
       "      <th>severe_toxic</th>\n",
       "      <th>obscene</th>\n",
       "      <th>threat</th>\n",
       "      <th>insult</th>\n",
       "      <th>identity_hate</th>\n",
       "      <th>tags</th>\n",
       "      <th>is_clean</th>\n",
       "    </tr>\n",
       "  </thead>\n",
       "  <tbody>\n",
       "    <tr>\n",
       "      <th>0</th>\n",
       "      <td>00001cee341fdb12</td>\n",
       "      <td>Yo bitch Ja Rule is more succesful then you'll...</td>\n",
       "      <td>-1</td>\n",
       "      <td>-1</td>\n",
       "      <td>-1</td>\n",
       "      <td>-1</td>\n",
       "      <td>-1</td>\n",
       "      <td>-1</td>\n",
       "      <td>-6</td>\n",
       "      <td>0</td>\n",
       "    </tr>\n",
       "    <tr>\n",
       "      <th>1</th>\n",
       "      <td>0000247867823ef7</td>\n",
       "      <td>== From RfC == \\n\\n The title is fine as it is...</td>\n",
       "      <td>-1</td>\n",
       "      <td>-1</td>\n",
       "      <td>-1</td>\n",
       "      <td>-1</td>\n",
       "      <td>-1</td>\n",
       "      <td>-1</td>\n",
       "      <td>-6</td>\n",
       "      <td>0</td>\n",
       "    </tr>\n",
       "    <tr>\n",
       "      <th>2</th>\n",
       "      <td>00013b17ad220c46</td>\n",
       "      <td>\" \\n\\n == Sources == \\n\\n * Zawe Ashton on Lap...</td>\n",
       "      <td>-1</td>\n",
       "      <td>-1</td>\n",
       "      <td>-1</td>\n",
       "      <td>-1</td>\n",
       "      <td>-1</td>\n",
       "      <td>-1</td>\n",
       "      <td>-6</td>\n",
       "      <td>0</td>\n",
       "    </tr>\n",
       "    <tr>\n",
       "      <th>3</th>\n",
       "      <td>00017563c3f7919a</td>\n",
       "      <td>:If you have a look back at the source, the in...</td>\n",
       "      <td>-1</td>\n",
       "      <td>-1</td>\n",
       "      <td>-1</td>\n",
       "      <td>-1</td>\n",
       "      <td>-1</td>\n",
       "      <td>-1</td>\n",
       "      <td>-6</td>\n",
       "      <td>0</td>\n",
       "    </tr>\n",
       "    <tr>\n",
       "      <th>4</th>\n",
       "      <td>00017695ad8997eb</td>\n",
       "      <td>I don't anonymously edit articles at all.</td>\n",
       "      <td>-1</td>\n",
       "      <td>-1</td>\n",
       "      <td>-1</td>\n",
       "      <td>-1</td>\n",
       "      <td>-1</td>\n",
       "      <td>-1</td>\n",
       "      <td>-6</td>\n",
       "      <td>0</td>\n",
       "    </tr>\n",
       "  </tbody>\n",
       "</table>\n",
       "</div>"
      ],
      "text/plain": [
       "                 id                                       comment_text  toxic  \\\n",
       "0  00001cee341fdb12  Yo bitch Ja Rule is more succesful then you'll...     -1   \n",
       "1  0000247867823ef7  == From RfC == \\n\\n The title is fine as it is...     -1   \n",
       "2  00013b17ad220c46  \" \\n\\n == Sources == \\n\\n * Zawe Ashton on Lap...     -1   \n",
       "3  00017563c3f7919a  :If you have a look back at the source, the in...     -1   \n",
       "4  00017695ad8997eb          I don't anonymously edit articles at all.     -1   \n",
       "\n",
       "   severe_toxic  obscene  threat  insult  identity_hate  tags  is_clean  \n",
       "0            -1       -1      -1      -1             -1    -6         0  \n",
       "1            -1       -1      -1      -1             -1    -6         0  \n",
       "2            -1       -1      -1      -1             -1    -6         0  \n",
       "3            -1       -1      -1      -1             -1    -6         0  \n",
       "4            -1       -1      -1      -1             -1    -6         0  "
      ]
     },
     "execution_count": 11,
     "metadata": {},
     "output_type": "execute_result"
    }
   ],
   "source": [
    "test_df.head()"
   ]
  },
  {
   "cell_type": "markdown",
   "id": "bcf84398",
   "metadata": {},
   "source": [
    "A value of `-1` indicates the observation wasn't used for scoring on the dataset. Thus, we proceed to eliminate these observations from the test set."
   ]
  },
  {
   "cell_type": "code",
   "execution_count": 12,
   "id": "a03949fb",
   "metadata": {},
   "outputs": [],
   "source": [
    "# Save only samples that have a real toxic behavior scoring.\n",
    "test_df = test_df[test_df[\"tags\"] >= 0]"
   ]
  },
  {
   "cell_type": "code",
   "execution_count": 13,
   "id": "36d23674",
   "metadata": {},
   "outputs": [
    {
     "data": {
      "text/plain": [
       "0    57735\n",
       "3     2081\n",
       "1     1842\n",
       "2     1530\n",
       "4      611\n",
       "5      165\n",
       "6       14\n",
       "Name: tags, dtype: int64"
      ]
     },
     "execution_count": 13,
     "metadata": {},
     "output_type": "execute_result"
    }
   ],
   "source": [
    "# Check if there is only positive values under \"tags\" for the test set.\n",
    "test_df[\"tags\"].value_counts()"
   ]
  },
  {
   "cell_type": "code",
   "execution_count": 14,
   "id": "a671ff15",
   "metadata": {},
   "outputs": [
    {
     "name": "stdout",
     "output_type": "stream",
     "text": [
      "Total comments: 159571\n",
      "Total clean comments: 143346\n",
      "Total not clean comments: 16225\n"
     ]
    }
   ],
   "source": [
    "# Count how many \"clean\" and \"toxic behavior\" comments we have on the training set.\n",
    "total_comm = train_df.shape[0]\n",
    "total_clean_comm = train_df[\"is_clean\"].sum()\n",
    "total_not_clean_comm = total_comm - total_clean_comm\n",
    "\n",
    "print(\"Total comments: {}\".format(total_comm))\n",
    "print(\"Total clean comments: {}\".format(total_clean_comm))\n",
    "print(\"Total not clean comments: {}\".format(total_not_clean_comm))"
   ]
  },
  {
   "cell_type": "code",
   "execution_count": 15,
   "id": "4ae0f5bd",
   "metadata": {},
   "outputs": [
    {
     "data": {
      "image/png": "[encoded data removed]",
      "text/plain": [
       "<Figure size 800x600 with 1 Axes>"
      ]
     },
     "metadata": {},
     "output_type": "display_data"
    }
   ],
   "source": [
    "# Visualization of \"clean\" comments on the training dataset\n",
    "\n",
    "fig, ax = plt.subplots(figsize=(8, 6))\n",
    "train_df[[\"is_clean\"]].plot(bins=2, ax=ax, kind=\"hist\", title=\"Clean Comments\", \n",
    "                            legend=False, rwidth=0.85, align=\"mid\")\n",
    "ax.set_xticks([0, 1])\n",
    "plt.show()"
   ]
  },
  {
   "cell_type": "code",
   "execution_count": 16,
   "id": "65d8d00f",
   "metadata": {},
   "outputs": [
    {
     "name": "stdout",
     "output_type": "stream",
     "text": [
      "toxic            15294\n",
      "severe_toxic      1595\n",
      "obscene           8449\n",
      "threat             478\n",
      "insult            7877\n",
      "identity_hate     1405\n",
      "dtype: int64\n"
     ]
    }
   ],
   "source": [
    "comment_types = train_df.iloc[:, 2:-2].sum()\n",
    "print(comment_types)"
   ]
  },
  {
   "cell_type": "code",
   "execution_count": 17,
   "id": "0e6e708e",
   "metadata": {},
   "outputs": [
    {
     "data": {
      "image/png": "[encoded data removed]",
      "text/plain": [
       "<Figure size 1000x600 with 1 Axes>"
      ]
     },
     "metadata": {},
     "output_type": "display_data"
    }
   ],
   "source": [
    "f, ax = plt.subplots(figsize=(10, 6))\n",
    "sns.barplot(\n",
    "    x=comment_types.index,\n",
    "    y=comment_types.values,\n",
    "    palette=\"Accent\", ax=ax\n",
    ")\n",
    "ax.set_title(\"Count per kind of comment\", fontsize=16)\n",
    "ax.set_xlabel(\"Comment type\")\n",
    "ax.set_ylabel(\"Count\")\n",
    "plt.show()"
   ]
  },
  {
   "cell_type": "markdown",
   "id": "bab75ee7",
   "metadata": {},
   "source": [
    "As from the above graph, we notice that the different types of comments are not normally distributed, so we might face a class imbalance problem."
   ]
  },
  {
   "cell_type": "markdown",
   "id": "7ff8a11a",
   "metadata": {},
   "source": [
    "Let's check how many coments have multiple tags"
   ]
  },
  {
   "cell_type": "code",
   "execution_count": 18,
   "id": "21b96b0c",
   "metadata": {},
   "outputs": [
    {
     "name": "stdout",
     "output_type": "stream",
     "text": [
      "0    143346\n",
      "1      6360\n",
      "3      4209\n",
      "2      3480\n",
      "4      1760\n",
      "5       385\n",
      "6        31\n",
      "Name: tags, dtype: int64\n"
     ]
    }
   ],
   "source": [
    "count_tags = train_df[\"tags\"].value_counts()\n",
    "print(count_tags)"
   ]
  },
  {
   "cell_type": "code",
   "execution_count": 19,
   "id": "49211dad",
   "metadata": {},
   "outputs": [
    {
     "data": {
      "image/png": "[encoded data removed]",
      "text/plain": [
       "<Figure size 1000x600 with 1 Axes>"
      ]
     },
     "metadata": {},
     "output_type": "display_data"
    }
   ],
   "source": [
    "f, ax = plt.subplots(figsize=(10, 6))\n",
    "sns.barplot(\n",
    "    x=count_tags.index,\n",
    "    y=count_tags.values\n",
    ")\n",
    "ax.set_title(\"multiple tags per comment\".title(),\n",
    "            fontsize=18)\n",
    "ax.set_xlabel(\"# of tags\")\n",
    "ax.set_ylabel(\"Count\")\n",
    "\n",
    "# Make some labels\n",
    "rects = ax.patches\n",
    "for rect, tag in zip(rects, count_tags):\n",
    "    height = rect.get_height()\n",
    "    ax.text(rect.get_x() + rect.get_width() / 2, height + 0.01, tag,\n",
    "            ha = \"center\", va = \"bottom\")\n",
    "plt.show()"
   ]
  },
  {
   "cell_type": "markdown",
   "id": "9cdc2caf",
   "metadata": {},
   "source": [
    "### Undersample Train and Test Data"
   ]
  },
  {
   "cell_type": "markdown",
   "id": "8f4537e5",
   "metadata": {},
   "source": [
    "We can see on the last figure that our data is imabalanced. We proceed to randomly delete samples from the majority class."
   ]
  },
  {
   "cell_type": "code",
   "execution_count": 20,
   "id": "1b25a085",
   "metadata": {},
   "outputs": [],
   "source": [
    "def resample(df, size=8000, replace=False, train=True):\n",
    "    \"\"\"\n",
    "    Function to downsample data to 1000 observations from de majority class and reduce size of test set\n",
    "    \"\"\"\n",
    "    # Check to see if dealing with train or test set\n",
    "    if train == True:      \n",
    "        # Select observations that have clean comments only\n",
    "        clean_df = df[df[\"is_clean\"] == 1]\n",
    "        not_clean_df = df[df[\"is_clean\"] != 1]\n",
    "    \n",
    "        # Resample data to 10,000 observations\n",
    "        undersample_df = df.loc[np.random.choice(clean_df.index, size=size, replace=replace)]\n",
    "        \n",
    "        # Merge undersampled dataset with the rest of observations that contain not clean comments.\n",
    "        resampled_df = pd.concat([undersample_df, not_clean_df], axis=0)\n",
    "    else:\n",
    "        resampled_df = df.loc[np.random.choice(df.index, size=5000, replace=replace )] \n",
    "        \n",
    "    return resampled_df"
   ]
  },
  {
   "cell_type": "code",
   "execution_count": 21,
   "id": "cde2eb93",
   "metadata": {},
   "outputs": [],
   "source": [
    "train_resampled = resample(train_df, train=True)\n",
    "test_resampled = resample(test_df, train=False)"
   ]
  },
  {
   "cell_type": "markdown",
   "id": "8f97be71",
   "metadata": {},
   "source": [
    "### Visualize Resampled Train Data"
   ]
  },
  {
   "cell_type": "code",
   "execution_count": 22,
   "id": "548692d1",
   "metadata": {},
   "outputs": [
    {
     "data": {
      "text/html": [
       "<div>\n",
       "<style scoped>\n",
       "    .dataframe tbody tr th:only-of-type {\n",
       "        vertical-align: middle;\n",
       "    }\n",
       "\n",
       "    .dataframe tbody tr th {\n",
       "        vertical-align: top;\n",
       "    }\n",
       "\n",
       "    .dataframe thead th {\n",
       "        text-align: right;\n",
       "    }\n",
       "</style>\n",
       "<table border=\"1\" class=\"dataframe\">\n",
       "  <thead>\n",
       "    <tr style=\"text-align: right;\">\n",
       "      <th></th>\n",
       "      <th>id</th>\n",
       "      <th>comment_text</th>\n",
       "      <th>toxic</th>\n",
       "      <th>severe_toxic</th>\n",
       "      <th>obscene</th>\n",
       "      <th>threat</th>\n",
       "      <th>insult</th>\n",
       "      <th>identity_hate</th>\n",
       "      <th>tags</th>\n",
       "      <th>is_clean</th>\n",
       "    </tr>\n",
       "  </thead>\n",
       "  <tbody>\n",
       "    <tr>\n",
       "      <th>4063</th>\n",
       "      <td>0adcbf0f65116413</td>\n",
       "      <td>Is this some kind of joke?\\n\\nI'm baffled  and...</td>\n",
       "      <td>0</td>\n",
       "      <td>0</td>\n",
       "      <td>0</td>\n",
       "      <td>0</td>\n",
       "      <td>0</td>\n",
       "      <td>0</td>\n",
       "      <td>0</td>\n",
       "      <td>1</td>\n",
       "    </tr>\n",
       "    <tr>\n",
       "      <th>139390</th>\n",
       "      <td>ea0c16d5ca41be0d</td>\n",
       "      <td>\"\\n\\n Sneaky, but not sneaky enough. Blocked f...</td>\n",
       "      <td>0</td>\n",
       "      <td>0</td>\n",
       "      <td>0</td>\n",
       "      <td>0</td>\n",
       "      <td>0</td>\n",
       "      <td>0</td>\n",
       "      <td>0</td>\n",
       "      <td>1</td>\n",
       "    </tr>\n",
       "    <tr>\n",
       "      <th>5038</th>\n",
       "      <td>0d5ec05225b765a8</td>\n",
       "      <td>\"\\n\\nResponse to the disappearance of Madelein...</td>\n",
       "      <td>0</td>\n",
       "      <td>0</td>\n",
       "      <td>0</td>\n",
       "      <td>0</td>\n",
       "      <td>0</td>\n",
       "      <td>0</td>\n",
       "      <td>0</td>\n",
       "      <td>1</td>\n",
       "    </tr>\n",
       "    <tr>\n",
       "      <th>153613</th>\n",
       "      <td>9fd7e6b37010c079</td>\n",
       "      <td>(The following is not a formal request to be u...</td>\n",
       "      <td>0</td>\n",
       "      <td>0</td>\n",
       "      <td>0</td>\n",
       "      <td>0</td>\n",
       "      <td>0</td>\n",
       "      <td>0</td>\n",
       "      <td>0</td>\n",
       "      <td>1</td>\n",
       "    </tr>\n",
       "    <tr>\n",
       "      <th>106679</th>\n",
       "      <td>3a936b564b137b6f</td>\n",
       "      <td>She asked me to look over the page for her. Pl...</td>\n",
       "      <td>0</td>\n",
       "      <td>0</td>\n",
       "      <td>0</td>\n",
       "      <td>0</td>\n",
       "      <td>0</td>\n",
       "      <td>0</td>\n",
       "      <td>0</td>\n",
       "      <td>1</td>\n",
       "    </tr>\n",
       "  </tbody>\n",
       "</table>\n",
       "</div>"
      ],
      "text/plain": [
       "                      id                                       comment_text  \\\n",
       "4063    0adcbf0f65116413  Is this some kind of joke?\\n\\nI'm baffled  and...   \n",
       "139390  ea0c16d5ca41be0d  \"\\n\\n Sneaky, but not sneaky enough. Blocked f...   \n",
       "5038    0d5ec05225b765a8  \"\\n\\nResponse to the disappearance of Madelein...   \n",
       "153613  9fd7e6b37010c079  (The following is not a formal request to be u...   \n",
       "106679  3a936b564b137b6f  She asked me to look over the page for her. Pl...   \n",
       "\n",
       "        toxic  severe_toxic  obscene  threat  insult  identity_hate  tags  \\\n",
       "4063        0             0        0       0       0              0     0   \n",
       "139390      0             0        0       0       0              0     0   \n",
       "5038        0             0        0       0       0              0     0   \n",
       "153613      0             0        0       0       0              0     0   \n",
       "106679      0             0        0       0       0              0     0   \n",
       "\n",
       "        is_clean  \n",
       "4063           1  \n",
       "139390         1  \n",
       "5038           1  \n",
       "153613         1  \n",
       "106679         1  "
      ]
     },
     "execution_count": 22,
     "metadata": {},
     "output_type": "execute_result"
    }
   ],
   "source": [
    "train_resampled.head()"
   ]
  },
  {
   "cell_type": "code",
   "execution_count": 23,
   "id": "d3e30b2a",
   "metadata": {},
   "outputs": [
    {
     "data": {
      "text/plain": [
       "0    16225\n",
       "1     8000\n",
       "Name: is_clean, dtype: int64"
      ]
     },
     "execution_count": 23,
     "metadata": {},
     "output_type": "execute_result"
    }
   ],
   "source": [
    "train_resampled[\"is_clean\"].value_counts()"
   ]
  },
  {
   "cell_type": "code",
   "execution_count": 24,
   "id": "ec493912",
   "metadata": {},
   "outputs": [
    {
     "data": {
      "image/png": "[encoded data removed]",
      "text/plain": [
       "<Figure size 800x600 with 1 Axes>"
      ]
     },
     "metadata": {},
     "output_type": "display_data"
    }
   ],
   "source": [
    "fig, ax = plt.subplots(figsize=(8, 6))\n",
    "ax = sns.barplot(x=train_resampled[\"is_clean\"].value_counts().index,\n",
    "                 y=train_resampled[\"is_clean\"].value_counts().values)\n",
    "ax.set_title(\"Clean vs. Not Clean Comments on Resampled Data\")\n",
    "ax.set(xlabel=\"Label\", ylabel=\"Frequency\")\n",
    "plt.show()"
   ]
  },
  {
   "cell_type": "code",
   "execution_count": 25,
   "id": "56c48e1b",
   "metadata": {},
   "outputs": [
    {
     "data": {
      "image/png": "[encoded data removed]",
      "text/plain": [
       "<Figure size 800x600 with 1 Axes>"
      ]
     },
     "metadata": {},
     "output_type": "display_data"
    }
   ],
   "source": [
    "fig, ax = plt.subplots(figsize=(8, 6))\n",
    "ax = sns.barplot(x=train_resampled[\"tags\"].value_counts().index, \n",
    "                 y=train_resampled[\"tags\"].value_counts().values)\n",
    "ax.set(xlabel=\"# of Tags\",\n",
    "       ylabel=\"Count\",\n",
    "       title=\"Number of Tags on Resampled Data\")\n",
    "\n",
    "# Make some labels\n",
    "rects = ax.patches\n",
    "for rect, tag in zip(rects, train_resampled[\"tags\"].value_counts()):\n",
    "    height = rect.get_height()\n",
    "    ax.text(rect.get_x() + rect.get_width() / 2, height + 0.01, tag,\n",
    "            ha = \"center\", va = \"bottom\")\n",
    "plt.show()"
   ]
  },
  {
   "cell_type": "markdown",
   "id": "a62ad5eb",
   "metadata": {},
   "source": [
    "### Relationship between features"
   ]
  },
  {
   "cell_type": "markdown",
   "id": "2d472e70",
   "metadata": {},
   "source": [
    "Let's have a look at the relation between tags."
   ]
  },
  {
   "cell_type": "code",
   "execution_count": 26,
   "id": "8fc3effc",
   "metadata": {},
   "outputs": [
    {
     "data": {
      "text/html": [
       "<div>\n",
       "<style scoped>\n",
       "    .dataframe tbody tr th:only-of-type {\n",
       "        vertical-align: middle;\n",
       "    }\n",
       "\n",
       "    .dataframe tbody tr th {\n",
       "        vertical-align: top;\n",
       "    }\n",
       "\n",
       "    .dataframe thead th {\n",
       "        text-align: right;\n",
       "    }\n",
       "</style>\n",
       "<table border=\"1\" class=\"dataframe\">\n",
       "  <thead>\n",
       "    <tr style=\"text-align: right;\">\n",
       "      <th></th>\n",
       "      <th>toxic</th>\n",
       "      <th>severe_toxic</th>\n",
       "      <th>obscene</th>\n",
       "      <th>threat</th>\n",
       "      <th>insult</th>\n",
       "      <th>identity_hate</th>\n",
       "    </tr>\n",
       "  </thead>\n",
       "  <tbody>\n",
       "    <tr>\n",
       "      <th>toxic</th>\n",
       "      <td>1.000000</td>\n",
       "      <td>0.202875</td>\n",
       "      <td>0.465337</td>\n",
       "      <td>0.090576</td>\n",
       "      <td>0.433085</td>\n",
       "      <td>0.151909</td>\n",
       "    </tr>\n",
       "    <tr>\n",
       "      <th>severe_toxic</th>\n",
       "      <td>0.202875</td>\n",
       "      <td>1.000000</td>\n",
       "      <td>0.335530</td>\n",
       "      <td>0.096376</td>\n",
       "      <td>0.302870</td>\n",
       "      <td>0.157015</td>\n",
       "    </tr>\n",
       "    <tr>\n",
       "      <th>obscene</th>\n",
       "      <td>0.465337</td>\n",
       "      <td>0.335530</td>\n",
       "      <td>1.000000</td>\n",
       "      <td>0.083633</td>\n",
       "      <td>0.630107</td>\n",
       "      <td>0.200838</td>\n",
       "    </tr>\n",
       "    <tr>\n",
       "      <th>threat</th>\n",
       "      <td>0.090576</td>\n",
       "      <td>0.096376</td>\n",
       "      <td>0.083633</td>\n",
       "      <td>1.000000</td>\n",
       "      <td>0.096041</td>\n",
       "      <td>0.089241</td>\n",
       "    </tr>\n",
       "    <tr>\n",
       "      <th>insult</th>\n",
       "      <td>0.433085</td>\n",
       "      <td>0.302870</td>\n",
       "      <td>0.630107</td>\n",
       "      <td>0.096041</td>\n",
       "      <td>1.000000</td>\n",
       "      <td>0.265096</td>\n",
       "    </tr>\n",
       "    <tr>\n",
       "      <th>identity_hate</th>\n",
       "      <td>0.151909</td>\n",
       "      <td>0.157015</td>\n",
       "      <td>0.200838</td>\n",
       "      <td>0.089241</td>\n",
       "      <td>0.265096</td>\n",
       "      <td>1.000000</td>\n",
       "    </tr>\n",
       "  </tbody>\n",
       "</table>\n",
       "</div>"
      ],
      "text/plain": [
       "                  toxic  severe_toxic   obscene    threat    insult  \\\n",
       "toxic          1.000000      0.202875  0.465337  0.090576  0.433085   \n",
       "severe_toxic   0.202875      1.000000  0.335530  0.096376  0.302870   \n",
       "obscene        0.465337      0.335530  1.000000  0.083633  0.630107   \n",
       "threat         0.090576      0.096376  0.083633  1.000000  0.096041   \n",
       "insult         0.433085      0.302870  0.630107  0.096041  1.000000   \n",
       "identity_hate  0.151909      0.157015  0.200838  0.089241  0.265096   \n",
       "\n",
       "               identity_hate  \n",
       "toxic               0.151909  \n",
       "severe_toxic        0.157015  \n",
       "obscene             0.200838  \n",
       "threat              0.089241  \n",
       "insult              0.265096  \n",
       "identity_hate       1.000000  "
      ]
     },
     "execution_count": 26,
     "metadata": {},
     "output_type": "execute_result"
    }
   ],
   "source": [
    "# Correlation plot\n",
    "# Isolate columns for our correlation matrix.\n",
    "corr_columns = [\"toxic\", \"severe_toxic\", \"obscene\", \"threat\", \"insult\", \"identity_hate\"]\n",
    "corr_df = train_resampled[corr_columns]\n",
    "\n",
    "# Correlation matrix\n",
    "corr = corr_df.corr()\n",
    "corr"
   ]
  },
  {
   "cell_type": "markdown",
   "id": "d217cf23",
   "metadata": {},
   "source": [
    "We can see that there is not a negative correlation between tags"
   ]
  },
  {
   "cell_type": "code",
   "execution_count": 27,
   "id": "e57cd554",
   "metadata": {},
   "outputs": [
    {
     "data": {
      "image/png": "[encoded data removed]",
      "text/plain": [
       "<Figure size 1200x800 with 2 Axes>"
      ]
     },
     "metadata": {},
     "output_type": "display_data"
    }
   ],
   "source": [
    "# Visualize correlation matrix\n",
    "f, ax = plt.subplots(figsize=(12, 8))\n",
    "sns.heatmap(\n",
    "    corr,\n",
    "    annot=True,\n",
    "    linewidths=0.5,\n",
    "    ax=ax,\n",
    "    vmin=0,\n",
    "    vmax=1\n",
    ")\n",
    "plt.show()"
   ]
  },
  {
   "cell_type": "markdown",
   "id": "53eafa01",
   "metadata": {},
   "source": [
    "The above plot indicates a pattern of co-occurrance. It does not apply here, since the variables involved are `categorical` variables."
   ]
  },
  {
   "cell_type": "code",
   "execution_count": 28,
   "id": "34259282",
   "metadata": {},
   "outputs": [
    {
     "name": "stdout",
     "output_type": "stream",
     "text": [
      "\n",
      "* toxic comment:\n",
      "Hey... what is it..\n",
      "@ | talk .\n",
      "What is it... an exclusive group of some WP TALIBANS...who are good at destroying, self-appointed purist who GANG UP any one who asks them questions abt their ANTI-SOCIAL and DESTRUCTIVE (non)-contribution at WP?\n",
      "\n",
      "Ask Sityush to clean up his behavior than issue me nonsensical warnings...\n",
      "\n",
      "* severe_toxic comment:\n",
      "i have a dick, its bigger than yours! hahaha\n",
      "\n",
      "* obscene comment:\n",
      "My Band Page's deletion. You thought I was gone. \n",
      "\n",
      "Deleting the comment I posted on your 'talk page' does not delete my feelings for your hasty decision to delete my page. You, sir, are still a cock-sucking douche fuck. Sit back for a second and think about what your life has become. ............ Done? That didn't take long did it? Nope. Because, as I am most certainly aware, your life is a shitstorm of sitting in front of the computer masturbating to fictional creatures. Your attempts to get rid of me are mediocre at best. You are constantly sucking the dick of failure. You don't want a personal attack, huh? Well, too bad, Fuckcock McDickerson. You've got one. From me. You can go ahead and delete my profile from wikipedia. I'll just make another one and come right back to 'Syrthiss's talk page and insult the dick off of you. How could you shatter the dreams of an innocent eighteen year old college freshman trying to make a name for his band. Does that make you happy? Fucking with people because you're an overweight, single, old man in a dead-end job. Did you spot that perhaps someone else was going to follow his dreams and you were trying to hold him back so somebody else could suffer like you? Yes you did. I don't make empty threats, so I won't be saying anything along the lines of 'i'll hurt you' or 'i'll eat the children from within your sister's womb', but I will say that you are a asshole, son-of-a-bitch, mother fucking cock sucker. So, go eat some more food and drown your sorrows you premature ejaculating, bald headed fuck.\n",
      "\n",
      "You should do something nice for yourself, maybe go grab a couple of Horny Goat Weeds from your local convenience store and jack off for a little longer than three minutes tonight.\n",
      "\n",
      "Sincerely,\n",
      "An Asshole That's Better Than You In Every Way.\n",
      "\n",
      "* threat comment:\n",
      "WHAT'S WRONG WITH YOU?\n",
      "GO KILL YOURSELF, YOU VILE CREATURE!!!!!!!!!!!\n",
      "\n",
      "* insult comment:\n",
      "Keep your eye on it, no one cares, OK? People can put what they want on here, and clean it up all you want but no one cares. God, you're so freakin' stupid!   Omnigan\n",
      "\n",
      "* identity_hate comment:\n",
      "Dictionaries\n",
      "\n",
      "How dare you call my contribution spam!!! I am a Kurd and I made a lsit of kurdish dictionaries. you bloody turkish nationalist and atoricity commiting bone breaking Nazi. watch out folk this slimy Turk is trying to censor the internet this is not undemocratic Turkey here, no prison cells in wikipedia you stupid Turk! And you buggers want membership to the EEC\n",
      "\n",
      "* is_clean comment:\n",
      ", 11 January 2007 (UTC)\n",
      "\n",
      " Don't worry.  I'm not sensitive about that sort of thing.  Co., Inc. 19:58\n"
     ]
    }
   ],
   "source": [
    "column_names = corr_columns + [\"is_clean\"]\n",
    "for col in column_names:\n",
    "    print(\"\\n* {} comment:\".format(col))\n",
    "    print(train_resampled[train_resampled[col] == 1][\"comment_text\"].iloc[np.random.randint(0, 20)])"
   ]
  },
  {
   "cell_type": "markdown",
   "id": "e903c7b9",
   "metadata": {},
   "source": [
    "We can see that each comment is includes alphanumeric and special symbols."
   ]
  },
  {
   "cell_type": "markdown",
   "id": "e40ca4be",
   "metadata": {},
   "source": [
    "### WordCloud Representation"
   ]
  },
  {
   "cell_type": "code",
   "execution_count": 29,
   "id": "3660fdfa",
   "metadata": {},
   "outputs": [],
   "source": [
    "# Importing WordCloud necessary modules\n",
    "from wordcloud import WordCloud, STOPWORDS\n",
    "\n",
    "stopwords = set(STOPWORDS)\n",
    "def wordcloud_gen(subset, w=2500, h=1800, collocations=False, backgr_color=\"black\", stopwords=stopwords):\n",
    "    text = subset[\"comment_text\"].values\n",
    "    cloud = WordCloud(stopwords = stopwords, width=800, height=800,\n",
    "                      background_color = \"white\",\n",
    "                      collocations = collocations).generate(\" \".join(text))\n",
    "    return cloud"
   ]
  },
  {
   "cell_type": "code",
   "execution_count": null,
   "id": "1c97246b",
   "metadata": {},
   "outputs": [],
   "source": [
    "labels = [\"toxic\", \"severe_toxic\", \"obscene\", \"threat\", \"insult\", \"identity_hate\"]\n",
    "fig, axs = plt.subplots(nrows=2, ncols=3, figsize=(10, 6))\n",
    "plt.tight_layout()\n",
    "fig.suptitle(\"WordCloud\", fontsize=20, y=1.1)\n",
    "for label, ax in zip(labels, axs.ravel()):\n",
    "    ax.imshow(wordcloud_gen(subset=train_resampled.loc[train_resampled[label] == 1]))\n",
    "    ax.set_axis_off()\n",
    "    ax.set_title(label)"
   ]
  },
  {
   "cell_type": "markdown",
   "id": "c5be45dd",
   "metadata": {},
   "source": [
    "### Save DataFrame"
   ]
  },
  {
   "cell_type": "code",
   "execution_count": null,
   "id": "69cf08dc",
   "metadata": {},
   "outputs": [],
   "source": [
    ".#"
   ]
  },
  {
   "cell_type": "code",
   "execution_count": null,
   "id": "c380ed99",
   "metadata": {},
   "outputs": [],
   "source": [
    "train_resampled.head()"
   ]
  },
  {
   "cell_type": "code",
   "execution_count": null,
   "id": "09591db4",
   "metadata": {},
   "outputs": [],
   "source": [
    "test_resampled.head()"
   ]
  },
  {
   "cell_type": "code",
   "execution_count": null,
   "id": "d811efcd",
   "metadata": {},
   "outputs": [],
   "source": [
    "train_df.to_csv(path_or_buf=\"../data/train_EDA.csv\", index=False)\n",
    "test_df.to_csv(path_or_buf=\"../data/test_EDA.csv\", index=False)"
   ]
  },
  {
   "cell_type": "code",
   "execution_count": null,
   "id": "8d88cfbe",
   "metadata": {},
   "outputs": [],
   "source": []
  }
 ],
 "metadata": {
  "kernelspec": {
   "display_name": "Python 3 (ipykernel)",
   "language": "python",
   "name": "python3"
  },
  "language_info": {
   "codemirror_mode": {
    "name": "ipython",
    "version": 3
   },
   "file_extension": ".py",
   "mimetype": "text/x-python",
   "name": "python",
   "nbconvert_exporter": "python",
   "pygments_lexer": "ipython3",
   "version": "3.9.13"
  }
 },
 "nbformat": 4,
 "nbformat_minor": 5
}
