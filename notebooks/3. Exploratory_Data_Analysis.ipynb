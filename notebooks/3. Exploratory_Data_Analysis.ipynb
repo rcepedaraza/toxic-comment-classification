{
 "cells": [
  {
   "cell_type": "markdown",
   "id": "76a2ae3e",
   "metadata": {},
   "source": [
    "__EDA__ involves generating summary statistics for numerical data in the dataset and creating various graphical representations to understand the data better.\n",
    "\n",
    "As we noticed in the `Data_Wrangling` notebook, the data is pretty much clean with no NaN observations."
   ]
  },
  {
   "cell_type": "markdown",
   "id": "af1a9361",
   "metadata": {},
   "source": [
    "## Import libraries"
   ]
  },
  {
   "cell_type": "code",
   "execution_count": 1,
   "id": "1f8d3241",
   "metadata": {},
   "outputs": [],
   "source": [
    "# Essential libraries\n",
    "import numpy as np\n",
    "import pandas as pd\n",
    "import matplotlib.pyplot as plt\n",
    "import seaborn as sns\n",
    "\n",
    "sns.set_style(\"darkgrid\")\n",
    "# sns.set(rc={\"figure.dpi\":300})\n",
    "# plt.rcParams[\"figure.dpi\"] = 300\n"
   ]
  },
  {
   "cell_type": "markdown",
   "id": "566dc5cd",
   "metadata": {},
   "source": [
    "## Read data"
   ]
  },
  {
   "cell_type": "code",
   "execution_count": 2,
   "id": "5727c23a",
   "metadata": {},
   "outputs": [],
   "source": [
    "# Importing train and test subsets\n",
    "train = pd.read_csv(\"../data/train.csv\")\n",
    "test = pd.read_csv(\"../data/test.csv\")"
   ]
  },
  {
   "cell_type": "code",
   "execution_count": 3,
   "id": "17ecd5e3",
   "metadata": {},
   "outputs": [
    {
     "data": {
      "text/html": [
       "<div>\n",
       "<style scoped>\n",
       "    .dataframe tbody tr th:only-of-type {\n",
       "        vertical-align: middle;\n",
       "    }\n",
       "\n",
       "    .dataframe tbody tr th {\n",
       "        vertical-align: top;\n",
       "    }\n",
       "\n",
       "    .dataframe thead th {\n",
       "        text-align: right;\n",
       "    }\n",
       "</style>\n",
       "<table border=\"1\" class=\"dataframe\">\n",
       "  <thead>\n",
       "    <tr style=\"text-align: right;\">\n",
       "      <th></th>\n",
       "      <th>id</th>\n",
       "      <th>comment_text</th>\n",
       "      <th>toxic</th>\n",
       "      <th>severe_toxic</th>\n",
       "      <th>obscene</th>\n",
       "      <th>threat</th>\n",
       "      <th>insult</th>\n",
       "      <th>identity_hate</th>\n",
       "    </tr>\n",
       "  </thead>\n",
       "  <tbody>\n",
       "    <tr>\n",
       "      <th>150777</th>\n",
       "      <td>71d6ab5e66e9b5d7</td>\n",
       "      <td>Governor of the Bank of Jamaica.Im jamaican an...</td>\n",
       "      <td>0</td>\n",
       "      <td>0</td>\n",
       "      <td>0</td>\n",
       "      <td>0</td>\n",
       "      <td>0</td>\n",
       "      <td>0</td>\n",
       "    </tr>\n",
       "    <tr>\n",
       "      <th>41797</th>\n",
       "      <td>6f8229ffc9a3c190</td>\n",
       "      <td>!Why can't the wikipedians that do vandalism g...</td>\n",
       "      <td>0</td>\n",
       "      <td>0</td>\n",
       "      <td>0</td>\n",
       "      <td>0</td>\n",
       "      <td>0</td>\n",
       "      <td>0</td>\n",
       "    </tr>\n",
       "    <tr>\n",
       "      <th>88604</th>\n",
       "      <td>ed07ca3046831700</td>\n",
       "      <td>\"::::One does not need a sniper course to beco...</td>\n",
       "      <td>0</td>\n",
       "      <td>0</td>\n",
       "      <td>0</td>\n",
       "      <td>0</td>\n",
       "      <td>0</td>\n",
       "      <td>0</td>\n",
       "    </tr>\n",
       "    <tr>\n",
       "      <th>47151</th>\n",
       "      <td>7deaa944e8423de6</td>\n",
       "      <td>Link removed, not allow under Wikipedia:Self-r...</td>\n",
       "      <td>0</td>\n",
       "      <td>0</td>\n",
       "      <td>0</td>\n",
       "      <td>0</td>\n",
       "      <td>0</td>\n",
       "      <td>0</td>\n",
       "    </tr>\n",
       "    <tr>\n",
       "      <th>70314</th>\n",
       "      <td>bc1eef29e9c6c4a2</td>\n",
       "      <td>\"\\n\\n Personally speaking (of course) I think ...</td>\n",
       "      <td>0</td>\n",
       "      <td>0</td>\n",
       "      <td>0</td>\n",
       "      <td>0</td>\n",
       "      <td>0</td>\n",
       "      <td>0</td>\n",
       "    </tr>\n",
       "  </tbody>\n",
       "</table>\n",
       "</div>"
      ],
      "text/plain": [
       "                      id                                       comment_text  \\\n",
       "150777  71d6ab5e66e9b5d7  Governor of the Bank of Jamaica.Im jamaican an...   \n",
       "41797   6f8229ffc9a3c190  !Why can't the wikipedians that do vandalism g...   \n",
       "88604   ed07ca3046831700  \"::::One does not need a sniper course to beco...   \n",
       "47151   7deaa944e8423de6  Link removed, not allow under Wikipedia:Self-r...   \n",
       "70314   bc1eef29e9c6c4a2  \"\\n\\n Personally speaking (of course) I think ...   \n",
       "\n",
       "        toxic  severe_toxic  obscene  threat  insult  identity_hate  \n",
       "150777      0             0        0       0       0              0  \n",
       "41797       0             0        0       0       0              0  \n",
       "88604       0             0        0       0       0              0  \n",
       "47151       0             0        0       0       0              0  \n",
       "70314       0             0        0       0       0              0  "
      ]
     },
     "execution_count": 3,
     "metadata": {},
     "output_type": "execute_result"
    }
   ],
   "source": [
    "# Take a look at the data\n",
    "train.sample(n=5)"
   ]
  },
  {
   "cell_type": "markdown",
   "id": "7e584b58",
   "metadata": {},
   "source": [
    "The data comes from a large number of Wikipedia comments which have been labeled by human raters for toxic behavior."
   ]
  },
  {
   "cell_type": "code",
   "execution_count": 4,
   "id": "8c2c46aa",
   "metadata": {},
   "outputs": [
    {
     "name": "stdout",
     "output_type": "stream",
     "text": [
      "<class 'pandas.core.frame.DataFrame'>\n",
      "RangeIndex: 159571 entries, 0 to 159570\n",
      "Data columns (total 8 columns):\n",
      " #   Column         Non-Null Count   Dtype \n",
      "---  ------         --------------   ----- \n",
      " 0   id             159571 non-null  object\n",
      " 1   comment_text   159571 non-null  object\n",
      " 2   toxic          159571 non-null  int64 \n",
      " 3   severe_toxic   159571 non-null  int64 \n",
      " 4   obscene        159571 non-null  int64 \n",
      " 5   threat         159571 non-null  int64 \n",
      " 6   insult         159571 non-null  int64 \n",
      " 7   identity_hate  159571 non-null  int64 \n",
      "dtypes: int64(6), object(2)\n",
      "memory usage: 9.7+ MB\n",
      "None\n"
     ]
    }
   ],
   "source": [
    "print(train.info())"
   ]
  },
  {
   "cell_type": "markdown",
   "id": "f0a71b1b",
   "metadata": {},
   "source": [
    "## Data analysis"
   ]
  },
  {
   "cell_type": "code",
   "execution_count": 5,
   "id": "4277e6c0",
   "metadata": {},
   "outputs": [
    {
     "name": "stdout",
     "output_type": "stream",
     "text": [
      "Train: (159571, 8)\n",
      "Test:  (153164, 2)\n"
     ]
    }
   ],
   "source": [
    "# print total observations in train and test subsets\n",
    "print(\"Train: {}\".format(train.shape))\n",
    "print(\"Test:  {}\".format(test.shape))"
   ]
  },
  {
   "cell_type": "code",
   "execution_count": 6,
   "id": "c5c37090",
   "metadata": {},
   "outputs": [
    {
     "name": "stdout",
     "output_type": "stream",
     "text": [
      "13389     0\n",
      "152340    0\n",
      "105388    0\n",
      "87295     0\n",
      "12353     0\n",
      "13386     0\n",
      "86189     0\n",
      "45067     0\n",
      "147850    0\n",
      "38347     0\n",
      "Name: tags, dtype: int64\n"
     ]
    }
   ],
   "source": [
    "# Copy dataframe for manipulation\n",
    "X = train.copy()\n",
    "\n",
    "# Check for clean comments\n",
    "X[\"tags\"] = np.sum(X.iloc[:, 2:], axis=1)\n",
    "print(X[\"tags\"].sample(10))\n",
    "X[\"is_clean\"] = X[\"tags\"].apply(lambda x : 1 if x == 0 else 0)"
   ]
  },
  {
   "cell_type": "markdown",
   "id": "bb6219d3",
   "metadata": {},
   "source": [
    "We can notice that there are multiple cases where a comment has more than one label."
   ]
  },
  {
   "cell_type": "code",
   "execution_count": 7,
   "id": "4f0f9ac6",
   "metadata": {},
   "outputs": [
    {
     "data": {
      "text/html": [
       "<div>\n",
       "<style scoped>\n",
       "    .dataframe tbody tr th:only-of-type {\n",
       "        vertical-align: middle;\n",
       "    }\n",
       "\n",
       "    .dataframe tbody tr th {\n",
       "        vertical-align: top;\n",
       "    }\n",
       "\n",
       "    .dataframe thead th {\n",
       "        text-align: right;\n",
       "    }\n",
       "</style>\n",
       "<table border=\"1\" class=\"dataframe\">\n",
       "  <thead>\n",
       "    <tr style=\"text-align: right;\">\n",
       "      <th></th>\n",
       "      <th>id</th>\n",
       "      <th>comment_text</th>\n",
       "      <th>toxic</th>\n",
       "      <th>severe_toxic</th>\n",
       "      <th>obscene</th>\n",
       "      <th>threat</th>\n",
       "      <th>insult</th>\n",
       "      <th>identity_hate</th>\n",
       "      <th>tags</th>\n",
       "      <th>is_clean</th>\n",
       "    </tr>\n",
       "  </thead>\n",
       "  <tbody>\n",
       "    <tr>\n",
       "      <th>0</th>\n",
       "      <td>0000997932d777bf</td>\n",
       "      <td>Explanation\\nWhy the edits made under my usern...</td>\n",
       "      <td>0</td>\n",
       "      <td>0</td>\n",
       "      <td>0</td>\n",
       "      <td>0</td>\n",
       "      <td>0</td>\n",
       "      <td>0</td>\n",
       "      <td>0</td>\n",
       "      <td>1</td>\n",
       "    </tr>\n",
       "    <tr>\n",
       "      <th>1</th>\n",
       "      <td>000103f0d9cfb60f</td>\n",
       "      <td>D'aww! He matches this background colour I'm s...</td>\n",
       "      <td>0</td>\n",
       "      <td>0</td>\n",
       "      <td>0</td>\n",
       "      <td>0</td>\n",
       "      <td>0</td>\n",
       "      <td>0</td>\n",
       "      <td>0</td>\n",
       "      <td>1</td>\n",
       "    </tr>\n",
       "    <tr>\n",
       "      <th>2</th>\n",
       "      <td>000113f07ec002fd</td>\n",
       "      <td>Hey man, I'm really not trying to edit war. It...</td>\n",
       "      <td>0</td>\n",
       "      <td>0</td>\n",
       "      <td>0</td>\n",
       "      <td>0</td>\n",
       "      <td>0</td>\n",
       "      <td>0</td>\n",
       "      <td>0</td>\n",
       "      <td>1</td>\n",
       "    </tr>\n",
       "    <tr>\n",
       "      <th>3</th>\n",
       "      <td>0001b41b1c6bb37e</td>\n",
       "      <td>\"\\nMore\\nI can't make any real suggestions on ...</td>\n",
       "      <td>0</td>\n",
       "      <td>0</td>\n",
       "      <td>0</td>\n",
       "      <td>0</td>\n",
       "      <td>0</td>\n",
       "      <td>0</td>\n",
       "      <td>0</td>\n",
       "      <td>1</td>\n",
       "    </tr>\n",
       "    <tr>\n",
       "      <th>4</th>\n",
       "      <td>0001d958c54c6e35</td>\n",
       "      <td>You, sir, are my hero. Any chance you remember...</td>\n",
       "      <td>0</td>\n",
       "      <td>0</td>\n",
       "      <td>0</td>\n",
       "      <td>0</td>\n",
       "      <td>0</td>\n",
       "      <td>0</td>\n",
       "      <td>0</td>\n",
       "      <td>1</td>\n",
       "    </tr>\n",
       "  </tbody>\n",
       "</table>\n",
       "</div>"
      ],
      "text/plain": [
       "                 id                                       comment_text  toxic  \\\n",
       "0  0000997932d777bf  Explanation\\nWhy the edits made under my usern...      0   \n",
       "1  000103f0d9cfb60f  D'aww! He matches this background colour I'm s...      0   \n",
       "2  000113f07ec002fd  Hey man, I'm really not trying to edit war. It...      0   \n",
       "3  0001b41b1c6bb37e  \"\\nMore\\nI can't make any real suggestions on ...      0   \n",
       "4  0001d958c54c6e35  You, sir, are my hero. Any chance you remember...      0   \n",
       "\n",
       "   severe_toxic  obscene  threat  insult  identity_hate  tags  is_clean  \n",
       "0             0        0       0       0              0     0         1  \n",
       "1             0        0       0       0              0     0         1  \n",
       "2             0        0       0       0              0     0         1  \n",
       "3             0        0       0       0              0     0         1  \n",
       "4             0        0       0       0              0     0         1  "
      ]
     },
     "execution_count": 7,
     "metadata": {},
     "output_type": "execute_result"
    }
   ],
   "source": [
    "X.head()"
   ]
  },
  {
   "cell_type": "code",
   "execution_count": 8,
   "id": "00025429",
   "metadata": {},
   "outputs": [
    {
     "name": "stdout",
     "output_type": "stream",
     "text": [
      "Total comments: 159571\n",
      "Total clean comments: 143346\n",
      "Total not clean comments: 16225\n"
     ]
    }
   ],
   "source": [
    "total_comm = X.shape[0]\n",
    "total_clean_comm = X[\"is_clean\"].sum()\n",
    "total_not_clean_comm = total_comm - total_clean_comm\n",
    "\n",
    "print(\"Total comments: {}\".format(total_comm))\n",
    "print(\"Total clean comments: {}\".format(total_clean_comm))\n",
    "print(\"Total not clean comments: {}\".format(total_not_clean_comm))"
   ]
  },
  {
   "cell_type": "code",
   "execution_count": 9,
   "id": "953dadee",
   "metadata": {},
   "outputs": [
    {
     "data": {
      "image/png": "[encoded data removed]",
      "text/plain": [
       "<Figure size 576x432 with 1 Axes>"
      ]
     },
     "metadata": {
      "needs_background": "light"
     },
     "output_type": "display_data"
    }
   ],
   "source": [
    "# Visualization of comments\n",
    "f, ax = plt.subplots(figsize=(8, 6))\n",
    "sns.histplot(X[\"is_clean\"], bins=3)\n",
    "ax.set_xticks([0, 1])\n",
    "ax.set_title(\"Clean Comments\")\n",
    "plt.show()"
   ]
  },
  {
   "cell_type": "code",
   "execution_count": 10,
   "id": "4916fb66",
   "metadata": {},
   "outputs": [
    {
     "name": "stdout",
     "output_type": "stream",
     "text": [
      "toxic            15294\n",
      "severe_toxic      1595\n",
      "obscene           8449\n",
      "threat             478\n",
      "insult            7877\n",
      "identity_hate     1405\n",
      "dtype: int64\n"
     ]
    }
   ],
   "source": [
    "comment_types = X.iloc[:, 2:-2].sum()\n",
    "print(comment_types)"
   ]
  },
  {
   "cell_type": "code",
   "execution_count": 11,
   "id": "e901d866",
   "metadata": {},
   "outputs": [
    {
     "data": {
      "image/png": "[encoded data removed]",
      "text/plain": [
       "<Figure size 864x576 with 1 Axes>"
      ]
     },
     "metadata": {
      "needs_background": "light"
     },
     "output_type": "display_data"
    }
   ],
   "source": [
    "f, ax = plt.subplots(figsize=(12, 8))\n",
    "sns.barplot(\n",
    "    x=comment_types.index,\n",
    "    y=comment_types.values,\n",
    "    palette=\"Accent\"\n",
    ")\n",
    "ax.set_title(\"Count per kind of comment\", fontsize=16)\n",
    "ax.set_xlabel(\"Comment type\")\n",
    "ax.set_ylabel(\"Count\")\n",
    "plt.show()"
   ]
  },
  {
   "cell_type": "markdown",
   "id": "f15368b9",
   "metadata": {},
   "source": [
    "As from the above graph, we notice that the different types of comments are not normally distributed, so we might face a class imbalance problem."
   ]
  },
  {
   "cell_type": "markdown",
   "id": "9d7706c8",
   "metadata": {},
   "source": [
    "Let's check how many coments have multiple tags"
   ]
  },
  {
   "cell_type": "code",
   "execution_count": 12,
   "id": "7ff61bc8",
   "metadata": {},
   "outputs": [
    {
     "name": "stdout",
     "output_type": "stream",
     "text": [
      "0    143346\n",
      "1      6360\n",
      "3      4209\n",
      "2      3480\n",
      "4      1760\n",
      "5       385\n",
      "6        31\n",
      "Name: tags, dtype: int64\n"
     ]
    }
   ],
   "source": [
    "count_tags = X[\"tags\"].value_counts()\n",
    "print(count_tags)"
   ]
  },
  {
   "cell_type": "code",
   "execution_count": 13,
   "id": "2036d892",
   "metadata": {},
   "outputs": [
    {
     "data": {
      "image/png": "[encoded data removed]",
      "text/plain": [
       "<Figure size 864x576 with 1 Axes>"
      ]
     },
     "metadata": {
      "needs_background": "light"
     },
     "output_type": "display_data"
    }
   ],
   "source": [
    "f, ax = plt.subplots(figsize=(12, 8))\n",
    "sns.barplot(\n",
    "    x=count_tags.index,\n",
    "    y=count_tags.values\n",
    ")\n",
    "ax.set_title(\"multiple tags per comment\".title(),\n",
    "            fontsize=18)\n",
    "ax.set_xlabel(\"# of tags\")\n",
    "ax.set_ylabel(\"Count\")\n",
    "plt.show()"
   ]
  },
  {
   "cell_type": "markdown",
   "id": "dd42e0fc",
   "metadata": {},
   "source": [
    "## Relationship between features"
   ]
  },
  {
   "cell_type": "markdown",
   "id": "62dbf430",
   "metadata": {},
   "source": [
    "Let's have a look at the relation between tags."
   ]
  },
  {
   "cell_type": "code",
   "execution_count": 14,
   "id": "5faf7956",
   "metadata": {},
   "outputs": [
    {
     "data": {
      "text/html": [
       "<div>\n",
       "<style scoped>\n",
       "    .dataframe tbody tr th:only-of-type {\n",
       "        vertical-align: middle;\n",
       "    }\n",
       "\n",
       "    .dataframe tbody tr th {\n",
       "        vertical-align: top;\n",
       "    }\n",
       "\n",
       "    .dataframe thead th {\n",
       "        text-align: right;\n",
       "    }\n",
       "</style>\n",
       "<table border=\"1\" class=\"dataframe\">\n",
       "  <thead>\n",
       "    <tr style=\"text-align: right;\">\n",
       "      <th></th>\n",
       "      <th>toxic</th>\n",
       "      <th>severe_toxic</th>\n",
       "      <th>obscene</th>\n",
       "      <th>threat</th>\n",
       "      <th>insult</th>\n",
       "      <th>identity_hate</th>\n",
       "    </tr>\n",
       "  </thead>\n",
       "  <tbody>\n",
       "    <tr>\n",
       "      <th>toxic</th>\n",
       "      <td>1.000000</td>\n",
       "      <td>0.308619</td>\n",
       "      <td>0.676515</td>\n",
       "      <td>0.157058</td>\n",
       "      <td>0.647518</td>\n",
       "      <td>0.266009</td>\n",
       "    </tr>\n",
       "    <tr>\n",
       "      <th>severe_toxic</th>\n",
       "      <td>0.308619</td>\n",
       "      <td>1.000000</td>\n",
       "      <td>0.403014</td>\n",
       "      <td>0.123601</td>\n",
       "      <td>0.375807</td>\n",
       "      <td>0.201600</td>\n",
       "    </tr>\n",
       "    <tr>\n",
       "      <th>obscene</th>\n",
       "      <td>0.676515</td>\n",
       "      <td>0.403014</td>\n",
       "      <td>1.000000</td>\n",
       "      <td>0.141179</td>\n",
       "      <td>0.741272</td>\n",
       "      <td>0.286867</td>\n",
       "    </tr>\n",
       "    <tr>\n",
       "      <th>threat</th>\n",
       "      <td>0.157058</td>\n",
       "      <td>0.123601</td>\n",
       "      <td>0.141179</td>\n",
       "      <td>1.000000</td>\n",
       "      <td>0.150022</td>\n",
       "      <td>0.115128</td>\n",
       "    </tr>\n",
       "    <tr>\n",
       "      <th>insult</th>\n",
       "      <td>0.647518</td>\n",
       "      <td>0.375807</td>\n",
       "      <td>0.741272</td>\n",
       "      <td>0.150022</td>\n",
       "      <td>1.000000</td>\n",
       "      <td>0.337736</td>\n",
       "    </tr>\n",
       "    <tr>\n",
       "      <th>identity_hate</th>\n",
       "      <td>0.266009</td>\n",
       "      <td>0.201600</td>\n",
       "      <td>0.286867</td>\n",
       "      <td>0.115128</td>\n",
       "      <td>0.337736</td>\n",
       "      <td>1.000000</td>\n",
       "    </tr>\n",
       "  </tbody>\n",
       "</table>\n",
       "</div>"
      ],
      "text/plain": [
       "                  toxic  severe_toxic   obscene    threat    insult  \\\n",
       "toxic          1.000000      0.308619  0.676515  0.157058  0.647518   \n",
       "severe_toxic   0.308619      1.000000  0.403014  0.123601  0.375807   \n",
       "obscene        0.676515      0.403014  1.000000  0.141179  0.741272   \n",
       "threat         0.157058      0.123601  0.141179  1.000000  0.150022   \n",
       "insult         0.647518      0.375807  0.741272  0.150022  1.000000   \n",
       "identity_hate  0.266009      0.201600  0.286867  0.115128  0.337736   \n",
       "\n",
       "               identity_hate  \n",
       "toxic               0.266009  \n",
       "severe_toxic        0.201600  \n",
       "obscene             0.286867  \n",
       "threat              0.115128  \n",
       "insult              0.337736  \n",
       "identity_hate       1.000000  "
      ]
     },
     "execution_count": 14,
     "metadata": {},
     "output_type": "execute_result"
    }
   ],
   "source": [
    "# Correlation plot\n",
    "# Isolate columns for our correlation matrix.\n",
    "corr_columns = [\"toxic\", \"severe_toxic\", \"obscene\", \"threat\", \"insult\", \"identity_hate\"]\n",
    "corr_df = X[corr_columns]\n",
    "\n",
    "# Correlation matrix\n",
    "corr = corr_df.corr()\n",
    "corr"
   ]
  },
  {
   "cell_type": "markdown",
   "id": "4c21ba97",
   "metadata": {},
   "source": [
    "We can see that there is not a negative correlation between tags"
   ]
  },
  {
   "cell_type": "code",
   "execution_count": 15,
   "id": "5fe24ecb",
   "metadata": {},
   "outputs": [
    {
     "data": {
      "image/png": "[encoded data removed]",
      "text/plain": [
       "<Figure size 864x576 with 2 Axes>"
      ]
     },
     "metadata": {
      "needs_background": "light"
     },
     "output_type": "display_data"
    }
   ],
   "source": [
    "# Visualize correlation matrix\n",
    "f, ax = plt.subplots(figsize=(12, 8))\n",
    "sns.heatmap(\n",
    "    corr,\n",
    "    annot=True,\n",
    "    linewidths=0.5,\n",
    "    ax=ax,\n",
    "    vmin=0,\n",
    "    vmax=1\n",
    ")\n",
    "plt.show()"
   ]
  },
  {
   "cell_type": "markdown",
   "id": "f7dcb936",
   "metadata": {},
   "source": [
    "The above plot indicates a pattern of co-occurrance. It does not apply here, since the variables involved are `categorical` variables."
   ]
  },
  {
   "cell_type": "code",
   "execution_count": 16,
   "id": "5b569b4f",
   "metadata": {},
   "outputs": [
    {
     "name": "stdout",
     "output_type": "stream",
     "text": [
      "\n",
      "* toxic comment:\n",
      "\"\n",
      "\n",
      "SORRY PUCK BUT NO ONE EVER SAID DICK WAS NUMBER ONE!! But he is clearly listed as being \"\"second only to Batman\"\" and a \"\"master detective and martial artist\"\" and been trained in all the mentioned combat discplines. No need to mention in skills/abilities about the battles he's lost and won because thats not what an encylopia is supposed to do. \n",
      "\n",
      "Also, what your problem is your going by low end showings and not HIGH end showings where he's proven more than a match for a meta like Slade and pinned Shiva down in one of his earliest appearences.\n",
      " \"\n",
      "\n",
      "* severe_toxic comment:\n",
      "Fuck you faggot, I don't care if i get blocked, as long as everyone knows you are a dumb cunt.\n",
      "\n",
      "* obscene comment:\n",
      "All of my edits are good.  Cunts like you who revert good edits because you're too stupid to understand how to write well , and then revert other edits just because you've decided to bear a playground grudge, are the problem.  Maybe one day you'll realise the damage you did to a noble project.  201.215.187.159\n",
      "\n",
      "* threat comment:\n",
      "important \n",
      "\n",
      "you and your family shall burn! you have been warned, if you do troll muzemikes talk page i will slaughter you in your sleep. bye...\n",
      "\n",
      "* insult comment:\n",
      "Fuck you, block me, you faggot pussy!\n",
      "\n",
      "* identity_hate comment:\n",
      "Fuck you faggot, I don't care if i get blocked, as long as everyone knows you are a dumb cunt.\n",
      "\n",
      "* is_clean comment:\n",
      "Explanation\n",
      "Why the edits made under my username Hardcore Metallica Fan were reverted? They weren't vandalisms, just closure on some GAs after I voted at New York Dolls FAC. And please don't remove the template from the talk page since I'm retired now.89.205.38.27\n"
     ]
    }
   ],
   "source": [
    "column_names = corr_columns + [\"is_clean\"]\n",
    "for col in column_names:\n",
    "    print(\"\\n* {} comment:\".format(col))\n",
    "    print(X[X[col] == 1][\"comment_text\"].iloc[np.random.randint(0, 20)])"
   ]
  },
  {
   "cell_type": "markdown",
   "id": "88b926b9",
   "metadata": {},
   "source": [
    "We can see that each comment is includes alphanumeric and special symbols."
   ]
  }
 ],
 "metadata": {
  "kernelspec": {
   "display_name": "Python 3 (ipykernel)",
   "language": "python",
   "name": "python3"
  },
  "language_info": {
   "codemirror_mode": {
    "name": "ipython",
    "version": 3
   },
   "file_extension": ".py",
   "mimetype": "text/x-python",
   "name": "python",
   "nbconvert_exporter": "python",
   "pygments_lexer": "ipython3",
   "version": "3.9.13"
  }
 },
 "nbformat": 4,
 "nbformat_minor": 5
}
