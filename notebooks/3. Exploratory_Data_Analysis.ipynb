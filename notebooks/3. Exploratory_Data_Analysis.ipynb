{
 "cells": [
  {
   "cell_type": "markdown",
   "id": "ce502c87",
   "metadata": {},
   "source": [
    "__EDA__ involves generating summary statistics for numerical data in the dataset and creating various graphical representations to understand the data better.\n",
    "\n",
    "As we noticed in the `Data_Wrangling` notebook, the data is pretty much clean with no NaN observations."
   ]
  },
  {
   "cell_type": "markdown",
   "id": "6ecb9aa9",
   "metadata": {},
   "source": [
    "## Import libraries"
   ]
  },
  {
   "cell_type": "code",
   "execution_count": 1,
   "id": "e6ceb784",
   "metadata": {},
   "outputs": [],
   "source": [
    "# Essential libraries\n",
    "import numpy as np\n",
    "import pandas as pd\n",
    "import matplotlib.pyplot as plt\n",
    "import seaborn as sns\n",
    "\n",
    "sns.set_style(\"darkgrid\")\n",
    "# sns.set(rc={\"figure.dpi\":300})\n",
    "# plt.rcParams[\"figure.dpi\"] = 300\n"
   ]
  },
  {
   "cell_type": "markdown",
   "id": "ffbf2a0c",
   "metadata": {},
   "source": [
    "## Read data"
   ]
  },
  {
   "cell_type": "code",
   "execution_count": 2,
   "id": "47bd20de",
   "metadata": {},
   "outputs": [],
   "source": [
    "# Importing train and test subsets\n",
    "train = pd.read_csv(\"../data/train.csv\")\n",
    "test = pd.read_csv(\"../data/test.csv\")"
   ]
  },
  {
   "cell_type": "code",
   "execution_count": 3,
   "id": "bc58e2a0",
   "metadata": {},
   "outputs": [
    {
     "data": {
      "text/html": [
       "<div>\n",
       "<style scoped>\n",
       "    .dataframe tbody tr th:only-of-type {\n",
       "        vertical-align: middle;\n",
       "    }\n",
       "\n",
       "    .dataframe tbody tr th {\n",
       "        vertical-align: top;\n",
       "    }\n",
       "\n",
       "    .dataframe thead th {\n",
       "        text-align: right;\n",
       "    }\n",
       "</style>\n",
       "<table border=\"1\" class=\"dataframe\">\n",
       "  <thead>\n",
       "    <tr style=\"text-align: right;\">\n",
       "      <th></th>\n",
       "      <th>id</th>\n",
       "      <th>comment_text</th>\n",
       "      <th>toxic</th>\n",
       "      <th>severe_toxic</th>\n",
       "      <th>obscene</th>\n",
       "      <th>threat</th>\n",
       "      <th>insult</th>\n",
       "      <th>identity_hate</th>\n",
       "    </tr>\n",
       "  </thead>\n",
       "  <tbody>\n",
       "    <tr>\n",
       "      <th>124999</th>\n",
       "      <td>9cb01db01240afa7</td>\n",
       "      <td>this episode BUTCHERED CANON and it makes me s...</td>\n",
       "      <td>0</td>\n",
       "      <td>0</td>\n",
       "      <td>0</td>\n",
       "      <td>0</td>\n",
       "      <td>0</td>\n",
       "      <td>0</td>\n",
       "    </tr>\n",
       "    <tr>\n",
       "      <th>48135</th>\n",
       "      <td>80a593e5a12e4e1a</td>\n",
       "      <td>The Shameless \\n\\nI didn't add incorrect infor...</td>\n",
       "      <td>0</td>\n",
       "      <td>0</td>\n",
       "      <td>0</td>\n",
       "      <td>0</td>\n",
       "      <td>0</td>\n",
       "      <td>0</td>\n",
       "    </tr>\n",
       "    <tr>\n",
       "      <th>134318</th>\n",
       "      <td>ce3cfcd5b55a614c</td>\n",
       "      <td>, 18 May 2007 (UTC)\\n I found another reported...</td>\n",
       "      <td>0</td>\n",
       "      <td>0</td>\n",
       "      <td>0</td>\n",
       "      <td>0</td>\n",
       "      <td>0</td>\n",
       "      <td>0</td>\n",
       "    </tr>\n",
       "    <tr>\n",
       "      <th>70751</th>\n",
       "      <td>bd58658d16325e3a</td>\n",
       "      <td>\"\\nI checked my page, here - link, it shows th...</td>\n",
       "      <td>0</td>\n",
       "      <td>0</td>\n",
       "      <td>0</td>\n",
       "      <td>0</td>\n",
       "      <td>0</td>\n",
       "      <td>0</td>\n",
       "    </tr>\n",
       "    <tr>\n",
       "      <th>51516</th>\n",
       "      <td>89d05ee84145adb0</td>\n",
       "      <td>If you want a good laugh take a look at the la...</td>\n",
       "      <td>0</td>\n",
       "      <td>0</td>\n",
       "      <td>0</td>\n",
       "      <td>0</td>\n",
       "      <td>0</td>\n",
       "      <td>0</td>\n",
       "    </tr>\n",
       "  </tbody>\n",
       "</table>\n",
       "</div>"
      ],
      "text/plain": [
       "                      id                                       comment_text  \\\n",
       "124999  9cb01db01240afa7  this episode BUTCHERED CANON and it makes me s...   \n",
       "48135   80a593e5a12e4e1a  The Shameless \\n\\nI didn't add incorrect infor...   \n",
       "134318  ce3cfcd5b55a614c  , 18 May 2007 (UTC)\\n I found another reported...   \n",
       "70751   bd58658d16325e3a  \"\\nI checked my page, here - link, it shows th...   \n",
       "51516   89d05ee84145adb0  If you want a good laugh take a look at the la...   \n",
       "\n",
       "        toxic  severe_toxic  obscene  threat  insult  identity_hate  \n",
       "124999      0             0        0       0       0              0  \n",
       "48135       0             0        0       0       0              0  \n",
       "134318      0             0        0       0       0              0  \n",
       "70751       0             0        0       0       0              0  \n",
       "51516       0             0        0       0       0              0  "
      ]
     },
     "execution_count": 3,
     "metadata": {},
     "output_type": "execute_result"
    }
   ],
   "source": [
    "# Take a look at the data\n",
    "train.sample(n=5)"
   ]
  },
  {
   "cell_type": "markdown",
   "id": "8e92ebea",
   "metadata": {},
   "source": [
    "The data comes from a large number of Wikipedia comments which have been labeled by human raters for toxic behavior."
   ]
  },
  {
   "cell_type": "code",
   "execution_count": 4,
   "id": "988ccde6",
   "metadata": {},
   "outputs": [
    {
     "name": "stdout",
     "output_type": "stream",
     "text": [
      "<class 'pandas.core.frame.DataFrame'>\n",
      "RangeIndex: 159571 entries, 0 to 159570\n",
      "Data columns (total 8 columns):\n",
      " #   Column         Non-Null Count   Dtype \n",
      "---  ------         --------------   ----- \n",
      " 0   id             159571 non-null  object\n",
      " 1   comment_text   159571 non-null  object\n",
      " 2   toxic          159571 non-null  int64 \n",
      " 3   severe_toxic   159571 non-null  int64 \n",
      " 4   obscene        159571 non-null  int64 \n",
      " 5   threat         159571 non-null  int64 \n",
      " 6   insult         159571 non-null  int64 \n",
      " 7   identity_hate  159571 non-null  int64 \n",
      "dtypes: int64(6), object(2)\n",
      "memory usage: 9.7+ MB\n",
      "None\n"
     ]
    }
   ],
   "source": [
    "print(train.info())"
   ]
  },
  {
   "cell_type": "markdown",
   "id": "4b095ad7",
   "metadata": {},
   "source": [
    "## Data analysis"
   ]
  },
  {
   "cell_type": "code",
   "execution_count": 5,
   "id": "122317e1",
   "metadata": {},
   "outputs": [
    {
     "name": "stdout",
     "output_type": "stream",
     "text": [
      "Train: (159571, 8)\n",
      "Test:  (153164, 2)\n"
     ]
    }
   ],
   "source": [
    "# print total observations in train and test subsets\n",
    "print(\"Train: {}\".format(train.shape))\n",
    "print(\"Test:  {}\".format(test.shape))"
   ]
  },
  {
   "cell_type": "code",
   "execution_count": 6,
   "id": "edbe5b8f",
   "metadata": {},
   "outputs": [
    {
     "name": "stdout",
     "output_type": "stream",
     "text": [
      "119450    0\n",
      "157238    0\n",
      "40482     0\n",
      "47521     0\n",
      "6138      0\n",
      "128747    0\n",
      "137667    0\n",
      "132523    0\n",
      "81600     0\n",
      "4381      0\n",
      "Name: tags, dtype: int64\n"
     ]
    }
   ],
   "source": [
    "# Copy dataframe for manipulation\n",
    "X = train.copy()\n",
    "\n",
    "# Check for clean comments\n",
    "X[\"tags\"] = np.sum(X.iloc[:, 2:], axis=1)\n",
    "print(X[\"tags\"].sample(10))\n",
    "X[\"is_clean\"] = X[\"tags\"].apply(lambda x : 1 if x == 0 else 0)"
   ]
  },
  {
   "cell_type": "markdown",
   "id": "bf7ae4fa",
   "metadata": {},
   "source": [
    "We can notice that there are multiple cases where a comment has more than one label."
   ]
  },
  {
   "cell_type": "code",
   "execution_count": 7,
   "id": "4c994f1d",
   "metadata": {},
   "outputs": [
    {
     "data": {
      "text/html": [
       "<div>\n",
       "<style scoped>\n",
       "    .dataframe tbody tr th:only-of-type {\n",
       "        vertical-align: middle;\n",
       "    }\n",
       "\n",
       "    .dataframe tbody tr th {\n",
       "        vertical-align: top;\n",
       "    }\n",
       "\n",
       "    .dataframe thead th {\n",
       "        text-align: right;\n",
       "    }\n",
       "</style>\n",
       "<table border=\"1\" class=\"dataframe\">\n",
       "  <thead>\n",
       "    <tr style=\"text-align: right;\">\n",
       "      <th></th>\n",
       "      <th>id</th>\n",
       "      <th>comment_text</th>\n",
       "      <th>toxic</th>\n",
       "      <th>severe_toxic</th>\n",
       "      <th>obscene</th>\n",
       "      <th>threat</th>\n",
       "      <th>insult</th>\n",
       "      <th>identity_hate</th>\n",
       "      <th>tags</th>\n",
       "      <th>is_clean</th>\n",
       "    </tr>\n",
       "  </thead>\n",
       "  <tbody>\n",
       "    <tr>\n",
       "      <th>0</th>\n",
       "      <td>0000997932d777bf</td>\n",
       "      <td>Explanation\\nWhy the edits made under my usern...</td>\n",
       "      <td>0</td>\n",
       "      <td>0</td>\n",
       "      <td>0</td>\n",
       "      <td>0</td>\n",
       "      <td>0</td>\n",
       "      <td>0</td>\n",
       "      <td>0</td>\n",
       "      <td>1</td>\n",
       "    </tr>\n",
       "    <tr>\n",
       "      <th>1</th>\n",
       "      <td>000103f0d9cfb60f</td>\n",
       "      <td>D'aww! He matches this background colour I'm s...</td>\n",
       "      <td>0</td>\n",
       "      <td>0</td>\n",
       "      <td>0</td>\n",
       "      <td>0</td>\n",
       "      <td>0</td>\n",
       "      <td>0</td>\n",
       "      <td>0</td>\n",
       "      <td>1</td>\n",
       "    </tr>\n",
       "    <tr>\n",
       "      <th>2</th>\n",
       "      <td>000113f07ec002fd</td>\n",
       "      <td>Hey man, I'm really not trying to edit war. It...</td>\n",
       "      <td>0</td>\n",
       "      <td>0</td>\n",
       "      <td>0</td>\n",
       "      <td>0</td>\n",
       "      <td>0</td>\n",
       "      <td>0</td>\n",
       "      <td>0</td>\n",
       "      <td>1</td>\n",
       "    </tr>\n",
       "    <tr>\n",
       "      <th>3</th>\n",
       "      <td>0001b41b1c6bb37e</td>\n",
       "      <td>\"\\nMore\\nI can't make any real suggestions on ...</td>\n",
       "      <td>0</td>\n",
       "      <td>0</td>\n",
       "      <td>0</td>\n",
       "      <td>0</td>\n",
       "      <td>0</td>\n",
       "      <td>0</td>\n",
       "      <td>0</td>\n",
       "      <td>1</td>\n",
       "    </tr>\n",
       "    <tr>\n",
       "      <th>4</th>\n",
       "      <td>0001d958c54c6e35</td>\n",
       "      <td>You, sir, are my hero. Any chance you remember...</td>\n",
       "      <td>0</td>\n",
       "      <td>0</td>\n",
       "      <td>0</td>\n",
       "      <td>0</td>\n",
       "      <td>0</td>\n",
       "      <td>0</td>\n",
       "      <td>0</td>\n",
       "      <td>1</td>\n",
       "    </tr>\n",
       "  </tbody>\n",
       "</table>\n",
       "</div>"
      ],
      "text/plain": [
       "                 id                                       comment_text  toxic  \\\n",
       "0  0000997932d777bf  Explanation\\nWhy the edits made under my usern...      0   \n",
       "1  000103f0d9cfb60f  D'aww! He matches this background colour I'm s...      0   \n",
       "2  000113f07ec002fd  Hey man, I'm really not trying to edit war. It...      0   \n",
       "3  0001b41b1c6bb37e  \"\\nMore\\nI can't make any real suggestions on ...      0   \n",
       "4  0001d958c54c6e35  You, sir, are my hero. Any chance you remember...      0   \n",
       "\n",
       "   severe_toxic  obscene  threat  insult  identity_hate  tags  is_clean  \n",
       "0             0        0       0       0              0     0         1  \n",
       "1             0        0       0       0              0     0         1  \n",
       "2             0        0       0       0              0     0         1  \n",
       "3             0        0       0       0              0     0         1  \n",
       "4             0        0       0       0              0     0         1  "
      ]
     },
     "execution_count": 7,
     "metadata": {},
     "output_type": "execute_result"
    }
   ],
   "source": [
    "X.head()"
   ]
  },
  {
   "cell_type": "code",
   "execution_count": 8,
   "id": "a671ff15",
   "metadata": {},
   "outputs": [
    {
     "name": "stdout",
     "output_type": "stream",
     "text": [
      "Total comments: 159571\n",
      "Total clean comments: 143346\n",
      "Total not clean comments: 16225\n"
     ]
    }
   ],
   "source": [
    "total_comm = X.shape[0]\n",
    "total_clean_comm = X[\"is_clean\"].sum()\n",
    "total_not_clean_comm = total_comm - total_clean_comm\n",
    "\n",
    "print(\"Total comments: {}\".format(total_comm))\n",
    "print(\"Total clean comments: {}\".format(total_clean_comm))\n",
    "print(\"Total not clean comments: {}\".format(total_not_clean_comm))"
   ]
  },
  {
   "cell_type": "code",
   "execution_count": 9,
   "id": "059f4a12",
   "metadata": {},
   "outputs": [
    {
     "data": {
      "image/png": "[encoded data removed]",
      "text/plain": [
       "<Figure size 800x600 with 1 Axes>"
      ]
     },
     "metadata": {},
     "output_type": "display_data"
    }
   ],
   "source": [
    "# Visualization of comments\n",
    "f, ax = plt.subplots(figsize=(8, 6))\n",
    "sns.histplot(X[\"is_clean\"], bins=3)\n",
    "ax.set_xticks([0, 1])\n",
    "ax.set_title(\"Clean Comments\")\n",
    "plt.show()"
   ]
  },
  {
   "cell_type": "code",
   "execution_count": 10,
   "id": "65d8d00f",
   "metadata": {},
   "outputs": [
    {
     "name": "stdout",
     "output_type": "stream",
     "text": [
      "toxic            15294\n",
      "severe_toxic      1595\n",
      "obscene           8449\n",
      "threat             478\n",
      "insult            7877\n",
      "identity_hate     1405\n",
      "dtype: int64\n"
     ]
    }
   ],
   "source": [
    "comment_types = X.iloc[:, 2:-2].sum()\n",
    "print(comment_types)"
   ]
  },
  {
   "cell_type": "code",
   "execution_count": 11,
   "id": "0e6e708e",
   "metadata": {},
   "outputs": [
    {
     "data": {
      "image/png": "[encoded data removed]",
      "text/plain": [
       "<Figure size 1200x800 with 1 Axes>"
      ]
     },
     "metadata": {},
     "output_type": "display_data"
    }
   ],
   "source": [
    "f, ax = plt.subplots(figsize=(12, 8))\n",
    "sns.barplot(\n",
    "    x=comment_types.index,\n",
    "    y=comment_types.values,\n",
    "    palette=\"Accent\"\n",
    ")\n",
    "ax.set_title(\"Count per kind of comment\", fontsize=16)\n",
    "ax.set_xlabel(\"Comment type\")\n",
    "ax.set_ylabel(\"Count\")\n",
    "plt.show()"
   ]
  },
  {
   "cell_type": "markdown",
   "id": "bab75ee7",
   "metadata": {},
   "source": [
    "As from the above graph, we notice that the different types of comments are not normally distributed, so we might face a class imbalance problem."
   ]
  },
  {
   "cell_type": "markdown",
   "id": "7ff8a11a",
   "metadata": {},
   "source": [
    "Let's check how many coments have multiple tags"
   ]
  },
  {
   "cell_type": "code",
   "execution_count": 12,
   "id": "21b96b0c",
   "metadata": {},
   "outputs": [
    {
     "name": "stdout",
     "output_type": "stream",
     "text": [
      "0    143346\n",
      "1      6360\n",
      "3      4209\n",
      "2      3480\n",
      "4      1760\n",
      "5       385\n",
      "6        31\n",
      "Name: tags, dtype: int64\n"
     ]
    }
   ],
   "source": [
    "count_tags = X[\"tags\"].value_counts()\n",
    "print(count_tags)"
   ]
  },
  {
   "cell_type": "code",
   "execution_count": 13,
   "id": "49211dad",
   "metadata": {},
   "outputs": [
    {
     "data": {
      "image/png": "[encoded data removed]",
      "text/plain": [
       "<Figure size 1200x800 with 1 Axes>"
      ]
     },
     "metadata": {},
     "output_type": "display_data"
    }
   ],
   "source": [
    "f, ax = plt.subplots(figsize=(12, 8))\n",
    "sns.barplot(\n",
    "    x=count_tags.index,\n",
    "    y=count_tags.values\n",
    ")\n",
    "ax.set_title(\"multiple tags per comment\".title(),\n",
    "            fontsize=18)\n",
    "ax.set_xlabel(\"# of tags\")\n",
    "ax.set_ylabel(\"Count\")\n",
    "plt.show()"
   ]
  },
  {
   "cell_type": "markdown",
   "id": "a62ad5eb",
   "metadata": {},
   "source": [
    "## Relationship between features"
   ]
  },
  {
   "cell_type": "markdown",
   "id": "2d472e70",
   "metadata": {},
   "source": [
    "Let's have a look at the relation between tags."
   ]
  },
  {
   "cell_type": "code",
   "execution_count": 14,
   "id": "8fc3effc",
   "metadata": {},
   "outputs": [
    {
     "data": {
      "text/html": [
       "<div>\n",
       "<style scoped>\n",
       "    .dataframe tbody tr th:only-of-type {\n",
       "        vertical-align: middle;\n",
       "    }\n",
       "\n",
       "    .dataframe tbody tr th {\n",
       "        vertical-align: top;\n",
       "    }\n",
       "\n",
       "    .dataframe thead th {\n",
       "        text-align: right;\n",
       "    }\n",
       "</style>\n",
       "<table border=\"1\" class=\"dataframe\">\n",
       "  <thead>\n",
       "    <tr style=\"text-align: right;\">\n",
       "      <th></th>\n",
       "      <th>toxic</th>\n",
       "      <th>severe_toxic</th>\n",
       "      <th>obscene</th>\n",
       "      <th>threat</th>\n",
       "      <th>insult</th>\n",
       "      <th>identity_hate</th>\n",
       "    </tr>\n",
       "  </thead>\n",
       "  <tbody>\n",
       "    <tr>\n",
       "      <th>toxic</th>\n",
       "      <td>1.000000</td>\n",
       "      <td>0.308619</td>\n",
       "      <td>0.676515</td>\n",
       "      <td>0.157058</td>\n",
       "      <td>0.647518</td>\n",
       "      <td>0.266009</td>\n",
       "    </tr>\n",
       "    <tr>\n",
       "      <th>severe_toxic</th>\n",
       "      <td>0.308619</td>\n",
       "      <td>1.000000</td>\n",
       "      <td>0.403014</td>\n",
       "      <td>0.123601</td>\n",
       "      <td>0.375807</td>\n",
       "      <td>0.201600</td>\n",
       "    </tr>\n",
       "    <tr>\n",
       "      <th>obscene</th>\n",
       "      <td>0.676515</td>\n",
       "      <td>0.403014</td>\n",
       "      <td>1.000000</td>\n",
       "      <td>0.141179</td>\n",
       "      <td>0.741272</td>\n",
       "      <td>0.286867</td>\n",
       "    </tr>\n",
       "    <tr>\n",
       "      <th>threat</th>\n",
       "      <td>0.157058</td>\n",
       "      <td>0.123601</td>\n",
       "      <td>0.141179</td>\n",
       "      <td>1.000000</td>\n",
       "      <td>0.150022</td>\n",
       "      <td>0.115128</td>\n",
       "    </tr>\n",
       "    <tr>\n",
       "      <th>insult</th>\n",
       "      <td>0.647518</td>\n",
       "      <td>0.375807</td>\n",
       "      <td>0.741272</td>\n",
       "      <td>0.150022</td>\n",
       "      <td>1.000000</td>\n",
       "      <td>0.337736</td>\n",
       "    </tr>\n",
       "    <tr>\n",
       "      <th>identity_hate</th>\n",
       "      <td>0.266009</td>\n",
       "      <td>0.201600</td>\n",
       "      <td>0.286867</td>\n",
       "      <td>0.115128</td>\n",
       "      <td>0.337736</td>\n",
       "      <td>1.000000</td>\n",
       "    </tr>\n",
       "  </tbody>\n",
       "</table>\n",
       "</div>"
      ],
      "text/plain": [
       "                  toxic  severe_toxic   obscene    threat    insult  \\\n",
       "toxic          1.000000      0.308619  0.676515  0.157058  0.647518   \n",
       "severe_toxic   0.308619      1.000000  0.403014  0.123601  0.375807   \n",
       "obscene        0.676515      0.403014  1.000000  0.141179  0.741272   \n",
       "threat         0.157058      0.123601  0.141179  1.000000  0.150022   \n",
       "insult         0.647518      0.375807  0.741272  0.150022  1.000000   \n",
       "identity_hate  0.266009      0.201600  0.286867  0.115128  0.337736   \n",
       "\n",
       "               identity_hate  \n",
       "toxic               0.266009  \n",
       "severe_toxic        0.201600  \n",
       "obscene             0.286867  \n",
       "threat              0.115128  \n",
       "insult              0.337736  \n",
       "identity_hate       1.000000  "
      ]
     },
     "execution_count": 14,
     "metadata": {},
     "output_type": "execute_result"
    }
   ],
   "source": [
    "# Correlation plot\n",
    "# Isolate columns for our correlation matrix.\n",
    "corr_columns = [\"toxic\", \"severe_toxic\", \"obscene\", \"threat\", \"insult\", \"identity_hate\"]\n",
    "corr_df = X[corr_columns]\n",
    "\n",
    "# Correlation matrix\n",
    "corr = corr_df.corr()\n",
    "corr"
   ]
  },
  {
   "cell_type": "markdown",
   "id": "d217cf23",
   "metadata": {},
   "source": [
    "We can see that there is not a negative correlation between tags"
   ]
  },
  {
   "cell_type": "code",
   "execution_count": 15,
   "id": "e57cd554",
   "metadata": {},
   "outputs": [
    {
     "data": {
      "image/png": "[encoded data removed]",
      "text/plain": [
       "<Figure size 1200x800 with 2 Axes>"
      ]
     },
     "metadata": {},
     "output_type": "display_data"
    }
   ],
   "source": [
    "# Visualize correlation matrix\n",
    "f, ax = plt.subplots(figsize=(12, 8))\n",
    "sns.heatmap(\n",
    "    corr,\n",
    "    annot=True,\n",
    "    linewidths=0.5,\n",
    "    ax=ax,\n",
    "    vmin=0,\n",
    "    vmax=1\n",
    ")\n",
    "plt.show()"
   ]
  },
  {
   "cell_type": "markdown",
   "id": "53eafa01",
   "metadata": {},
   "source": [
    "The above plot indicates a pattern of co-occurrance. It does not apply here, since the variables involved are `categorical` variables."
   ]
  },
  {
   "cell_type": "code",
   "execution_count": 16,
   "id": "34259282",
   "metadata": {},
   "outputs": [
    {
     "name": "stdout",
     "output_type": "stream",
     "text": [
      "\n",
      "* toxic comment:\n",
      "My Band Page's deletion. You thought I was gone. \n",
      "\n",
      "Deleting the comment I posted on your 'talk page' does not delete my feelings for your hasty decision to delete my page. You, sir, are still a cock-sucking douche fuck. Sit back for a second and think about what your life has become. ............ Done? That didn't take long did it? Nope. Because, as I am most certainly aware, your life is a shitstorm of sitting in front of the computer masturbating to fictional creatures. Your attempts to get rid of me are mediocre at best. You are constantly sucking the dick of failure. You don't want a personal attack, huh? Well, too bad, Fuckcock McDickerson. You've got one. From me. You can go ahead and delete my profile from wikipedia. I'll just make another one and come right back to 'Syrthiss's talk page and insult the dick off of you. How could you shatter the dreams of an innocent eighteen year old college freshman trying to make a name for his band. Does that make you happy? Fucking with people because you're an overweight, single, old man in a dead-end job. Did you spot that perhaps someone else was going to follow his dreams and you were trying to hold him back so somebody else could suffer like you? Yes you did. I don't make empty threats, so I won't be saying anything along the lines of 'i'll hurt you' or 'i'll eat the children from within your sister's womb', but I will say that you are a asshole, son-of-a-bitch, mother fucking cock sucker. So, go eat some more food and drown your sorrows you premature ejaculating, bald headed fuck.\n",
      "\n",
      "You should do something nice for yourself, maybe go grab a couple of Horny Goat Weeds from your local convenience store and jack off for a little longer than three minutes tonight.\n",
      "\n",
      "Sincerely,\n",
      "An Asshole That's Better Than You In Every Way.\n",
      "\n",
      "* severe_toxic comment:\n",
      "72.94.188.92 \n",
      "\n",
      "Yo what the fuck is your problem fucking around with my page! leave it the fuck alone!\n",
      "\n",
      "* obscene comment:\n",
      "A pair of jew-hating weiner nazi schmucks.\n",
      "\n",
      "* threat comment:\n",
      "Why are you still here? Can you not find anything more important to do, like killing yourself?\n",
      "\n",
      "* insult comment:\n",
      "Fuck you, block me, you faggot pussy!\n",
      "\n",
      "* identity_hate comment:\n",
      "Bla bla bla....suck it Irishguy =)\n",
      "\n",
      "* is_clean comment:\n",
      "Explanation\n",
      "Why the edits made under my username Hardcore Metallica Fan were reverted? They weren't vandalisms, just closure on some GAs after I voted at New York Dolls FAC. And please don't remove the template from the talk page since I'm retired now.89.205.38.27\n"
     ]
    }
   ],
   "source": [
    "column_names = corr_columns + [\"is_clean\"]\n",
    "for col in column_names:\n",
    "    print(\"\\n* {} comment:\".format(col))\n",
    "    print(X[X[col] == 1][\"comment_text\"].iloc[np.random.randint(0, 20)])"
   ]
  },
  {
   "cell_type": "markdown",
   "id": "e903c7b9",
   "metadata": {},
   "source": [
    "We can see that each comment is includes alphanumeric and special symbols."
   ]
  },
  {
   "cell_type": "markdown",
   "id": "c5be45dd",
   "metadata": {},
   "source": [
    "#### Save DataFrame"
   ]
  },
  {
   "cell_type": "code",
   "execution_count": 17,
   "id": "d811efcd",
   "metadata": {},
   "outputs": [
    {
     "ename": "AttributeError",
     "evalue": "'DataFrame' object has no attribute 'to'",
     "output_type": "error",
     "traceback": [
      "\u001b[0;31m---------------------------------------------------------------------------\u001b[0m",
      "\u001b[0;31mAttributeError\u001b[0m                            Traceback (most recent call last)",
      "\u001b[0;32m/var/folders/4t/70r80qk56rsff476xrl_t1r80000gn/T/ipykernel_1225/3896906588.py\u001b[0m in \u001b[0;36m<cell line: 1>\u001b[0;34m()\u001b[0m\n\u001b[0;32m----> 1\u001b[0;31m \u001b[0mX\u001b[0m\u001b[0;34m.\u001b[0m\u001b[0mto\u001b[0m\u001b[0;34m\u001b[0m\u001b[0;34m\u001b[0m\u001b[0m\n\u001b[0m",
      "\u001b[0;32m/opt/anaconda3/lib/python3.9/site-packages/pandas/core/generic.py\u001b[0m in \u001b[0;36m__getattr__\u001b[0;34m(self, name)\u001b[0m\n\u001b[1;32m   5905\u001b[0m         ):\n\u001b[1;32m   5906\u001b[0m             \u001b[0;32mreturn\u001b[0m \u001b[0mself\u001b[0m\u001b[0;34m[\u001b[0m\u001b[0mname\u001b[0m\u001b[0;34m]\u001b[0m\u001b[0;34m\u001b[0m\u001b[0;34m\u001b[0m\u001b[0m\n\u001b[0;32m-> 5907\u001b[0;31m         \u001b[0;32mreturn\u001b[0m \u001b[0mobject\u001b[0m\u001b[0;34m.\u001b[0m\u001b[0m__getattribute__\u001b[0m\u001b[0;34m(\u001b[0m\u001b[0mself\u001b[0m\u001b[0;34m,\u001b[0m \u001b[0mname\u001b[0m\u001b[0;34m)\u001b[0m\u001b[0;34m\u001b[0m\u001b[0;34m\u001b[0m\u001b[0m\n\u001b[0m\u001b[1;32m   5908\u001b[0m \u001b[0;34m\u001b[0m\u001b[0m\n\u001b[1;32m   5909\u001b[0m     \u001b[0;32mdef\u001b[0m \u001b[0m__setattr__\u001b[0m\u001b[0;34m(\u001b[0m\u001b[0mself\u001b[0m\u001b[0;34m,\u001b[0m \u001b[0mname\u001b[0m\u001b[0;34m:\u001b[0m \u001b[0mstr\u001b[0m\u001b[0;34m,\u001b[0m \u001b[0mvalue\u001b[0m\u001b[0;34m)\u001b[0m \u001b[0;34m->\u001b[0m \u001b[0;32mNone\u001b[0m\u001b[0;34m:\u001b[0m\u001b[0;34m\u001b[0m\u001b[0;34m\u001b[0m\u001b[0m\n",
      "\u001b[0;31mAttributeError\u001b[0m: 'DataFrame' object has no attribute 'to'"
     ]
    }
   ],
   "source": [
    "X.to_csv(path_or_buf=\"../notebooks/EDA_\")"
   ]
  }
 ],
 "metadata": {
  "kernelspec": {
   "display_name": "Python 3 (ipykernel)",
   "language": "python",
   "name": "python3"
  },
  "language_info": {
   "codemirror_mode": {
    "name": "ipython",
    "version": 3
   },
   "file_extension": ".py",
   "mimetype": "text/x-python",
   "name": "python",
   "nbconvert_exporter": "python",
   "pygments_lexer": "ipython3",
   "version": "3.9.13"
  }
 },
 "nbformat": 4,
 "nbformat_minor": 5
}
