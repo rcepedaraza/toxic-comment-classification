{
 "cells": [
  {
   "cell_type": "markdown",
   "id": "da7f3787",
   "metadata": {},
   "source": [
    "## Preprocessing and Training Data Development"
   ]
  },
  {
   "cell_type": "markdown",
   "id": "dd55ecbe",
   "metadata": {},
   "source": [
    "### Import Libraries"
   ]
  },
  {
   "cell_type": "code",
   "execution_count": 1,
   "id": "7d3243cf",
   "metadata": {},
   "outputs": [],
   "source": [
    "import pandas as pd\n",
    "import numpy as np\n",
    "import seaborn as sns\n",
    "import matplotlib.pyplot as plt\n",
    "\n",
    "from sklearn.feature_extraction.text import CountVectorizer, TfidfVectorizer # Text processing"
   ]
  },
  {
   "cell_type": "markdown",
   "id": "3014bb76",
   "metadata": {},
   "source": [
    "### Load Data"
   ]
  },
  {
   "cell_type": "code",
   "execution_count": 2,
   "id": "2bfb7110",
   "metadata": {},
   "outputs": [
    {
     "data": {
      "text/html": [
       "<div>\n",
       "<style scoped>\n",
       "    .dataframe tbody tr th:only-of-type {\n",
       "        vertical-align: middle;\n",
       "    }\n",
       "\n",
       "    .dataframe tbody tr th {\n",
       "        vertical-align: top;\n",
       "    }\n",
       "\n",
       "    .dataframe thead th {\n",
       "        text-align: right;\n",
       "    }\n",
       "</style>\n",
       "<table border=\"1\" class=\"dataframe\">\n",
       "  <thead>\n",
       "    <tr style=\"text-align: right;\">\n",
       "      <th></th>\n",
       "      <th>id</th>\n",
       "      <th>comment_text</th>\n",
       "      <th>toxic</th>\n",
       "      <th>severe_toxic</th>\n",
       "      <th>obscene</th>\n",
       "      <th>threat</th>\n",
       "      <th>insult</th>\n",
       "      <th>identity_hate</th>\n",
       "      <th>tags</th>\n",
       "      <th>is_clean</th>\n",
       "    </tr>\n",
       "  </thead>\n",
       "  <tbody>\n",
       "    <tr>\n",
       "      <th>0</th>\n",
       "      <td>0000997932d777bf</td>\n",
       "      <td>Explanation\\nWhy the edits made under my usern...</td>\n",
       "      <td>0</td>\n",
       "      <td>0</td>\n",
       "      <td>0</td>\n",
       "      <td>0</td>\n",
       "      <td>0</td>\n",
       "      <td>0</td>\n",
       "      <td>0</td>\n",
       "      <td>1</td>\n",
       "    </tr>\n",
       "    <tr>\n",
       "      <th>1</th>\n",
       "      <td>000103f0d9cfb60f</td>\n",
       "      <td>D'aww! He matches this background colour I'm s...</td>\n",
       "      <td>0</td>\n",
       "      <td>0</td>\n",
       "      <td>0</td>\n",
       "      <td>0</td>\n",
       "      <td>0</td>\n",
       "      <td>0</td>\n",
       "      <td>0</td>\n",
       "      <td>1</td>\n",
       "    </tr>\n",
       "    <tr>\n",
       "      <th>2</th>\n",
       "      <td>000113f07ec002fd</td>\n",
       "      <td>Hey man, I'm really not trying to edit war. It...</td>\n",
       "      <td>0</td>\n",
       "      <td>0</td>\n",
       "      <td>0</td>\n",
       "      <td>0</td>\n",
       "      <td>0</td>\n",
       "      <td>0</td>\n",
       "      <td>0</td>\n",
       "      <td>1</td>\n",
       "    </tr>\n",
       "    <tr>\n",
       "      <th>3</th>\n",
       "      <td>0001b41b1c6bb37e</td>\n",
       "      <td>\"\\nMore\\nI can't make any real suggestions on ...</td>\n",
       "      <td>0</td>\n",
       "      <td>0</td>\n",
       "      <td>0</td>\n",
       "      <td>0</td>\n",
       "      <td>0</td>\n",
       "      <td>0</td>\n",
       "      <td>0</td>\n",
       "      <td>1</td>\n",
       "    </tr>\n",
       "    <tr>\n",
       "      <th>4</th>\n",
       "      <td>0001d958c54c6e35</td>\n",
       "      <td>You, sir, are my hero. Any chance you remember...</td>\n",
       "      <td>0</td>\n",
       "      <td>0</td>\n",
       "      <td>0</td>\n",
       "      <td>0</td>\n",
       "      <td>0</td>\n",
       "      <td>0</td>\n",
       "      <td>0</td>\n",
       "      <td>1</td>\n",
       "    </tr>\n",
       "  </tbody>\n",
       "</table>\n",
       "</div>"
      ],
      "text/plain": [
       "                 id                                       comment_text  toxic  \\\n",
       "0  0000997932d777bf  Explanation\\nWhy the edits made under my usern...      0   \n",
       "1  000103f0d9cfb60f  D'aww! He matches this background colour I'm s...      0   \n",
       "2  000113f07ec002fd  Hey man, I'm really not trying to edit war. It...      0   \n",
       "3  0001b41b1c6bb37e  \"\\nMore\\nI can't make any real suggestions on ...      0   \n",
       "4  0001d958c54c6e35  You, sir, are my hero. Any chance you remember...      0   \n",
       "\n",
       "   severe_toxic  obscene  threat  insult  identity_hate  tags  is_clean  \n",
       "0             0        0       0       0              0     0         1  \n",
       "1             0        0       0       0              0     0         1  \n",
       "2             0        0       0       0              0     0         1  \n",
       "3             0        0       0       0              0     0         1  \n",
       "4             0        0       0       0              0     0         1  "
      ]
     },
     "execution_count": 2,
     "metadata": {},
     "output_type": "execute_result"
    }
   ],
   "source": [
    "train_file_path = \"../data/EDA_train_df.csv\"\n",
    "test_file_path = \"../data/test.csv\"\n",
    "train_df = pd.read_csv(train_file_path)\n",
    "test_df = pd.read_csv(test_file_path).fillna(\" \")\n",
    "\n",
    "# Examine first 5 train observarions\n",
    "train_df.head()"
   ]
  },
  {
   "cell_type": "code",
   "execution_count": 3,
   "id": "f20227d0",
   "metadata": {},
   "outputs": [
    {
     "data": {
      "text/html": [
       "<div>\n",
       "<style scoped>\n",
       "    .dataframe tbody tr th:only-of-type {\n",
       "        vertical-align: middle;\n",
       "    }\n",
       "\n",
       "    .dataframe tbody tr th {\n",
       "        vertical-align: top;\n",
       "    }\n",
       "\n",
       "    .dataframe thead th {\n",
       "        text-align: right;\n",
       "    }\n",
       "</style>\n",
       "<table border=\"1\" class=\"dataframe\">\n",
       "  <thead>\n",
       "    <tr style=\"text-align: right;\">\n",
       "      <th></th>\n",
       "      <th>id</th>\n",
       "      <th>comment_text</th>\n",
       "    </tr>\n",
       "  </thead>\n",
       "  <tbody>\n",
       "    <tr>\n",
       "      <th>0</th>\n",
       "      <td>00001cee341fdb12</td>\n",
       "      <td>Yo bitch Ja Rule is more succesful then you'll...</td>\n",
       "    </tr>\n",
       "    <tr>\n",
       "      <th>1</th>\n",
       "      <td>0000247867823ef7</td>\n",
       "      <td>== From RfC == \\n\\n The title is fine as it is...</td>\n",
       "    </tr>\n",
       "    <tr>\n",
       "      <th>2</th>\n",
       "      <td>00013b17ad220c46</td>\n",
       "      <td>\" \\n\\n == Sources == \\n\\n * Zawe Ashton on Lap...</td>\n",
       "    </tr>\n",
       "    <tr>\n",
       "      <th>3</th>\n",
       "      <td>00017563c3f7919a</td>\n",
       "      <td>:If you have a look back at the source, the in...</td>\n",
       "    </tr>\n",
       "    <tr>\n",
       "      <th>4</th>\n",
       "      <td>00017695ad8997eb</td>\n",
       "      <td>I don't anonymously edit articles at all.</td>\n",
       "    </tr>\n",
       "  </tbody>\n",
       "</table>\n",
       "</div>"
      ],
      "text/plain": [
       "                 id                                       comment_text\n",
       "0  00001cee341fdb12  Yo bitch Ja Rule is more succesful then you'll...\n",
       "1  0000247867823ef7  == From RfC == \\n\\n The title is fine as it is...\n",
       "2  00013b17ad220c46  \" \\n\\n == Sources == \\n\\n * Zawe Ashton on Lap...\n",
       "3  00017563c3f7919a  :If you have a look back at the source, the in...\n",
       "4  00017695ad8997eb          I don't anonymously edit articles at all."
      ]
     },
     "execution_count": 3,
     "metadata": {},
     "output_type": "execute_result"
    }
   ],
   "source": [
    "# Examine first 5 test observations\n",
    "test_df.head()"
   ]
  },
  {
   "cell_type": "markdown",
   "id": "c1a87140",
   "metadata": {},
   "source": [
    "At this point, the dataset has been preprocessed. It does not have null values, nor values that do not make sense. We have added the column `is_clean` that has the value of `1` when `comment_text` is not labeled as an *offensive* comment."
   ]
  },
  {
   "cell_type": "markdown",
   "id": "1c7cfcdc",
   "metadata": {},
   "source": [
    "### Dealing with Text Data"
   ]
  },
  {
   "cell_type": "code",
   "execution_count": 4,
   "id": "e97b93b9",
   "metadata": {},
   "outputs": [],
   "source": [
    "# Copy train dataset for manipulation\n",
    "train_comments_df = train_df[[\"comment_text\"]].copy(deep=True)\n",
    "\n",
    "# Copy test dataset for transformation\n",
    "test_comments_df = test_df[[\"comment_text\"]].copy(deep=True)"
   ]
  },
  {
   "cell_type": "code",
   "execution_count": 5,
   "id": "481cebf8",
   "metadata": {},
   "outputs": [
    {
     "name": "stdout",
     "output_type": "stream",
     "text": [
      "Train dataset:  (159571, 1)\n",
      "Test dataset:  (153164, 1)\n"
     ]
    }
   ],
   "source": [
    "# Print shape of both comments dataframes\n",
    "print(\"Train dataset: \", train_comments_df.shape)\n",
    "print(\"Test dataset: \", test_comments_df.shape)"
   ]
  },
  {
   "cell_type": "code",
   "execution_count": 6,
   "id": "30746f39",
   "metadata": {},
   "outputs": [
    {
     "name": "stdout",
     "output_type": "stream",
     "text": [
      "                                        comment_text\n",
      "0  Explanation\\nWhy the edits made under my usern...\n",
      "1  D'aww! He matches this background colour I'm s...\n",
      "2  Hey man, I'm really not trying to edit war. It...\n",
      "3  \"\\nMore\\nI can't make any real suggestions on ...\n",
      "4  You, sir, are my hero. Any chance you remember...\n",
      "5  \"\\n\\nCongratulations from me as well, use the ...\n"
     ]
    }
   ],
   "source": [
    "# Print a sample comment.\n",
    "print(train_comments_df.loc[:5])"
   ]
  },
  {
   "cell_type": "code",
   "execution_count": 7,
   "id": "ccaf2698",
   "metadata": {},
   "outputs": [],
   "source": [
    "def prep_comments(df):\n",
    "\n",
    "    # Remove special characters from comments\n",
    "    df[\"comment_text\"] = df[\"comment_text\"].str.replace(\"[^a-zA-Z]\", \" \", regex=True)\n",
    "\n",
    "    # Convert to lower case\n",
    "    df[\"comment_text\"] = df[\"comment_text\"].str.lower()\n",
    "\n",
    "    # Length of text\n",
    "    df[\"char_count\"] = df[\"comment_text\"].str.len()\n",
    "\n",
    "    # Word counts\n",
    "    df[\"word_count\"] = df[\"comment_text\"].str.split().str.len()\n",
    "\n",
    "    # Average length of word\n",
    "    df[\"avg_word_len\"] = df[\"char_count\"] / df[\"word_count\"]\n",
    "    return df\n",
    "\n",
    "# Preprocess train and test comments\n",
    "train_comments_df = prep_comments(train_comments_df)\n",
    "test_comments_df = prep_comments(test_comments_df)"
   ]
  },
  {
   "cell_type": "code",
   "execution_count": 8,
   "id": "048357a6",
   "metadata": {},
   "outputs": [
    {
     "data": {
      "text/html": [
       "<div>\n",
       "<style scoped>\n",
       "    .dataframe tbody tr th:only-of-type {\n",
       "        vertical-align: middle;\n",
       "    }\n",
       "\n",
       "    .dataframe tbody tr th {\n",
       "        vertical-align: top;\n",
       "    }\n",
       "\n",
       "    .dataframe thead th {\n",
       "        text-align: right;\n",
       "    }\n",
       "</style>\n",
       "<table border=\"1\" class=\"dataframe\">\n",
       "  <thead>\n",
       "    <tr style=\"text-align: right;\">\n",
       "      <th></th>\n",
       "      <th>comment_text</th>\n",
       "      <th>char_count</th>\n",
       "      <th>word_count</th>\n",
       "      <th>avg_word_len</th>\n",
       "    </tr>\n",
       "  </thead>\n",
       "  <tbody>\n",
       "    <tr>\n",
       "      <th>0</th>\n",
       "      <td>explanation why the edits made under my userna...</td>\n",
       "      <td>264</td>\n",
       "      <td>46</td>\n",
       "      <td>5.739130</td>\n",
       "    </tr>\n",
       "    <tr>\n",
       "      <th>1</th>\n",
       "      <td>d aww  he matches this background colour i m s...</td>\n",
       "      <td>112</td>\n",
       "      <td>16</td>\n",
       "      <td>7.000000</td>\n",
       "    </tr>\n",
       "    <tr>\n",
       "      <th>2</th>\n",
       "      <td>hey man  i m really not trying to edit war  it...</td>\n",
       "      <td>233</td>\n",
       "      <td>44</td>\n",
       "      <td>5.295455</td>\n",
       "    </tr>\n",
       "    <tr>\n",
       "      <th>3</th>\n",
       "      <td>more i can t make any real suggestions on im...</td>\n",
       "      <td>622</td>\n",
       "      <td>116</td>\n",
       "      <td>5.362069</td>\n",
       "    </tr>\n",
       "    <tr>\n",
       "      <th>4</th>\n",
       "      <td>you  sir  are my hero  any chance you remember...</td>\n",
       "      <td>67</td>\n",
       "      <td>14</td>\n",
       "      <td>4.785714</td>\n",
       "    </tr>\n",
       "  </tbody>\n",
       "</table>\n",
       "</div>"
      ],
      "text/plain": [
       "                                        comment_text  char_count  word_count  \\\n",
       "0  explanation why the edits made under my userna...         264          46   \n",
       "1  d aww  he matches this background colour i m s...         112          16   \n",
       "2  hey man  i m really not trying to edit war  it...         233          44   \n",
       "3    more i can t make any real suggestions on im...         622         116   \n",
       "4  you  sir  are my hero  any chance you remember...          67          14   \n",
       "\n",
       "   avg_word_len  \n",
       "0      5.739130  \n",
       "1      7.000000  \n",
       "2      5.295455  \n",
       "3      5.362069  \n",
       "4      4.785714  "
      ]
     },
     "execution_count": 8,
     "metadata": {},
     "output_type": "execute_result"
    }
   ],
   "source": [
    "train_comments_df.head()"
   ]
  },
  {
   "cell_type": "code",
   "execution_count": 9,
   "id": "f831e27f",
   "metadata": {},
   "outputs": [
    {
     "data": {
      "text/html": [
       "<div>\n",
       "<style scoped>\n",
       "    .dataframe tbody tr th:only-of-type {\n",
       "        vertical-align: middle;\n",
       "    }\n",
       "\n",
       "    .dataframe tbody tr th {\n",
       "        vertical-align: top;\n",
       "    }\n",
       "\n",
       "    .dataframe thead th {\n",
       "        text-align: right;\n",
       "    }\n",
       "</style>\n",
       "<table border=\"1\" class=\"dataframe\">\n",
       "  <thead>\n",
       "    <tr style=\"text-align: right;\">\n",
       "      <th></th>\n",
       "      <th>comment_text</th>\n",
       "      <th>char_count</th>\n",
       "      <th>word_count</th>\n",
       "      <th>avg_word_len</th>\n",
       "    </tr>\n",
       "  </thead>\n",
       "  <tbody>\n",
       "    <tr>\n",
       "      <th>0</th>\n",
       "      <td>yo bitch ja rule is more succesful then you ll...</td>\n",
       "      <td>367</td>\n",
       "      <td>75</td>\n",
       "      <td>4.893333</td>\n",
       "    </tr>\n",
       "    <tr>\n",
       "      <th>1</th>\n",
       "      <td>from rfc       the title is fine as it is  ...</td>\n",
       "      <td>50</td>\n",
       "      <td>10</td>\n",
       "      <td>5.000000</td>\n",
       "    </tr>\n",
       "    <tr>\n",
       "      <th>2</th>\n",
       "      <td>sources         zawe ashton on lapland...</td>\n",
       "      <td>54</td>\n",
       "      <td>5</td>\n",
       "      <td>10.800000</td>\n",
       "    </tr>\n",
       "    <tr>\n",
       "      <th>3</th>\n",
       "      <td>if you have a look back at the source  the in...</td>\n",
       "      <td>205</td>\n",
       "      <td>39</td>\n",
       "      <td>5.256410</td>\n",
       "    </tr>\n",
       "    <tr>\n",
       "      <th>4</th>\n",
       "      <td>i don t anonymously edit articles at all</td>\n",
       "      <td>41</td>\n",
       "      <td>8</td>\n",
       "      <td>5.125000</td>\n",
       "    </tr>\n",
       "  </tbody>\n",
       "</table>\n",
       "</div>"
      ],
      "text/plain": [
       "                                        comment_text  char_count  word_count  \\\n",
       "0  yo bitch ja rule is more succesful then you ll...         367          75   \n",
       "1     from rfc       the title is fine as it is  ...          50          10   \n",
       "2          sources         zawe ashton on lapland...          54           5   \n",
       "3   if you have a look back at the source  the in...         205          39   \n",
       "4          i don t anonymously edit articles at all           41           8   \n",
       "\n",
       "   avg_word_len  \n",
       "0      4.893333  \n",
       "1      5.000000  \n",
       "2     10.800000  \n",
       "3      5.256410  \n",
       "4      5.125000  "
      ]
     },
     "execution_count": 9,
     "metadata": {},
     "output_type": "execute_result"
    }
   ],
   "source": [
    "test_comments_df.head()"
   ]
  },
  {
   "cell_type": "markdown",
   "id": "15ff3d7f",
   "metadata": {},
   "source": [
    "### Vectorize text with scikit-learn"
   ]
  },
  {
   "cell_type": "code",
   "execution_count": 10,
   "id": "1ebcbd66",
   "metadata": {},
   "outputs": [],
   "source": [
    "# Initializing the vectorizer\n",
    "vectorizer = TfidfVectorizer(stop_words=\"english\",\n",
    "                             max_df=0.5,\n",
    "                             min_df=5 ,\n",
    "                             ngram_range=(1, 2),\n",
    "                             max_features=1000)\n",
    "\n",
    "# Transforming text\n",
    "vectorizer.fit(train_comments_df[\"comment_text\"])\n",
    "train_comment_trans = vectorizer.transform(train_comments_df[\"comment_text\"]).toarray()\n",
    "test_comment_trans = vectorizer.transform(test_comments_df[\"comment_text\"]).toarray()"
   ]
  },
  {
   "cell_type": "code",
   "execution_count": 11,
   "id": "ae4dbf65",
   "metadata": {},
   "outputs": [
    {
     "name": "stdout",
     "output_type": "stream",
     "text": [
      "Vectorized train DataFrame:  (159571, 1000)\n",
      "Vectorized test DataFrame:  (153164, 1000)\n"
     ]
    }
   ],
   "source": [
    "print(\"Vectorized train DataFrame: \", train_comment_trans.shape)\n",
    "print(\"Vectorized test DataFrame: \", test_comment_trans.shape)"
   ]
  },
  {
   "cell_type": "code",
   "execution_count": 12,
   "id": "e31cee1a",
   "metadata": {},
   "outputs": [],
   "source": [
    "# Create DataFrames with vectorized text\n",
    "train_vec_df = pd.DataFrame(train_comment_trans, columns=vectorizer.get_feature_names_out())\n",
    "test_vec_df = pd.DataFrame(test_comment_trans, columns=vectorizer.get_feature_names_out())"
   ]
  },
  {
   "cell_type": "code",
   "execution_count": 13,
   "id": "6010c908",
   "metadata": {},
   "outputs": [],
   "source": [
    "# Concatenate DataFrames\n",
    "train_concat_df = pd.concat([train_comments_df, train_vec_df], axis=1)\n",
    "test_concat_df = pd.concat([test_comments_df, test_vec_df], axis=1)"
   ]
  },
  {
   "cell_type": "markdown",
   "id": "a7945ac9",
   "metadata": {},
   "source": [
    "### Save CSV files for modeling"
   ]
  },
  {
   "cell_type": "code",
   "execution_count": 14,
   "id": "e33254e5",
   "metadata": {},
   "outputs": [],
   "source": [
    "train_concat_df.to_csv(\"../data/train_ready.csv\")\n",
    "test_concat_df.to_csv(\"../data/test_ready.csv\")"
   ]
  }
 ],
 "metadata": {
  "kernelspec": {
   "display_name": "Python 3 (ipykernel)",
   "language": "python",
   "name": "python3"
  },
  "language_info": {
   "codemirror_mode": {
    "name": "ipython",
    "version": 3
   },
   "file_extension": ".py",
   "mimetype": "text/x-python",
   "name": "python",
   "nbconvert_exporter": "python",
   "pygments_lexer": "ipython3",
   "version": "3.9.13"
  }
 },
 "nbformat": 4,
 "nbformat_minor": 5
}
